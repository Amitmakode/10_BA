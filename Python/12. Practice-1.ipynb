{
 "cells": [
  {
   "cell_type": "code",
   "execution_count": 1,
   "id": "08c612f7-1aea-462e-83a7-1cdf9e4ae526",
   "metadata": {},
   "outputs": [],
   "source": [
    "var = \"analysis\""
   ]
  },
  {
   "cell_type": "code",
   "execution_count": 2,
   "id": "41f20754-c2d4-41ba-83c3-61b1e4bfd341",
   "metadata": {},
   "outputs": [
    {
     "name": "stdout",
     "output_type": "stream",
     "text": [
      "a\n",
      "n\n",
      "a\n",
      "l\n",
      "y\n",
      "s\n",
      "i\n",
      "s\n"
     ]
    }
   ],
   "source": [
    "for i in var:\n",
    "    print(i)"
   ]
  },
  {
   "cell_type": "code",
   "execution_count": 3,
   "id": "4c34b81a-61fa-4a37-a8c4-70d9d2772440",
   "metadata": {},
   "outputs": [
    {
     "data": {
      "text/plain": [
       "9"
      ]
     },
     "execution_count": 3,
     "metadata": {},
     "output_type": "execute_result"
    }
   ],
   "source": [
    "len(var)+1"
   ]
  },
  {
   "cell_type": "code",
   "execution_count": 4,
   "id": "b5ac30c4-e527-47f1-80a2-1c586f73ff6f",
   "metadata": {},
   "outputs": [
    {
     "data": {
      "text/plain": [
       "8"
      ]
     },
     "execution_count": 4,
     "metadata": {},
     "output_type": "execute_result"
    }
   ],
   "source": [
    "len(var)"
   ]
  },
  {
   "cell_type": "code",
   "execution_count": 5,
   "id": "00daed34-d9ff-4f6a-be8b-bbbb9ec4b8d0",
   "metadata": {},
   "outputs": [
    {
     "name": "stdout",
     "output_type": "stream",
     "text": [
      "d\n",
      "a\n",
      "t\n",
      "a\n"
     ]
    }
   ],
   "source": [
    "var = \"data\"\n",
    "i = 0 \n",
    "while len(var) <= len(var):\n",
    "    print(var[i])\n",
    "    i+=1\n",
    "    if i == len(var):\n",
    "        break"
   ]
  },
  {
   "cell_type": "code",
   "execution_count": 6,
   "id": "5f422eeb-ee36-4557-a833-35d094c78029",
   "metadata": {},
   "outputs": [],
   "source": [
    "var = \"Information\""
   ]
  },
  {
   "cell_type": "code",
   "execution_count": 7,
   "id": "dd59f3d9-d5ed-4603-bece-7cdd9a858baa",
   "metadata": {},
   "outputs": [
    {
     "name": "stdout",
     "output_type": "stream",
     "text": [
      "I\n",
      "n\n",
      "f\n",
      "o\n",
      "r\n",
      "m\n",
      "a\n",
      "t\n",
      "i\n",
      "o\n",
      "n\n"
     ]
    }
   ],
   "source": [
    "i = 0\n",
    "while i < len(var):\n",
    "    print(var[i])\n",
    "    i+=1"
   ]
  },
  {
   "cell_type": "code",
   "execution_count": 8,
   "id": "1c6f0e1a-c01e-44c2-bfe9-b12f1cc0169b",
   "metadata": {},
   "outputs": [
    {
     "ename": "SyntaxError",
     "evalue": "invalid syntax (93251083.py, line 1)",
     "output_type": "error",
     "traceback": [
      "\u001b[1;36m  Cell \u001b[1;32mIn[8], line 1\u001b[1;36m\u001b[0m\n\u001b[1;33m    Count Vowels: Write a program that takes a string as input and counts the number of vowels (a, e, i, o, u) in it.\u001b[0m\n\u001b[1;37m          ^\u001b[0m\n\u001b[1;31mSyntaxError\u001b[0m\u001b[1;31m:\u001b[0m invalid syntax\n"
     ]
    }
   ],
   "source": [
    "Count Vowels: Write a program that takes a string as input and counts the number of vowels (a, e, i, o, u) in it."
   ]
  },
  {
   "cell_type": "code",
   "execution_count": 9,
   "id": "1ea9ae63-e4f8-4f6f-b831-36da2dcc3d26",
   "metadata": {},
   "outputs": [
    {
     "name": "stdin",
     "output_type": "stream",
     "text": [
      "enter a string amit\n"
     ]
    },
    {
     "name": "stdout",
     "output_type": "stream",
     "text": [
      "a\n",
      "i\n"
     ]
    },
    {
     "data": {
      "text/plain": [
       "2"
      ]
     },
     "execution_count": 9,
     "metadata": {},
     "output_type": "execute_result"
    }
   ],
   "source": [
    "str = input(\"enter a string\")\n",
    "count = 0\n",
    "vowel = \"aeiouAEIOU\"\n",
    "\n",
    "for i in str:\n",
    "    if i in vowel:\n",
    "        count += 1\n",
    "        print(i)\n",
    "count"
   ]
  },
  {
   "cell_type": "code",
   "execution_count": 10,
   "id": "080470a7-335e-4256-babb-1ea08247779e",
   "metadata": {},
   "outputs": [
    {
     "name": "stdin",
     "output_type": "stream",
     "text": [
      "enter a string Alashree\n"
     ]
    },
    {
     "name": "stdout",
     "output_type": "stream",
     "text": [
      "4\n",
      "['A', 'a', 'e', 'e']\n"
     ]
    }
   ],
   "source": [
    "str = input(\"enter a string\")\n",
    "count = 0\n",
    "l1 = []\n",
    "vowel = \"aeiouAEIOU\"\n",
    "\n",
    "for i in str:\n",
    "    if i in vowel:\n",
    "        count += 1\n",
    "        l1.append(i)\n",
    "print(count )\n",
    "print(l1)"
   ]
  },
  {
   "cell_type": "code",
   "execution_count": null,
   "id": "464b8c9d-b6af-4fd2-aa3e-8c69ea3ddee3",
   "metadata": {},
   "outputs": [],
   "source": [
    "Reverse a String: Write a function that takes a string as input and returns the string in reverse order."
   ]
  },
  {
   "cell_type": "code",
   "execution_count": 12,
   "id": "8462c7f8-3abe-4035-bd18-340dac359625",
   "metadata": {},
   "outputs": [
    {
     "data": {
      "text/plain": [
       "'noitamrofnI'"
      ]
     },
     "execution_count": 12,
     "metadata": {},
     "output_type": "execute_result"
    }
   ],
   "source": [
    "var[::-1]"
   ]
  },
  {
   "cell_type": "code",
   "execution_count": 13,
   "id": "f7a216c6-4492-4ee8-812e-1bb19ccdaecf",
   "metadata": {},
   "outputs": [
    {
     "data": {
      "text/plain": [
       "'Information'"
      ]
     },
     "execution_count": 13,
     "metadata": {},
     "output_type": "execute_result"
    }
   ],
   "source": [
    "var."
   ]
  },
  {
   "cell_type": "code",
   "execution_count": 16,
   "id": "008fee3b-abe0-465f-9b41-9f588c8e8b5d",
   "metadata": {},
   "outputs": [
    {
     "data": {
      "text/plain": [
       "['t', 'r', 'o', 'o', 'n', 'n', 'm', 'i', 'f', 'a', 'I']"
      ]
     },
     "execution_count": 16,
     "metadata": {},
     "output_type": "execute_result"
    }
   ],
   "source": [
    "sorted(var, reverse=True)"
   ]
  },
  {
   "cell_type": "code",
   "execution_count": 22,
   "id": "64407721-4604-428a-936e-16b7c8ea1ffe",
   "metadata": {},
   "outputs": [
    {
     "data": {
      "text/plain": [
       "<reversed at 0x17b2cc1cb20>"
      ]
     },
     "execution_count": 22,
     "metadata": {},
     "output_type": "execute_result"
    }
   ],
   "source": [
    "reversed(var)"
   ]
  },
  {
   "cell_type": "code",
   "execution_count": 25,
   "id": "9df7c962-ca8d-43d7-8e31-d3b2f14f0a9e",
   "metadata": {},
   "outputs": [
    {
     "data": {
      "text/plain": [
       "'n o i t a m r o f n I'"
      ]
     },
     "execution_count": 25,
     "metadata": {},
     "output_type": "execute_result"
    }
   ],
   "source": [
    "\" \".join(reversed(var))"
   ]
  },
  {
   "cell_type": "code",
   "execution_count": null,
   "id": "72331b19-92c7-4174-9c99-e6c3d558a779",
   "metadata": {},
   "outputs": [],
   "source": [
    "Palindrome Check: Create a program that checks if a given string is a palindrome (reads the same forwards and backwards)."
   ]
  },
  {
   "cell_type": "code",
   "execution_count": 30,
   "id": "06b160e9-6c46-434c-89fb-eeb7330c0024",
   "metadata": {},
   "outputs": [
    {
     "name": "stdin",
     "output_type": "stream",
     "text": [
      "Enter a string:  civic\n"
     ]
    },
    {
     "name": "stdout",
     "output_type": "stream",
     "text": [
      "civic yes\n"
     ]
    }
   ],
   "source": [
    "input_string = input(\"Enter a string: \")\n",
    "\n",
    "cleaned_string = input_string.replace(\" \", \"\").lower()\n",
    "\n",
    "if cleaned_string == cleaned_string[::-1]:\n",
    "    print(input_string, \"yes\")\n",
    "else:\n",
    "    print(\"not palindrome\")\n"
   ]
  },
  {
   "cell_type": "code",
   "execution_count": null,
   "id": "0c829dec-4cfc-4903-9546-9507fba7d1db",
   "metadata": {},
   "outputs": [],
   "source": [
    "Substring Search: Write a program that checks if a given substring exists within a larger string."
   ]
  },
  {
   "cell_type": "code",
   "execution_count": 32,
   "id": "30b10db0-fa7c-47c7-838b-d4fcd714caa4",
   "metadata": {},
   "outputs": [
    {
     "name": "stdin",
     "output_type": "stream",
     "text": [
      "first STR  training\n",
      "second STR  train\n"
     ]
    },
    {
     "name": "stdout",
     "output_type": "stream",
     "text": [
      "it is a substring of main string\n"
     ]
    }
   ],
   "source": [
    "string = input(\"first STR \")\n",
    "sub_string = input(\"second STR \")\n",
    "\n",
    "if sub_string in string:\n",
    "    print(\"it is a substring of main string\")\n",
    "else:\n",
    "    print(\"Not substring\")"
   ]
  },
  {
   "cell_type": "code",
   "execution_count": 38,
   "id": "3f22ad9c-0805-4e30-a2f2-0e13b97a2357",
   "metadata": {},
   "outputs": [
    {
     "name": "stdout",
     "output_type": "stream",
     "text": [
      "it is a substring of main string\n"
     ]
    }
   ],
   "source": [
    "list = [\"red\", \"black\"]\n",
    "l1= \"red\"\n",
    "\n",
    "if l1 in list:\n",
    "    print(\"it is a substring of main string\")\n",
    "else:\n",
    "    print(\"Not substring\")"
   ]
  },
  {
   "cell_type": "code",
   "execution_count": null,
   "id": "cb4ee267-c060-4c6e-ba9e-3b1605fc4bc4",
   "metadata": {},
   "outputs": [],
   "source": [
    "Remove Duplicates: Write a function that takes a string and removes all duplicate characters, returning a new string with only unique characters."
   ]
  },
  {
   "cell_type": "code",
   "execution_count": 39,
   "id": "3fa5de96-c624-4918-a3aa-f6774a4df23d",
   "metadata": {},
   "outputs": [
    {
     "data": {
      "text/plain": [
       "'Information'"
      ]
     },
     "execution_count": 39,
     "metadata": {},
     "output_type": "execute_result"
    }
   ],
   "source": [
    "var"
   ]
  },
  {
   "cell_type": "code",
   "execution_count": 40,
   "id": "dfaaeafa-5c3d-40df-827c-8281087b5091",
   "metadata": {},
   "outputs": [
    {
     "data": {
      "text/plain": [
       "'training'"
      ]
     },
     "execution_count": 40,
     "metadata": {},
     "output_type": "execute_result"
    }
   ],
   "source": [
    "string"
   ]
  },
  {
   "cell_type": "code",
   "execution_count": 41,
   "id": "b78e5df1-4eda-49c3-b47b-e47a95879f16",
   "metadata": {},
   "outputs": [
    {
     "ename": "TypeError",
     "evalue": "unsupported operand type(s) for -: 'str' and 'str'",
     "output_type": "error",
     "traceback": [
      "\u001b[1;31m---------------------------------------------------------------------------\u001b[0m",
      "\u001b[1;31mTypeError\u001b[0m                                 Traceback (most recent call last)",
      "Cell \u001b[1;32mIn[41], line 1\u001b[0m\n\u001b[1;32m----> 1\u001b[0m var \u001b[38;5;241m-\u001b[39m string\n",
      "\u001b[1;31mTypeError\u001b[0m: unsupported operand type(s) for -: 'str' and 'str'"
     ]
    }
   ],
   "source": [
    "var - string"
   ]
  },
  {
   "cell_type": "code",
   "execution_count": 43,
   "id": "f1f17cc0-9f8e-46fe-9ddd-b7adeb60a0af",
   "metadata": {},
   "outputs": [
    {
     "data": {
      "text/plain": [
       "{'a', 'd', 't'}"
      ]
     },
     "execution_count": 43,
     "metadata": {},
     "output_type": "execute_result"
    }
   ],
   "source": [
    "var2 = \"data\"\n",
    "\n",
    "set(var2)"
   ]
  },
  {
   "cell_type": "code",
   "execution_count": 45,
   "id": "7789094a-7fb9-413c-b0c9-47516e3518f7",
   "metadata": {},
   "outputs": [
    {
     "name": "stdin",
     "output_type": "stream",
     "text": [
      "Enter a string:  civic\n"
     ]
    },
    {
     "data": {
      "text/plain": [
       "'vci'"
      ]
     },
     "execution_count": 45,
     "metadata": {},
     "output_type": "execute_result"
    }
   ],
   "source": [
    "input_string = input(\"Enter a string: \")\n",
    "\n",
    "unique_chars = ''.join(set(input_string))\n",
    "unique_chars"
   ]
  },
  {
   "cell_type": "code",
   "execution_count": 46,
   "id": "4f619ecb-ce91-4354-9ef0-afefe3d56af4",
   "metadata": {},
   "outputs": [
    {
     "data": {
      "text/plain": [
       "['a', 'b', 'c', 'd']"
      ]
     },
     "execution_count": 46,
     "metadata": {},
     "output_type": "execute_result"
    }
   ],
   "source": [
    "[\"a\", \"b\", \"c\", \"d\"]"
   ]
  },
  {
   "cell_type": "code",
   "execution_count": 47,
   "id": "25c29a09-98d7-4e4e-8e22-9be7d114adb1",
   "metadata": {},
   "outputs": [
    {
     "data": {
      "text/plain": [
       "'a b c d'"
      ]
     },
     "execution_count": 47,
     "metadata": {},
     "output_type": "execute_result"
    }
   ],
   "source": [
    "\" \".join([\"a\", \"b\", \"c\", \"d\"])"
   ]
  },
  {
   "cell_type": "code",
   "execution_count": null,
   "id": "a0ea39c7-fc0c-4656-9a87-d3322eac90f3",
   "metadata": {},
   "outputs": [],
   "source": [
    "Character Frequency: Write a program that counts the frequency of each character in a string and displays the results."
   ]
  },
  {
   "cell_type": "code",
   "execution_count": 52,
   "id": "a3141423-92fa-4c9a-a632-7aca77363061",
   "metadata": {},
   "outputs": [
    {
     "name": "stdin",
     "output_type": "stream",
     "text": [
      "Enter a string:  characterc\n"
     ]
    },
    {
     "name": "stdout",
     "output_type": "stream",
     "text": [
      "'c': 3\n",
      "'h': 1\n",
      "'a': 2\n",
      "'r': 2\n",
      "'t': 1\n",
      "'e': 1\n"
     ]
    }
   ],
   "source": [
    "input_string = input(\"Enter a string: \")\n",
    "\n",
    "frequency = {}\n",
    "\n",
    "for i in input_string:\n",
    "    if i in frequency:\n",
    "        frequency[i] += 1\n",
    "    else:\n",
    "        frequency[i] = 1\n",
    "\n",
    "for char, count in frequency.items():\n",
    "    print(f'\\'{char}\\': {count}')\n"
   ]
  },
  {
   "cell_type": "code",
   "execution_count": 50,
   "id": "a0088e1d-b844-4d94-9a99-4e85bdae39b5",
   "metadata": {},
   "outputs": [],
   "source": [
    "d ={\"c\":0}"
   ]
  },
  {
   "cell_type": "code",
   "execution_count": 51,
   "id": "654e446a-ca16-44f5-b3e8-7d2ecdcc2985",
   "metadata": {},
   "outputs": [
    {
     "data": {
      "text/plain": [
       "0"
      ]
     },
     "execution_count": 51,
     "metadata": {},
     "output_type": "execute_result"
    }
   ],
   "source": [
    "d[\"c\"]"
   ]
  },
  {
   "cell_type": "code",
   "execution_count": null,
   "id": "97cc77bd-1567-48ec-bcba-04c84699c810",
   "metadata": {},
   "outputs": [],
   "source": []
  }
 ],
 "metadata": {
  "kernelspec": {
   "display_name": "Python 3 (ipykernel)",
   "language": "python",
   "name": "python3"
  },
  "language_info": {
   "codemirror_mode": {
    "name": "ipython",
    "version": 3
   },
   "file_extension": ".py",
   "mimetype": "text/x-python",
   "name": "python",
   "nbconvert_exporter": "python",
   "pygments_lexer": "ipython3",
   "version": "3.11.7"
  }
 },
 "nbformat": 4,
 "nbformat_minor": 5
}
