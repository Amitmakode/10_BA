{
 "cells": [
  {
   "cell_type": "code",
   "execution_count": null,
   "id": "f12f9cc5-b626-450b-81aa-cdbf606f58b5",
   "metadata": {},
   "outputs": [],
   "source": [
    "Iterable\n",
    "Iterator\n",
    "Iteration"
   ]
  },
  {
   "cell_type": "code",
   "execution_count": null,
   "id": "e5e05405-933c-4fcd-9654-272a66f714e6",
   "metadata": {},
   "outputs": [],
   "source": [
    "for\n",
    "while"
   ]
  },
  {
   "cell_type": "code",
   "execution_count": 1,
   "id": "a3189693-9f95-45dc-bb7f-fecba7d5dbdb",
   "metadata": {},
   "outputs": [],
   "source": [
    "l =[\"red\", \"orange\", \"white\", \"black\", \"blue\"]"
   ]
  },
  {
   "cell_type": "code",
   "execution_count": 2,
   "id": "044c8f0a-6441-44d2-a936-a3a54f9a5711",
   "metadata": {},
   "outputs": [
    {
     "data": {
      "text/plain": [
       "['red', 'orange', 'white', 'black', 'blue']"
      ]
     },
     "execution_count": 2,
     "metadata": {},
     "output_type": "execute_result"
    }
   ],
   "source": [
    "l"
   ]
  },
  {
   "cell_type": "code",
   "execution_count": 3,
   "id": "41aa2327-a690-4971-b832-0743a3d40115",
   "metadata": {},
   "outputs": [
    {
     "name": "stdout",
     "output_type": "stream",
     "text": [
      "red\n",
      "orange\n",
      "white\n",
      "black\n",
      "blue\n"
     ]
    }
   ],
   "source": [
    "for color in l:\n",
    "    print(color)"
   ]
  },
  {
   "cell_type": "code",
   "execution_count": 4,
   "id": "a9601511-5c4f-4108-a358-09717bdb829e",
   "metadata": {},
   "outputs": [
    {
     "name": "stdout",
     "output_type": "stream",
     "text": [
      "10\n",
      "12\n",
      "14\n",
      "16\n",
      "18\n"
     ]
    }
   ],
   "source": [
    "for i in range(10,20,2):\n",
    "    print(i)"
   ]
  },
  {
   "cell_type": "code",
   "execution_count": 5,
   "id": "44900c38-7dd4-4dd5-873d-73a220a0ea7c",
   "metadata": {},
   "outputs": [
    {
     "ename": "TypeError",
     "evalue": "'int' object is not iterable",
     "output_type": "error",
     "traceback": [
      "\u001b[1;31m---------------------------------------------------------------------------\u001b[0m",
      "\u001b[1;31mTypeError\u001b[0m                                 Traceback (most recent call last)",
      "Cell \u001b[1;32mIn[5], line 3\u001b[0m\n\u001b[0;32m      1\u001b[0m n \u001b[38;5;241m=\u001b[39m \u001b[38;5;241m5\u001b[39m\n\u001b[1;32m----> 3\u001b[0m \u001b[38;5;28;01mfor\u001b[39;00m i \u001b[38;5;129;01min\u001b[39;00m n:\n\u001b[0;32m      4\u001b[0m     \u001b[38;5;28mprint\u001b[39m(i)\n",
      "\u001b[1;31mTypeError\u001b[0m: 'int' object is not iterable"
     ]
    }
   ],
   "source": [
    "n = 5\n",
    "\n",
    "for i in n:\n",
    "    print(i)"
   ]
  },
  {
   "cell_type": "code",
   "execution_count": 6,
   "id": "b3650d3f-836c-4913-b4bc-37f62bd6164e",
   "metadata": {},
   "outputs": [
    {
     "name": "stdout",
     "output_type": "stream",
     "text": [
      "0\n",
      "1\n",
      "2\n",
      "3\n",
      "4\n",
      "5\n",
      "6\n",
      "7\n",
      "8\n",
      "9\n"
     ]
    }
   ],
   "source": [
    "for i in range(10):\n",
    "    print(i)"
   ]
  },
  {
   "cell_type": "code",
   "execution_count": 8,
   "id": "9c77f9bb-58b4-445a-8874-8319a497836b",
   "metadata": {},
   "outputs": [
    {
     "name": "stdout",
     "output_type": "stream",
     "text": [
      "0 1 1\n",
      "1 2 4\n",
      "2 3 9\n",
      "3 4 16\n",
      "4 5 25\n",
      "5 6 36\n",
      "6 7 49\n",
      "7 8 64\n",
      "8 9 81\n",
      "9 10 100\n"
     ]
    }
   ],
   "source": [
    "for i in range(10):\n",
    "    print(i, i+1, (i+1)**2)"
   ]
  },
  {
   "cell_type": "code",
   "execution_count": 10,
   "id": "ae593047-736c-4666-bb73-f6eaf73f55f8",
   "metadata": {},
   "outputs": [
    {
     "name": "stdout",
     "output_type": "stream",
     "text": [
      "1\n",
      "8\n",
      "27\n",
      "64\n",
      "125\n",
      "216\n",
      "343\n",
      "512\n",
      "729\n",
      "1000\n"
     ]
    }
   ],
   "source": [
    "for i in range(10):\n",
    "    print((i+1)**3)"
   ]
  },
  {
   "cell_type": "code",
   "execution_count": 12,
   "id": "0229d834-5461-401b-8a45-3560e747a100",
   "metadata": {},
   "outputs": [
    {
     "name": "stdout",
     "output_type": "stream",
     "text": [
      "1\n",
      "9\n",
      "25\n",
      "49\n",
      "81\n",
      "121\n",
      "169\n",
      "225\n",
      "289\n",
      "361\n"
     ]
    }
   ],
   "source": [
    "for i in range(1,20,2):\n",
    "    print(i**2)"
   ]
  },
  {
   "cell_type": "code",
   "execution_count": 13,
   "id": "b4a8429a-f4e8-440b-bd17-7a8f59980c9e",
   "metadata": {},
   "outputs": [],
   "source": [
    "str = \"Information-Technology\""
   ]
  },
  {
   "cell_type": "code",
   "execution_count": 14,
   "id": "3160ee9c-61df-48ac-82ca-1ff73e12d00e",
   "metadata": {},
   "outputs": [
    {
     "name": "stdout",
     "output_type": "stream",
     "text": [
      "I\n",
      "n\n",
      "f\n",
      "o\n",
      "r\n",
      "m\n",
      "a\n",
      "t\n",
      "i\n",
      "o\n",
      "n\n",
      "-\n",
      "T\n",
      "e\n",
      "c\n",
      "h\n",
      "n\n",
      "o\n",
      "l\n",
      "o\n",
      "g\n",
      "y\n"
     ]
    }
   ],
   "source": [
    "for i in str:\n",
    "    print(i)"
   ]
  },
  {
   "cell_type": "code",
   "execution_count": 15,
   "id": "a133e4b8-6749-4d51-8e59-07961755ce98",
   "metadata": {},
   "outputs": [
    {
     "name": "stdout",
     "output_type": "stream",
     "text": [
      "I n f o r m a t i o n - T e c h n o l o g y "
     ]
    }
   ],
   "source": [
    "for i in str:\n",
    "    print(i, end = \" \")"
   ]
  },
  {
   "cell_type": "code",
   "execution_count": 16,
   "id": "a341b017-757b-4849-b196-6f6601e1e3ba",
   "metadata": {},
   "outputs": [
    {
     "name": "stdout",
     "output_type": "stream",
     "text": [
      "o\n",
      "o\n",
      "o\n",
      "o\n"
     ]
    }
   ],
   "source": [
    "for i in str:\n",
    "    if i == \"o\":\n",
    "        print(i)"
   ]
  },
  {
   "cell_type": "code",
   "execution_count": 17,
   "id": "0ff0141b-6d5a-4ab5-ac4d-d7325de9fa5e",
   "metadata": {},
   "outputs": [
    {
     "name": "stdout",
     "output_type": "stream",
     "text": [
      "o\n",
      "a\n",
      "o\n",
      "o\n",
      "o\n"
     ]
    }
   ],
   "source": [
    "for i in str:\n",
    "    if i == \"o\" or i==\"a\":\n",
    "        print(i)"
   ]
  },
  {
   "cell_type": "code",
   "execution_count": 18,
   "id": "5ed78dc3-24e9-43c6-9706-abf98f67ed5c",
   "metadata": {},
   "outputs": [],
   "source": [
    "for i in str:\n",
    "    if i == \"o\" and i==\"a\":\n",
    "        print(i)"
   ]
  },
  {
   "cell_type": "code",
   "execution_count": 20,
   "id": "2bf52938-d1bc-4e44-90a2-4d9ff3c2bb36",
   "metadata": {},
   "outputs": [
    {
     "name": "stdout",
     "output_type": "stream",
     "text": [
      "1\n",
      "9\n",
      "25\n",
      "49\n",
      "81\n",
      "121\n",
      "169\n",
      "225\n",
      "289\n",
      "361\n"
     ]
    }
   ],
   "source": [
    "for i in range(20):\n",
    "    if i%2 != 0:\n",
    "        print(i**2)"
   ]
  },
  {
   "cell_type": "code",
   "execution_count": 21,
   "id": "88cf492f-3e3e-443d-a0fa-38ea6a53101c",
   "metadata": {},
   "outputs": [],
   "source": [
    "tup = (\"India\", \"Australia\", \"USA\", \"Russia\", \"France\")"
   ]
  },
  {
   "cell_type": "code",
   "execution_count": 22,
   "id": "2c6f67d6-376a-4322-ac6d-5a2be3b2fd5c",
   "metadata": {},
   "outputs": [
    {
     "name": "stdout",
     "output_type": "stream",
     "text": [
      "India\n",
      "Australia\n",
      "USA\n",
      "Russia\n",
      "France\n"
     ]
    }
   ],
   "source": [
    "for i in tup:\n",
    "    print(i)"
   ]
  },
  {
   "cell_type": "code",
   "execution_count": 28,
   "id": "92f0a27e-db20-4f39-a05b-69face0d562f",
   "metadata": {},
   "outputs": [
    {
     "name": "stdout",
     "output_type": "stream",
     "text": [
      "Australia\n",
      "USA\n",
      "Russia\n",
      "Russia\n"
     ]
    }
   ],
   "source": [
    "for i in tup:\n",
    "    for j in i:\n",
    "        if j == \"s\" or j ==\"S\":\n",
    "            print(i)"
   ]
  },
  {
   "cell_type": "code",
   "execution_count": 31,
   "id": "e1266b94-e994-4a8f-97ed-2ba5287f4c4b",
   "metadata": {},
   "outputs": [],
   "source": [
    "set = {\"mango\", \"apple\",\"pienaaple\", \"banana\", \"orange\", \"mango\"}"
   ]
  },
  {
   "cell_type": "code",
   "execution_count": 32,
   "id": "105f45c8-1747-466a-b324-2fa40c5f2d79",
   "metadata": {},
   "outputs": [
    {
     "name": "stdout",
     "output_type": "stream",
     "text": [
      "banana\n",
      "apple\n",
      "mango\n",
      "pienaaple\n",
      "orange\n"
     ]
    }
   ],
   "source": [
    "for i in set:\n",
    "    print(i)"
   ]
  },
  {
   "cell_type": "code",
   "execution_count": 33,
   "id": "24ad75c3-9424-4cf5-9d4a-e25b01908749",
   "metadata": {},
   "outputs": [
    {
     "data": {
      "text/plain": [
       "enumerate"
      ]
     },
     "execution_count": 33,
     "metadata": {},
     "output_type": "execute_result"
    }
   ],
   "source": [
    "enumerate"
   ]
  },
  {
   "cell_type": "code",
   "execution_count": 34,
   "id": "13420b5a-23d1-4332-b6d9-4184ac7dcc07",
   "metadata": {},
   "outputs": [
    {
     "name": "stdout",
     "output_type": "stream",
     "text": [
      "0 banana\n",
      "1 apple\n",
      "2 mango\n",
      "3 pienaaple\n",
      "4 orange\n"
     ]
    }
   ],
   "source": [
    "for i, j in enumerate(set):\n",
    "    print(i,j)"
   ]
  },
  {
   "cell_type": "code",
   "execution_count": 36,
   "id": "2c978abe-ee13-46ef-8082-31172f72a138",
   "metadata": {},
   "outputs": [
    {
     "name": "stdout",
     "output_type": "stream",
     "text": [
      "1 - banana\n",
      "2 - apple\n",
      "3 - mango\n",
      "4 - pienaaple\n",
      "5 - orange\n"
     ]
    }
   ],
   "source": [
    "for i, j in enumerate(set):\n",
    "    print(i+1,\"-\", j)"
   ]
  },
  {
   "cell_type": "code",
   "execution_count": 37,
   "id": "824454ab-b73b-4a44-ae16-79bdd95533cc",
   "metadata": {},
   "outputs": [
    {
     "name": "stdout",
     "output_type": "stream",
     "text": [
      "index 1 : banana\n",
      "index 2 : apple\n",
      "index 3 : mango\n",
      "index 4 : pienaaple\n",
      "index 5 : orange\n"
     ]
    }
   ],
   "source": [
    "for i, j in enumerate(set):\n",
    "    print(f\"index {i+1} : {j}\")"
   ]
  },
  {
   "cell_type": "code",
   "execution_count": 40,
   "id": "e8b2797e-c731-46f5-88f9-82e1b8d3a7a9",
   "metadata": {},
   "outputs": [
    {
     "name": "stdout",
     "output_type": "stream",
     "text": [
      "1 2 3 4 5 0\n",
      "1 2 3 4 5 1\n",
      "1 2 3 4 5 2\n",
      "1 2 3 4 5 3\n",
      "1 2 3 4 5 4\n"
     ]
    }
   ],
   "source": [
    "for i in range(5):             # 0 ,1 ,2, 3, 4\n",
    "    for j in range(5):         # 0, 1, 2, 3, 4\n",
    "        print(j+1, end= \" \")\n",
    "    print(i)    "
   ]
  },
  {
   "cell_type": "code",
   "execution_count": 42,
   "id": "098451a1-5d15-4752-b46c-efca290e4659",
   "metadata": {},
   "outputs": [
    {
     "name": "stdout",
     "output_type": "stream",
     "text": [
      "1 2 3 4 5 2\n",
      "3\n",
      "4\n",
      "5\n",
      "6\n",
      "0\n",
      "1 2 3 4 5 2\n",
      "3\n",
      "4\n",
      "5\n",
      "6\n",
      "1\n",
      "1 2 3 4 5 2\n",
      "3\n",
      "4\n",
      "5\n",
      "6\n",
      "2\n",
      "1 2 3 4 5 2\n",
      "3\n",
      "4\n",
      "5\n",
      "6\n",
      "3\n",
      "1 2 3 4 5 2\n",
      "3\n",
      "4\n",
      "5\n",
      "6\n",
      "4\n"
     ]
    }
   ],
   "source": [
    "for i in range(5):             # 0 ,1 ,2, 3, 4\n",
    "    for j in range(5):         # 0, 1, 2, 3, 4\n",
    "        print(j+1, end= \" \")\n",
    "    for k in range(5):\n",
    "        print(k+2)\n",
    "    print(i) "
   ]
  },
  {
   "cell_type": "code",
   "execution_count": 45,
   "id": "190b079c-baf9-4fe0-9e1e-39e83461232c",
   "metadata": {},
   "outputs": [
    {
     "name": "stdout",
     "output_type": "stream",
     "text": [
      "banana\n",
      "banana\n",
      "banana\n",
      "apple\n",
      "mango\n",
      "pienaaple\n",
      "pienaaple\n",
      "orange\n"
     ]
    }
   ],
   "source": [
    "for i in set:\n",
    "    for j in i:\n",
    "        if j == \"a\":\n",
    "            print(i)\n",
    "        if j ==     "
   ]
  },
  {
   "cell_type": "code",
   "execution_count": null,
   "id": "e516aab8-b1c5-4925-b958-b55d847fb791",
   "metadata": {},
   "outputs": [],
   "source": []
  }
 ],
 "metadata": {
  "kernelspec": {
   "display_name": "Python 3 (ipykernel)",
   "language": "python",
   "name": "python3"
  },
  "language_info": {
   "codemirror_mode": {
    "name": "ipython",
    "version": 3
   },
   "file_extension": ".py",
   "mimetype": "text/x-python",
   "name": "python",
   "nbconvert_exporter": "python",
   "pygments_lexer": "ipython3",
   "version": "3.11.7"
  }
 },
 "nbformat": 4,
 "nbformat_minor": 5
}
