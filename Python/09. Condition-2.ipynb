{
 "cells": [
  {
   "cell_type": "code",
   "execution_count": 1,
   "id": "a20e1f58-a54e-4202-a520-9eca1992bc68",
   "metadata": {},
   "outputs": [],
   "source": [
    "import numpy as np\n",
    "import random "
   ]
  },
  {
   "cell_type": "code",
   "execution_count": 18,
   "id": "4e6335fb-1b82-43c0-9b1f-fcd184f95263",
   "metadata": {},
   "outputs": [
    {
     "data": {
      "text/plain": [
       "3"
      ]
     },
     "execution_count": 18,
     "metadata": {},
     "output_type": "execute_result"
    }
   ],
   "source": [
    "np.random.randint(1,5)"
   ]
  },
  {
   "cell_type": "code",
   "execution_count": 19,
   "id": "5c659e45-b9f1-4e1a-8a4d-74fcc443f42c",
   "metadata": {},
   "outputs": [
    {
     "data": {
      "text/plain": [
       "False"
      ]
     },
     "execution_count": 19,
     "metadata": {},
     "output_type": "execute_result"
    }
   ],
   "source": [
    "12 == 12 and 12 > 13 "
   ]
  },
  {
   "cell_type": "code",
   "execution_count": 20,
   "id": "61fdd608-00ee-4914-8e97-d0f908c6cb81",
   "metadata": {},
   "outputs": [
    {
     "data": {
      "text/plain": [
       "False"
      ]
     },
     "execution_count": 20,
     "metadata": {},
     "output_type": "execute_result"
    }
   ],
   "source": [
    "12 == 12 and 12 > 13 or 13 > 12 and 14 == 11"
   ]
  },
  {
   "cell_type": "code",
   "execution_count": 21,
   "id": "86ccf1e7-27a3-4b38-b0fe-57235d3b7321",
   "metadata": {},
   "outputs": [
    {
     "name": "stdin",
     "output_type": "stream",
     "text": [
      "Enter the number  31\n"
     ]
    }
   ],
   "source": [
    "number = int(input(\"Enter the number \"))\n",
    "\n",
    "if number % 2 == 0 :   # if entered number is even then only message is shown to the user\n",
    "    print(number ,\" is even number\")  "
   ]
  },
  {
   "cell_type": "code",
   "execution_count": 22,
   "id": "f51c8473-ff43-4a00-95f2-08b2f94ad9d3",
   "metadata": {},
   "outputs": [
    {
     "name": "stdin",
     "output_type": "stream",
     "text": [
      "Enter the number  32\n"
     ]
    }
   ],
   "source": [
    "number = int(input(\"Enter the number \"))\n",
    "\n",
    "if number % 3 == 0 :   # if entered number is even then only message is shown to the user\n",
    "    print(number ,\" is odd number\")  "
   ]
  },
  {
   "cell_type": "code",
   "execution_count": 24,
   "id": "3e8c70a9-e633-4ecf-aef5-13ad5f540831",
   "metadata": {},
   "outputs": [
    {
     "name": "stdin",
     "output_type": "stream",
     "text": [
      "Enter the mark  91\n"
     ]
    },
    {
     "name": "stdout",
     "output_type": "stream",
     "text": [
      "You got distinction!\n"
     ]
    }
   ],
   "source": [
    "mark = int(input(\"Enter the mark \"))\n",
    "\n",
    "if mark < 0 or mark > 100: \n",
    "    print(\"Invalid marks are entered!\")\n",
    "elif mark >= 0 and mark < 35 :\n",
    "    print(\"Sorry you failed!\")\n",
    "elif mark >= 36 and mark <= 60:\n",
    "    print(\"You passed in second class\")\n",
    "elif mark >= 61 and mark <= 80 :\n",
    "    print(\"You passed in first class\")\n",
    "else :\n",
    "    print(\"You got distinction!\")"
   ]
  },
  {
   "cell_type": "code",
   "execution_count": 25,
   "id": "eaad0278-9887-49e9-8e5a-f1e964c3954a",
   "metadata": {},
   "outputs": [
    {
     "name": "stdin",
     "output_type": "stream",
     "text": [
      "Enter the mark  89\n"
     ]
    },
    {
     "name": "stdout",
     "output_type": "stream",
     "text": [
      "You got distinction!\n"
     ]
    }
   ],
   "source": [
    "mark = int(input(\"Enter the mark \"))\n",
    "\n",
    "if mark < 0 or mark > 100: \n",
    "    print(\"Invalid marks are entered!\")\n",
    "elif mark >= 0 and mark < 35 :\n",
    "    print(\"Sorry you failed!\")\n",
    "elif mark >= 36 and mark <= 60:\n",
    "    print(\"You passed in second class\")\n",
    "elif mark >= 61 and mark <= 80 :\n",
    "    print(\"You passed in first class\")\n",
    "elif mark >= 91 and mark <= 100:\n",
    "    print(\"you are in top 10 list\")\n",
    "else :\n",
    "    print(\"You got distinction!\")"
   ]
  },
  {
   "cell_type": "code",
   "execution_count": 26,
   "id": "b4783376-77d6-442f-992e-6ac1f776ae9a",
   "metadata": {},
   "outputs": [
    {
     "name": "stdin",
     "output_type": "stream",
     "text": [
      "Enter first number \n",
      " 22\n",
      "Enter second number \n",
      " 89\n"
     ]
    },
    {
     "name": "stdout",
     "output_type": "stream",
     "text": [
      "First number is smaller than second\n"
     ]
    }
   ],
   "source": [
    "number1 = int(input(\"Enter first number \\n\"))\n",
    "number2 = int(input(\"Enter second number \\n\"))\n",
    "\n",
    "if number1 == number2:\n",
    "    print(\"Both numbers are same\")\n",
    "else:\n",
    "    if number1 > number2:\n",
    "        print(\"First number is bigger than second\")\n",
    "    else:\n",
    "        print(\"First number is smaller than second\")"
   ]
  },
  {
   "cell_type": "code",
   "execution_count": 27,
   "id": "5e98770c-2280-469f-a434-ac70705581df",
   "metadata": {},
   "outputs": [
    {
     "name": "stdin",
     "output_type": "stream",
     "text": [
      "Enter first number \n",
      " 22\n",
      "Enter second number \n",
      " 25\n"
     ]
    },
    {
     "name": "stdout",
     "output_type": "stream",
     "text": [
      "second number is greter than first\n"
     ]
    }
   ],
   "source": [
    "number1 = int(input(\"Enter first number \\n\"))\n",
    "number2 = int(input(\"Enter second number \\n\"))\n",
    "\n",
    "if number1 == number2:\n",
    "    print(\"Both numbers are same\")\n",
    "else:\n",
    "    if number1 > number2:\n",
    "        print(\"First number is bigger than second\")\n",
    "    else:\n",
    "        if number1 < number2 :\n",
    "            print(\"second number is greter than first\")\n",
    "        else:\n",
    "            print(\"i don't know\")"
   ]
  },
  {
   "cell_type": "code",
   "execution_count": 28,
   "id": "a228c667-a729-4542-8ca1-b2d096ef195d",
   "metadata": {},
   "outputs": [
    {
     "name": "stdin",
     "output_type": "stream",
     "text": [
      "Enter the lenght in centimeter  120\n"
     ]
    },
    {
     "name": "stdout",
     "output_type": "stream",
     "text": [
      "120.0  cm =  47.24409448818898  inches\n"
     ]
    }
   ],
   "source": [
    "length_in_cm = input(\"Enter the lenght in centimeter \")\n",
    "\n",
    "length_in_cm = float(length_in_cm)\n",
    "    \n",
    "if length_in_cm < 0 :\n",
    "    print(\"You have entered negative value. \")\n",
    "else:\n",
    "    length_in_inches = length_in_cm / 2.54\n",
    "    print(length_in_cm, \" cm = \", length_in_inches, \" inches\")"
   ]
  },
  {
   "cell_type": "code",
   "execution_count": 32,
   "id": "b55abfa2-c54c-439f-964e-bee0b19d12e5",
   "metadata": {},
   "outputs": [
    {
     "name": "stdin",
     "output_type": "stream",
     "text": [
      "Enter your username:  guest\n",
      "Enter your password:  12345\n"
     ]
    },
    {
     "name": "stdout",
     "output_type": "stream",
     "text": [
      "Incorrect password. Please try again.\n"
     ]
    }
   ],
   "source": [
    "# Password and Username Checking\n",
    "username = input(\"Enter your username: \")\n",
    "password = input(\"Enter your password: \")\n",
    "\n",
    "\n",
    "if username == \"admin\":\n",
    "    if password == \"password\":\n",
    "        print(\"Login successful! Welcome, admin.\")\n",
    "    elif password == \"12345\":\n",
    "        print(\"Weak password. Please reset your password.\")\n",
    "    else:\n",
    "        print(\"Incorrect password. Please try again.\")\n",
    "else:\n",
    "    if username == \"guest\":\n",
    "        if password == \"guest\":\n",
    "            print(\"Login successful! Welcome, guest.\")\n",
    "        else:\n",
    "            print(\"Incorrect password. Please try again.\")\n",
    "    else:\n",
    "        print(\"Unknown user. Please try again.\")"
   ]
  },
  {
   "cell_type": "code",
   "execution_count": 33,
   "id": "a0c5c200-72c1-466d-96e4-de3ddf887111",
   "metadata": {},
   "outputs": [
    {
     "name": "stdout",
     "output_type": "stream",
     "text": [
      " may be i wont be able to buy a jacket \n"
     ]
    }
   ],
   "source": [
    "price = 200\n",
    "\n",
    "if price > 500 : \n",
    "    print(\" may be i wont be able to buy a jacket \")\n",
    "elif price < 500 :\n",
    "    print(\"i will be able to buy a jacket\")\n",
    "elif  price == 500 :\n",
    "    print(\"for sure i will be able to buy\")\n",
    "else  :\n",
    "    print(\"i don't know\")"
   ]
  },
  {
   "cell_type": "code",
   "execution_count": 34,
   "id": "7e675c35-86d9-4b23-96f0-06272961ad1c",
   "metadata": {},
   "outputs": [
    {
     "name": "stdout",
     "output_type": "stream",
     "text": [
      "do not perform this task\n"
     ]
    }
   ],
   "source": [
    "lis = [1,2,3,4,5,6]\n",
    "\n",
    "if 60 in lis :\n",
    "    print(\"try to perform a task \")\n",
    "else :\n",
    "    print(\"do not perform this task\")"
   ]
  },
  {
   "cell_type": "code",
   "execution_count": 37,
   "id": "f64deda0-5e09-4120-af74-4f361e104b50",
   "metadata": {},
   "outputs": [
    {
     "name": "stdout",
     "output_type": "stream",
     "text": [
      "try to do sub\n",
      "try to do mul\n",
      "this is new statement\n"
     ]
    }
   ],
   "source": [
    "lis = [1,2,3,4,5,6]\n",
    "\n",
    "if 10 in lis :\n",
    "    print(\"thy to do a addition\")\n",
    "elif 2 in lis :\n",
    "    print(\"try to do sub\")\n",
    "    if 3 in lis :\n",
    "        print(\"try to do mul\")\n",
    "if 4 in lis :\n",
    "    print(\"this is new statement\")  "
   ]
  },
  {
   "cell_type": "code",
   "execution_count": 41,
   "id": "1e84c14e-c186-415a-859c-d28666f751e7",
   "metadata": {},
   "outputs": [
    {
     "name": "stdin",
     "output_type": "stream",
     "text": [
      " 400\n"
     ]
    },
    {
     "name": "stdout",
     "output_type": "stream",
     "text": [
      "i will be able to buy something\n",
      "\n",
      "i will be able to buy a shirt\n"
     ]
    }
   ],
   "source": [
    "price  = int(input())\n",
    "\n",
    "if price  < 500 :\n",
    "    print(\"i will be able to buy something\")\n",
    "    print()\n",
    "    if price < 400 :\n",
    "        print(\"i will be able to buy a jacket\")\n",
    "    elif price > 300 :\n",
    "        print(\"i will be able to buy a shirt\")\n",
    "        if price < 200 :\n",
    "            print(\"i would like to do sometign\")\n",
    "    else :\n",
    "        print(\"i wont be able to buy anyting\")\n",
    "else :\n",
    "     print(\"i wont be able to buy anything with this price tag\")"
   ]
  },
  {
   "cell_type": "code",
   "execution_count": 43,
   "id": "d770db5e-00ec-4c88-b8ff-70d6601881c4",
   "metadata": {},
   "outputs": [
    {
     "name": "stdin",
     "output_type": "stream",
     "text": [
      " -56\n"
     ]
    },
    {
     "name": "stdout",
     "output_type": "stream",
     "text": [
      "rnage belowe 0\n"
     ]
    }
   ],
   "source": [
    "price  = int(input())\n",
    "\n",
    "if price >= 0 and price < 200:\n",
    "    print(\"range between 0-199\")\n",
    "    \n",
    "elif price >= 200 and price < 400:\n",
    "    print(\"range between 200-399\")\n",
    "\n",
    "elif price >= 400 and price < 600:\n",
    "    print(\"range between 400-599\")\n",
    "\n",
    "elif price >= 600 and price < 700:\n",
    "    print(\"range between 600-799\")\n",
    "    \n",
    "else:\n",
    "    if price < 0:\n",
    "        print(\"rnage belowe 0\")\n",
    "    else:\n",
    "        print(\"range above 799\")"
   ]
  },
  {
   "cell_type": "code",
   "execution_count": 46,
   "id": "e4510545-dd7d-42a4-8853-02789e84f1b7",
   "metadata": {},
   "outputs": [
    {
     "name": "stdin",
     "output_type": "stream",
     "text": [
      " 800\n"
     ]
    },
    {
     "name": "stdout",
     "output_type": "stream",
     "text": [
      "you will get IIT\n",
      "you will get IIM\n"
     ]
    }
   ],
   "source": [
    "marks = int(input())\n",
    "\n",
    "if marks < 600:\n",
    "    print(\"NO GRE\")\n",
    "    if marks < 500:\n",
    "        print(\"TOFEL\")\n",
    "        if marks < 400:\n",
    "            print(\"Try something else\")\n",
    "    else:\n",
    "        print(\"YOU GOT TOFEL\")\n",
    "        \n",
    "elif marks > 600:\n",
    "    print(\"you will get IIT\")\n",
    "    if marks > 700:\n",
    "        print(\"you will get IIM\")\n",
    "    else:\n",
    "        print(\"try next time\")\n",
    "else:\n",
    "    print(\"You got GRE congratulations\")"
   ]
  },
  {
   "cell_type": "code",
   "execution_count": 47,
   "id": "881d7b6d-2155-4b2b-aebb-614f788bb7c0",
   "metadata": {},
   "outputs": [
    {
     "ename": "SyntaxError",
     "evalue": "invalid syntax (613152775.py, line 7)",
     "output_type": "error",
     "traceback": [
      "\u001b[1;36m  Cell \u001b[1;32mIn[47], line 7\u001b[1;36m\u001b[0m\n\u001b[1;33m    elif:\u001b[0m\n\u001b[1;37m        ^\u001b[0m\n\u001b[1;31mSyntaxError\u001b[0m\u001b[1;31m:\u001b[0m invalid syntax\n"
     ]
    }
   ],
   "source": [
    "mark = int(input(\"entrance exam marks\"))\n",
    "\n",
    "if mark > 700:\n",
    "    print()\n",
    "    if mark :\n",
    "        print()\n",
    "    elif:\n",
    "        print()\n",
    "        if:\n",
    "            print()\n",
    "        else:\n",
    "            print()\n",
    "    else:\n",
    "        print()\n",
    "elif:\n",
    "    print()\n",
    "    \n",
    "else:\n",
    "    print()"
   ]
  },
  {
   "cell_type": "code",
   "execution_count": 51,
   "id": "a97e93c2-e100-481b-9edc-0118c03d746b",
   "metadata": {},
   "outputs": [
    {
     "name": "stdin",
     "output_type": "stream",
     "text": [
      "enter a number  123\n"
     ]
    },
    {
     "name": "stdout",
     "output_type": "stream",
     "text": [
      "it is divisible by 3 or 2 or 5\n"
     ]
    }
   ],
   "source": [
    "n = int(input(\"enter a number \"))\n",
    "\n",
    "if n==2:\n",
    "    print(\"it is a prime number \", n)\n",
    "elif n==3:\n",
    "    print(\"it is a prime number \", n)\n",
    "    \n",
    "elif n%3==0 or n%2==0 or n%5==0 or n%7==0:\n",
    "    print(\"it is divisible by 3 or 2 or 5\")\n",
    "else:\n",
    "    print(\"it is a prime number\")"
   ]
  },
  {
   "cell_type": "code",
   "execution_count": null,
   "id": "57e36103-3f46-4913-a450-a66f6dd266dd",
   "metadata": {},
   "outputs": [],
   "source": []
  }
 ],
 "metadata": {
  "kernelspec": {
   "display_name": "Python 3 (ipykernel)",
   "language": "python",
   "name": "python3"
  },
  "language_info": {
   "codemirror_mode": {
    "name": "ipython",
    "version": 3
   },
   "file_extension": ".py",
   "mimetype": "text/x-python",
   "name": "python",
   "nbconvert_exporter": "python",
   "pygments_lexer": "ipython3",
   "version": "3.11.7"
  }
 },
 "nbformat": 4,
 "nbformat_minor": 5
}
