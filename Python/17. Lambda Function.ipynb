{
 "cells": [
  {
   "cell_type": "code",
   "execution_count": 1,
   "id": "322bc71e-91e4-4cdc-af6c-172702a162b6",
   "metadata": {},
   "outputs": [],
   "source": [
    "def print_info(**kwargs):\n",
    "    for key, value in kwargs.items():\n",
    "        print(f\"{key}: {value}\")"
   ]
  },
  {
   "cell_type": "code",
   "execution_count": 2,
   "id": "2196128a-16d9-4539-9c5f-e9e3ce13ce5b",
   "metadata": {},
   "outputs": [
    {
     "name": "stdout",
     "output_type": "stream",
     "text": [
      "name: Alice\n",
      "age: 30\n",
      "city: New York\n"
     ]
    }
   ],
   "source": [
    "print_info(name=\"Alice\", age=30, city=\"New York\")"
   ]
  },
  {
   "cell_type": "code",
   "execution_count": 4,
   "id": "faef3d71-ee60-45f4-9187-1d0dd27fb663",
   "metadata": {},
   "outputs": [],
   "source": [
    "def sum_numbers(*args):\n",
    "    total = 0\n",
    "    for number in args:\n",
    "        total += number\n",
    "    return total"
   ]
  },
  {
   "cell_type": "code",
   "execution_count": 5,
   "id": "c8b6e524-fc16-475d-b0fd-fcc2b3a4020c",
   "metadata": {},
   "outputs": [
    {
     "name": "stdout",
     "output_type": "stream",
     "text": [
      "15\n"
     ]
    }
   ],
   "source": [
    "result = sum_numbers(1, 2, 3, 4, 5)\n",
    "print(result)  # Output: 15"
   ]
  },
  {
   "cell_type": "markdown",
   "id": "34f6c618-cc73-4602-84f7-fb48cb3d873f",
   "metadata": {},
   "source": [
    "### list comprehension"
   ]
  },
  {
   "cell_type": "code",
   "execution_count": 6,
   "id": "921181be-5d01-4c51-bdba-067f6a85723d",
   "metadata": {},
   "outputs": [],
   "source": [
    "lis = [4,6,8,3,6,4]"
   ]
  },
  {
   "cell_type": "code",
   "execution_count": 7,
   "id": "e807282b-530a-41fd-b47c-2bf47190e5cd",
   "metadata": {},
   "outputs": [
    {
     "name": "stdout",
     "output_type": "stream",
     "text": [
      "4\n",
      "6\n",
      "8\n",
      "3\n",
      "6\n",
      "4\n"
     ]
    }
   ],
   "source": [
    "for i in lis:\n",
    "    print(i)"
   ]
  },
  {
   "cell_type": "code",
   "execution_count": 8,
   "id": "42fd490c-0fad-4cad-b990-1a18f4cf9b6e",
   "metadata": {},
   "outputs": [
    {
     "data": {
      "text/plain": [
       "[4, 6, 8, 3, 6, 4]"
      ]
     },
     "execution_count": 8,
     "metadata": {},
     "output_type": "execute_result"
    }
   ],
   "source": [
    "[i for i in lis]"
   ]
  },
  {
   "cell_type": "code",
   "execution_count": 9,
   "id": "966892a5-a5ae-411a-b795-5e2785fe3c12",
   "metadata": {},
   "outputs": [
    {
     "data": {
      "text/plain": [
       "[16, 36, 64, 9, 36, 16]"
      ]
     },
     "execution_count": 9,
     "metadata": {},
     "output_type": "execute_result"
    }
   ],
   "source": [
    "[i**2 for i in lis]"
   ]
  },
  {
   "cell_type": "code",
   "execution_count": 10,
   "id": "d82f6af9-e39f-4d76-86f9-a1ed5566348d",
   "metadata": {},
   "outputs": [],
   "source": [
    "strvar = \"data science\""
   ]
  },
  {
   "cell_type": "code",
   "execution_count": 11,
   "id": "2900db0e-cfee-44fa-bb24-622d9d98c900",
   "metadata": {},
   "outputs": [
    {
     "data": {
      "text/plain": [
       "['d', 'a', 't', 'a', ' ', 's', 'c', 'i', 'e', 'n', 'c', 'e']"
      ]
     },
     "execution_count": 11,
     "metadata": {},
     "output_type": "execute_result"
    }
   ],
   "source": [
    "[i for i in strvar]"
   ]
  },
  {
   "cell_type": "code",
   "execution_count": 12,
   "id": "2175325b-0a20-4ca8-8122-da3b3b08dff3",
   "metadata": {},
   "outputs": [
    {
     "name": "stdout",
     "output_type": "stream",
     "text": [
      "[0, 2, 4, 6, 8, 10]\n"
     ]
    }
   ],
   "source": [
    "list = [i for i in range(11) if i % 2 == 0]\n",
    "print(list)"
   ]
  },
  {
   "cell_type": "code",
   "execution_count": 13,
   "id": "195f9ad3-3e31-4e7c-ab5e-ab9f24b3c6d1",
   "metadata": {},
   "outputs": [
    {
     "name": "stdout",
     "output_type": "stream",
     "text": [
      "[[0, 1, 2, 3], [0, 1, 2, 3], [0, 1, 2, 3], [0, 1, 2, 3]]\n"
     ]
    }
   ],
   "source": [
    "matrix = [[j for j in range(4)] for i in range(4)]\n",
    "\n",
    "print(matrix)"
   ]
  },
  {
   "cell_type": "code",
   "execution_count": 14,
   "id": "0bf96a1f-186b-43ba-b6a9-916acf533770",
   "metadata": {},
   "outputs": [
    {
     "name": "stdout",
     "output_type": "stream",
     "text": [
      "['Even number', 'Odd number', 'Even number', 'Odd number', 'Even number', 'Odd number', 'Even number', 'Odd number']\n"
     ]
    }
   ],
   "source": [
    "lis = [\"Even number\" if i % 2 == 0 else \"Odd number\" for i in range(8)]\n",
    "print(lis)"
   ]
  },
  {
   "cell_type": "code",
   "execution_count": 15,
   "id": "21035cb4-31b0-460a-8ddd-9b19adf3b1e7",
   "metadata": {},
   "outputs": [
    {
     "data": {
      "text/plain": [
       "[[0, 1, 2, 3, 4],\n",
       " [0, 1, 2, 3, 4],\n",
       " [0, 1, 2, 3, 4],\n",
       " [0, 1, 2, 3, 4],\n",
       " [0, 1, 2, 3, 4],\n",
       " [0, 1, 2, 3, 4]]"
      ]
     },
     "execution_count": 15,
     "metadata": {},
     "output_type": "execute_result"
    }
   ],
   "source": [
    "matrix = [[i for i in range(5) ] for _ in range(6)]\n",
    "matrix"
   ]
  },
  {
   "cell_type": "markdown",
   "id": "d0a7b0d7-7ca4-4d5c-93e0-15b53f0d0348",
   "metadata": {},
   "source": [
    "### Lambda function"
   ]
  },
  {
   "cell_type": "code",
   "execution_count": 17,
   "id": "ca2c3301-96cc-4efe-96e0-a9336243beba",
   "metadata": {},
   "outputs": [],
   "source": [
    "f1 = lambda a , b : a + b "
   ]
  },
  {
   "cell_type": "code",
   "execution_count": 18,
   "id": "3a6ca7ea-9db0-4866-91b6-85143a51f37f",
   "metadata": {},
   "outputs": [
    {
     "data": {
      "text/plain": [
       "10"
      ]
     },
     "execution_count": 18,
     "metadata": {},
     "output_type": "execute_result"
    }
   ],
   "source": [
    "f1(2,8)"
   ]
  },
  {
   "cell_type": "code",
   "execution_count": 19,
   "id": "c146f656-2afc-4492-905b-33850fef5cd2",
   "metadata": {},
   "outputs": [],
   "source": [
    "str1 = 'python is a data science language'\n",
    "\n",
    "upper = lambda string_var: string_var.upper()"
   ]
  },
  {
   "cell_type": "code",
   "execution_count": 20,
   "id": "62d5c415-b285-44e5-a25b-88482e24c472",
   "metadata": {},
   "outputs": [
    {
     "data": {
      "text/plain": [
       "'PYTHON IS A DATA SCIENCE LANGUAGE'"
      ]
     },
     "execution_count": 20,
     "metadata": {},
     "output_type": "execute_result"
    }
   ],
   "source": [
    "upper(str1)"
   ]
  },
  {
   "cell_type": "code",
   "execution_count": 21,
   "id": "9b73ad18-c16a-46f7-b6af-aa1c6e94135a",
   "metadata": {},
   "outputs": [],
   "source": [
    "Max = lambda a, b : a if(a > b) else b"
   ]
  },
  {
   "cell_type": "code",
   "execution_count": 22,
   "id": "c53729e3-3b0a-4798-9450-1ab3091b964f",
   "metadata": {},
   "outputs": [
    {
     "data": {
      "text/plain": [
       "8"
      ]
     },
     "execution_count": 22,
     "metadata": {},
     "output_type": "execute_result"
    }
   ],
   "source": [
    "Max(4,8)"
   ]
  },
  {
   "cell_type": "code",
   "execution_count": 23,
   "id": "488fa623-a6cf-415f-a84f-661470856c39",
   "metadata": {},
   "outputs": [],
   "source": [
    "List = [[2,4,3],[1, 4, 2, 5],[3, 6, 9, 5]]\n",
    "\n",
    "sortList = lambda x: (sorted(i) for i in x)"
   ]
  },
  {
   "cell_type": "code",
   "execution_count": 24,
   "id": "0e27d20d-daf8-4f34-9c01-c177a29a5440",
   "metadata": {},
   "outputs": [
    {
     "data": {
      "text/plain": [
       "<generator object <lambda>.<locals>.<genexpr> at 0x000001A22D6F9000>"
      ]
     },
     "execution_count": 24,
     "metadata": {},
     "output_type": "execute_result"
    }
   ],
   "source": [
    "sortList(List)"
   ]
  },
  {
   "cell_type": "code",
   "execution_count": 25,
   "id": "c6edd3a4-0019-4faa-b1f6-6ac8ed13a6c5",
   "metadata": {},
   "outputs": [],
   "source": [
    "List = [[2,4,3],[1, 4, 2, 5],[3, 6, 9, 5]]\n",
    "\n",
    "sortList = lambda x: [sorted(i) for i in x]"
   ]
  },
  {
   "cell_type": "code",
   "execution_count": 26,
   "id": "b37e0536-1074-4a4c-89fc-696e5708b355",
   "metadata": {},
   "outputs": [
    {
     "data": {
      "text/plain": [
       "[[2, 3, 4], [1, 2, 4, 5], [3, 5, 6, 9]]"
      ]
     },
     "execution_count": 26,
     "metadata": {},
     "output_type": "execute_result"
    }
   ],
   "source": [
    "sortList(List)"
   ]
  },
  {
   "cell_type": "code",
   "execution_count": 27,
   "id": "1ed1495e-3454-4941-ba22-01e7c844cc88",
   "metadata": {},
   "outputs": [],
   "source": [
    "def outer_function(message):\n",
    "    def inner_function():\n",
    "        return f\"Inner function says: {message}\"\n",
    "    \n",
    "    return inner_function()"
   ]
  },
  {
   "cell_type": "code",
   "execution_count": 28,
   "id": "54d6a948-e8d1-49c7-a91a-85dab3cd2dac",
   "metadata": {},
   "outputs": [
    {
     "name": "stdout",
     "output_type": "stream",
     "text": [
      "Inner function says: Hello from the outer function!\n"
     ]
    }
   ],
   "source": [
    "result = outer_function(\"Hello from the outer function!\")\n",
    "print(result)    "
   ]
  },
  {
   "cell_type": "code",
   "execution_count": 30,
   "id": "76cf51b4-a1b2-494a-b80f-f643d00842ff",
   "metadata": {},
   "outputs": [],
   "source": [
    "def area_calculator(shape):\n",
    "    def rectangle_area(length, width):\n",
    "        return length * width\n",
    "\n",
    "    def circle_area(radius):\n",
    "        import math\n",
    "        return math.pi * (radius ** 2)\n",
    "\n",
    "    if shape == \"rectangle\":\n",
    "        length = float(input(\"Enter the length: \"))\n",
    "        width = float(input(\"Enter the width: \"))\n",
    "        return rectangle_area(length, width)\n",
    "    \n",
    "    elif shape == \"circle\":\n",
    "        radius = float(input(\"Enter the radius: \"))\n",
    "        return circle_area(radius)\n",
    "\n",
    "    else:\n",
    "        return \"Shape not recognized.\""
   ]
  },
  {
   "cell_type": "code",
   "execution_count": 33,
   "id": "1ee65fd7-cd35-4233-a086-8382acd5f59d",
   "metadata": {},
   "outputs": [
    {
     "name": "stdin",
     "output_type": "stream",
     "text": [
      "Enter the shape (rectangle/circle):  tringle\n"
     ]
    },
    {
     "name": "stdout",
     "output_type": "stream",
     "text": [
      "The area is: Shape not recognized.\n"
     ]
    }
   ],
   "source": [
    "# Example usage\n",
    "shape_type = input(\"Enter the shape (rectangle/circle): \").lower()\n",
    "result = area_calculator(shape_type)\n",
    "print(f\"The area is: {result}\")"
   ]
  },
  {
   "cell_type": "code",
   "execution_count": null,
   "id": "9bcc585b-cb23-4003-994f-dff249155952",
   "metadata": {},
   "outputs": [],
   "source": []
  }
 ],
 "metadata": {
  "kernelspec": {
   "display_name": "Python 3 (ipykernel)",
   "language": "python",
   "name": "python3"
  },
  "language_info": {
   "codemirror_mode": {
    "name": "ipython",
    "version": 3
   },
   "file_extension": ".py",
   "mimetype": "text/x-python",
   "name": "python",
   "nbconvert_exporter": "python",
   "pygments_lexer": "ipython3",
   "version": "3.11.7"
  }
 },
 "nbformat": 4,
 "nbformat_minor": 5
}
