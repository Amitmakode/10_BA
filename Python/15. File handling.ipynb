{
 "cells": [
  {
   "cell_type": "code",
   "execution_count": 1,
   "id": "c4f4eea2-9b5a-44ba-9fc2-2485dc665a6d",
   "metadata": {},
   "outputs": [
    {
     "ename": "FileNotFoundError",
     "evalue": "[Errno 2] No such file or directory: 'new.txt'",
     "output_type": "error",
     "traceback": [
      "\u001b[1;31m---------------------------------------------------------------------------\u001b[0m",
      "\u001b[1;31mFileNotFoundError\u001b[0m                         Traceback (most recent call last)",
      "Cell \u001b[1;32mIn[1], line 1\u001b[0m\n\u001b[1;32m----> 1\u001b[0m \u001b[38;5;28mopen\u001b[39m(\u001b[38;5;124m\"\u001b[39m\u001b[38;5;124mnew.txt\u001b[39m\u001b[38;5;124m\"\u001b[39m)\n",
      "File \u001b[1;32m~\\anaconda3\\Lib\\site-packages\\IPython\\core\\interactiveshell.py:310\u001b[0m, in \u001b[0;36m_modified_open\u001b[1;34m(file, *args, **kwargs)\u001b[0m\n\u001b[0;32m    303\u001b[0m \u001b[38;5;28;01mif\u001b[39;00m file \u001b[38;5;129;01min\u001b[39;00m {\u001b[38;5;241m0\u001b[39m, \u001b[38;5;241m1\u001b[39m, \u001b[38;5;241m2\u001b[39m}:\n\u001b[0;32m    304\u001b[0m     \u001b[38;5;28;01mraise\u001b[39;00m \u001b[38;5;167;01mValueError\u001b[39;00m(\n\u001b[0;32m    305\u001b[0m         \u001b[38;5;124mf\u001b[39m\u001b[38;5;124m\"\u001b[39m\u001b[38;5;124mIPython won\u001b[39m\u001b[38;5;124m'\u001b[39m\u001b[38;5;124mt let you open fd=\u001b[39m\u001b[38;5;132;01m{\u001b[39;00mfile\u001b[38;5;132;01m}\u001b[39;00m\u001b[38;5;124m by default \u001b[39m\u001b[38;5;124m\"\u001b[39m\n\u001b[0;32m    306\u001b[0m         \u001b[38;5;124m\"\u001b[39m\u001b[38;5;124mas it is likely to crash IPython. If you know what you are doing, \u001b[39m\u001b[38;5;124m\"\u001b[39m\n\u001b[0;32m    307\u001b[0m         \u001b[38;5;124m\"\u001b[39m\u001b[38;5;124myou can use builtins\u001b[39m\u001b[38;5;124m'\u001b[39m\u001b[38;5;124m open.\u001b[39m\u001b[38;5;124m\"\u001b[39m\n\u001b[0;32m    308\u001b[0m     )\n\u001b[1;32m--> 310\u001b[0m \u001b[38;5;28;01mreturn\u001b[39;00m io_open(file, \u001b[38;5;241m*\u001b[39margs, \u001b[38;5;241m*\u001b[39m\u001b[38;5;241m*\u001b[39mkwargs)\n",
      "\u001b[1;31mFileNotFoundError\u001b[0m: [Errno 2] No such file or directory: 'new.txt'"
     ]
    }
   ],
   "source": [
    "open(\"new.txt\")"
   ]
  },
  {
   "cell_type": "code",
   "execution_count": null,
   "id": "e0ef03fc-020f-46a4-bb1a-28d809d5cc38",
   "metadata": {},
   "outputs": [],
   "source": [
    "- \"r\" - Read - Default value. Opens a file for reading, it returns an error if the file does not exist\n",
    "- \"a\" - Append - Opens a file for appending, creates the file if it does not exist\n",
    "- \"w\" - Write - Opens a file for writing, creates the file if it does not exist\n",
    "- \"r+\" - Read and Write"
   ]
  },
  {
   "cell_type": "code",
   "execution_count": 3,
   "id": "87ac7e56-c4ff-4e18-8b27-8b6630c5288b",
   "metadata": {},
   "outputs": [],
   "source": [
    "f = open(\"test_1.txt\", \"w\")   "
   ]
  },
  {
   "cell_type": "code",
   "execution_count": 4,
   "id": "ff9d0702-4a0e-47cd-b5a6-93cac1d66300",
   "metadata": {},
   "outputs": [
    {
     "data": {
      "text/plain": [
       "33"
      ]
     },
     "execution_count": 4,
     "metadata": {},
     "output_type": "execute_result"
    }
   ],
   "source": [
    "f.write(\"Write - Opens a file for writing,\")"
   ]
  },
  {
   "cell_type": "code",
   "execution_count": 5,
   "id": "48b61436-acaf-49e4-9b2d-e48fdbfbeb3a",
   "metadata": {},
   "outputs": [],
   "source": [
    "f.close()"
   ]
  },
  {
   "cell_type": "code",
   "execution_count": 7,
   "id": "8732112b-9ec4-4daa-a240-9990916fd607",
   "metadata": {},
   "outputs": [],
   "source": [
    "f1 = open(\"test_1.txt\", \"r\")"
   ]
  },
  {
   "cell_type": "code",
   "execution_count": 8,
   "id": "ea37639a-026e-457b-b455-30550522fce7",
   "metadata": {},
   "outputs": [
    {
     "data": {
      "text/plain": [
       "'Write - Opens a file for writing,'"
      ]
     },
     "execution_count": 8,
     "metadata": {},
     "output_type": "execute_result"
    }
   ],
   "source": [
    "f1.read()"
   ]
  },
  {
   "cell_type": "code",
   "execution_count": 9,
   "id": "59d28ee9-1f4a-4d80-8e2b-33e82ed0f65e",
   "metadata": {},
   "outputs": [
    {
     "data": {
      "text/plain": [
       "''"
      ]
     },
     "execution_count": 9,
     "metadata": {},
     "output_type": "execute_result"
    }
   ],
   "source": [
    "f1.read()"
   ]
  },
  {
   "cell_type": "code",
   "execution_count": 10,
   "id": "47569062-abd4-4a40-bdbd-b0552248e57f",
   "metadata": {},
   "outputs": [
    {
     "ename": "UnsupportedOperation",
     "evalue": "not writable",
     "output_type": "error",
     "traceback": [
      "\u001b[1;31m---------------------------------------------------------------------------\u001b[0m",
      "\u001b[1;31mUnsupportedOperation\u001b[0m                      Traceback (most recent call last)",
      "Cell \u001b[1;32mIn[10], line 1\u001b[0m\n\u001b[1;32m----> 1\u001b[0m f1\u001b[38;5;241m.\u001b[39mwrite(\u001b[38;5;124m\"\u001b[39m\u001b[38;5;124mcreates the file if it does not exist\u001b[39m\u001b[38;5;124m\"\u001b[39m)\n",
      "\u001b[1;31mUnsupportedOperation\u001b[0m: not writable"
     ]
    }
   ],
   "source": [
    "f1.write(\"creates the file if it does not exist\")"
   ]
  },
  {
   "cell_type": "code",
   "execution_count": 12,
   "id": "0e4a21ca-b5c8-4176-83c1-826bc364399d",
   "metadata": {},
   "outputs": [
    {
     "data": {
      "text/plain": [
       "'r'"
      ]
     },
     "execution_count": 12,
     "metadata": {},
     "output_type": "execute_result"
    }
   ],
   "source": [
    "f1.mode"
   ]
  },
  {
   "cell_type": "code",
   "execution_count": 13,
   "id": "ffc6a24b-7575-43f9-9077-c73879b5c553",
   "metadata": {},
   "outputs": [],
   "source": [
    "f1.close()"
   ]
  },
  {
   "cell_type": "code",
   "execution_count": 15,
   "id": "23bef51d-e1eb-4a8a-a649-de3c73914f87",
   "metadata": {},
   "outputs": [],
   "source": [
    "f2 = open(\"test_1.txt\", \"r+\")"
   ]
  },
  {
   "cell_type": "code",
   "execution_count": 16,
   "id": "2b009b99-3669-4ddb-b169-7f439ff1013a",
   "metadata": {},
   "outputs": [
    {
     "data": {
      "text/plain": [
       "37"
      ]
     },
     "execution_count": 16,
     "metadata": {},
     "output_type": "execute_result"
    }
   ],
   "source": [
    "f2.write(\"creates the file if it does not exist\")"
   ]
  },
  {
   "cell_type": "code",
   "execution_count": 17,
   "id": "feb2a527-f8f8-4b56-adb7-d112d419c5df",
   "metadata": {},
   "outputs": [
    {
     "data": {
      "text/plain": [
       "''"
      ]
     },
     "execution_count": 17,
     "metadata": {},
     "output_type": "execute_result"
    }
   ],
   "source": [
    "f2.read()"
   ]
  },
  {
   "cell_type": "code",
   "execution_count": 19,
   "id": "d6d88450-264f-4bb5-951d-50ea1c39ff71",
   "metadata": {},
   "outputs": [],
   "source": [
    "f2.close()"
   ]
  },
  {
   "cell_type": "code",
   "execution_count": 21,
   "id": "d8944c06-608f-40fe-b35e-8339306a1955",
   "metadata": {},
   "outputs": [],
   "source": [
    "f3= open(\"test_1.txt\", \"a\")"
   ]
  },
  {
   "cell_type": "code",
   "execution_count": 22,
   "id": "5a4b2b8b-57d3-4527-bdcc-a05e0cbe9d3d",
   "metadata": {},
   "outputs": [
    {
     "data": {
      "text/plain": [
       "36"
      ]
     },
     "execution_count": 22,
     "metadata": {},
     "output_type": "execute_result"
    }
   ],
   "source": [
    "f3.write(\" Append - Opens a file for appending,\")"
   ]
  },
  {
   "cell_type": "code",
   "execution_count": 23,
   "id": "2fa7c1eb-4001-447c-bbaf-d8e199be568a",
   "metadata": {},
   "outputs": [],
   "source": [
    "f3.close()"
   ]
  },
  {
   "cell_type": "code",
   "execution_count": 24,
   "id": "951c386c-878e-42c3-89e8-f4d0b9c00794",
   "metadata": {},
   "outputs": [],
   "source": [
    "f4 = open(\"test_1.txt\", \"r+\")"
   ]
  },
  {
   "cell_type": "code",
   "execution_count": 25,
   "id": "8012c7a2-fc8a-47b3-aa95-588e4d9d9e89",
   "metadata": {},
   "outputs": [
    {
     "data": {
      "text/plain": [
       "55"
      ]
     },
     "execution_count": 25,
     "metadata": {},
     "output_type": "execute_result"
    }
   ],
   "source": [
    "f4.seek(55)"
   ]
  },
  {
   "cell_type": "code",
   "execution_count": 27,
   "id": "b17cdeec-88b7-414a-bd7b-3555d6cf0bd3",
   "metadata": {},
   "outputs": [
    {
     "data": {
      "text/plain": [
       "22"
      ]
     },
     "execution_count": 27,
     "metadata": {},
     "output_type": "execute_result"
    }
   ],
   "source": [
    "f4.write(\" - r+ - Read and Write\")"
   ]
  },
  {
   "cell_type": "code",
   "execution_count": 28,
   "id": "c8a36ca9-7227-4498-8557-2a8da5c87d41",
   "metadata": {},
   "outputs": [],
   "source": [
    "f4.close()"
   ]
  },
  {
   "cell_type": "code",
   "execution_count": 29,
   "id": "5cd31dea-bbcb-4b56-9c69-b3e0a7c9a3ea",
   "metadata": {},
   "outputs": [],
   "source": [
    "f5 = open(\"test_1.txt\", \"r+\")"
   ]
  },
  {
   "cell_type": "code",
   "execution_count": 30,
   "id": "5d10c3a3-8b12-4849-b687-8b00d4b11bd8",
   "metadata": {},
   "outputs": [
    {
     "data": {
      "text/plain": [
       "0"
      ]
     },
     "execution_count": 30,
     "metadata": {},
     "output_type": "execute_result"
    }
   ],
   "source": [
    "f5.tell()"
   ]
  },
  {
   "cell_type": "code",
   "execution_count": 31,
   "id": "9146e88b-c980-450b-a44c-0f77c9583fe5",
   "metadata": {},
   "outputs": [
    {
     "data": {
      "text/plain": [
       "21"
      ]
     },
     "execution_count": 31,
     "metadata": {},
     "output_type": "execute_result"
    }
   ],
   "source": [
    "f5.write(\"Read - Default value.\")"
   ]
  },
  {
   "cell_type": "code",
   "execution_count": 34,
   "id": "22af80f2-7122-421c-8cf5-57b401e9f8fe",
   "metadata": {},
   "outputs": [],
   "source": [
    "f5.close()"
   ]
  },
  {
   "cell_type": "code",
   "execution_count": 36,
   "id": "00c80330-0d46-412f-9690-88eff6de3791",
   "metadata": {},
   "outputs": [
    {
     "name": "stdout",
     "output_type": "stream",
     "text": [
      "Read - Default value.t does not existAppend - Opens a f - r+ - Read and Write\n"
     ]
    }
   ],
   "source": [
    "with open(\"test_1.txt\", \"r\") as f6:\n",
    "    lines = f6.read()\n",
    "    print(lines)"
   ]
  },
  {
   "cell_type": "code",
   "execution_count": 37,
   "id": "dbc9b98a-b539-4979-9237-6be7e08fbc99",
   "metadata": {},
   "outputs": [
    {
     "name": "stdout",
     "output_type": "stream",
     "text": [
      "Writing demo1.txt\n"
     ]
    }
   ],
   "source": [
    "%%writefile demo1.txt \n",
    "my name is amit \n"
   ]
  },
  {
   "cell_type": "code",
   "execution_count": null,
   "id": "861e59cf-4495-413f-8928-b8b5eb118ed5",
   "metadata": {},
   "outputs": [],
   "source": []
  },
  {
   "cell_type": "code",
   "execution_count": 38,
   "id": "ffd6ce77-34eb-460c-9c08-54147a66bf3f",
   "metadata": {},
   "outputs": [],
   "source": [
    "import os"
   ]
  },
  {
   "cell_type": "code",
   "execution_count": 39,
   "id": "7254360a-a11f-4f11-be57-74261afb8903",
   "metadata": {},
   "outputs": [
    {
     "data": {
      "text/plain": [
       "['.ipynb_checkpoints',\n",
       " '06. condition .ipynb',\n",
       " '08. Condition-1.ipynb',\n",
       " '1. Basic Of Python.ipynb',\n",
       " '10. Loop.ipynb',\n",
       " '11. While loop.ipynb',\n",
       " '2. Py .ipynb',\n",
       " '3. String_formating.ipynb',\n",
       " '4. String.ipynb',\n",
       " '5. List & Tuple.ipynb',\n",
       " '7. Set & Dict.ipynb',\n",
       " 'demo1.txt',\n",
       " 'File handle.ipynb',\n",
       " 'logfile.log',\n",
       " 'Practice-1.ipynb',\n",
       " 'test_1.txt',\n",
       " 'Try_Except & Logging .ipynb']"
      ]
     },
     "execution_count": 39,
     "metadata": {},
     "output_type": "execute_result"
    }
   ],
   "source": [
    "os.listdir()"
   ]
  },
  {
   "cell_type": "code",
   "execution_count": 40,
   "id": "f450cae8-8d53-4339-97d2-2fe7b48fb3e7",
   "metadata": {},
   "outputs": [
    {
     "name": "stdout",
     "output_type": "stream",
     "text": [
      ".ipynb_checkpoints\n",
      "06. condition .ipynb\n",
      "08. Condition-1.ipynb\n",
      "1. Basic Of Python.ipynb\n",
      "10. Loop.ipynb\n",
      "11. While loop.ipynb\n",
      "2. Py .ipynb\n",
      "3. String_formating.ipynb\n",
      "4. String.ipynb\n",
      "5. List & Tuple.ipynb\n",
      "7. Set & Dict.ipynb\n",
      "demo1.txt\n",
      "File handle.ipynb\n",
      "logfile.log\n",
      "Practice-1.ipynb\n",
      "test_1.txt\n",
      "Try_Except & Logging .ipynb\n"
     ]
    }
   ],
   "source": [
    "for i in os.listdir():\n",
    "    print(i)"
   ]
  },
  {
   "cell_type": "code",
   "execution_count": 41,
   "id": "2674d20e-9dcb-47bd-8764-b45027cfd7c7",
   "metadata": {},
   "outputs": [
    {
     "data": {
      "text/plain": [
       "'C:\\\\Users\\\\amitm\\\\Class\\\\10_AM'"
      ]
     },
     "execution_count": 41,
     "metadata": {},
     "output_type": "execute_result"
    }
   ],
   "source": [
    "os.getcwd()"
   ]
  },
  {
   "cell_type": "code",
   "execution_count": 43,
   "id": "fbe503fa-52a4-420c-98c9-f98bcb5747b5",
   "metadata": {},
   "outputs": [],
   "source": [
    "os.chdir(\"C:\\\\Users\\\\amitm\\\\Downloads\")"
   ]
  },
  {
   "cell_type": "code",
   "execution_count": 44,
   "id": "3555bc22-8fa7-4e8c-a55c-4635a478a365",
   "metadata": {},
   "outputs": [
    {
     "data": {
      "text/plain": [
       "'C:\\\\Users\\\\amitm\\\\Downloads'"
      ]
     },
     "execution_count": 44,
     "metadata": {},
     "output_type": "execute_result"
    }
   ],
   "source": [
    "os.getcwd()"
   ]
  },
  {
   "cell_type": "code",
   "execution_count": 45,
   "id": "c607f365-ddd6-4757-91ba-58a04df77177",
   "metadata": {},
   "outputs": [
    {
     "data": {
      "text/plain": [
       "['11_DA-main',\n",
       " '13. File Handeling.ipynb',\n",
       " 'amit kumar makode.jpg',\n",
       " 'Amit Makode.docx',\n",
       " 'Amit Makode.pdf',\n",
       " 'amit resume trainer.pdf',\n",
       " 'Avion Logo.jpg',\n",
       " 'Data Analyst_JD.pdf',\n",
       " 'desktop.ini',\n",
       " 'DevOps Mastery Course.pptx',\n",
       " 'devops-demo.pptx',\n",
       " 'F + S (FourSin) Monogram Logo.jpg',\n",
       " 'macros1.xlsm',\n",
       " 'Normalization form.xlsx',\n",
       " 'Rahul Giradkar_ DA.pdf',\n",
       " 'sales_data_final.csv',\n",
       " 'Sample Resume_2024.docx',\n",
       " 'Spaceship.jpg',\n",
       " 'Sr. Supply Chain Analyst - Checklist.docx',\n",
       " 't r (1).png',\n",
       " 'Vlookup.xlsx',\n",
       " 'VTU-Tracks Curriculum Final.xlsx']"
      ]
     },
     "execution_count": 45,
     "metadata": {},
     "output_type": "execute_result"
    }
   ],
   "source": [
    "os.listdir()"
   ]
  },
  {
   "cell_type": "code",
   "execution_count": 46,
   "id": "a3ff1737-a733-4389-ab22-af01b2f76687",
   "metadata": {},
   "outputs": [],
   "source": [
    "os.mkdir(\"newdir\")"
   ]
  },
  {
   "cell_type": "code",
   "execution_count": 47,
   "id": "ce8f1e58-b493-4908-a837-cbab3a975aa1",
   "metadata": {},
   "outputs": [
    {
     "data": {
      "text/plain": [
       "'C:\\\\Users\\\\amitm\\\\Downloads'"
      ]
     },
     "execution_count": 47,
     "metadata": {},
     "output_type": "execute_result"
    }
   ],
   "source": [
    "os.getcwd()"
   ]
  },
  {
   "cell_type": "code",
   "execution_count": 48,
   "id": "88dc05b8-3526-4dd9-b131-324778fd2368",
   "metadata": {},
   "outputs": [],
   "source": [
    "os.chdir('C:\\\\Users\\\\amitm\\\\Downloads\\\\newdir')"
   ]
  },
  {
   "cell_type": "code",
   "execution_count": 49,
   "id": "c8b930a8-9ac8-4655-8e8c-554284006720",
   "metadata": {},
   "outputs": [
    {
     "data": {
      "text/plain": [
       "[]"
      ]
     },
     "execution_count": 49,
     "metadata": {},
     "output_type": "execute_result"
    }
   ],
   "source": [
    "os.listdir()"
   ]
  },
  {
   "cell_type": "code",
   "execution_count": 51,
   "id": "c2d3448d-cdfc-41f2-93e5-17559a093d89",
   "metadata": {},
   "outputs": [
    {
     "name": "stdout",
     "output_type": "stream",
     "text": [
      "Writing new.txt\n"
     ]
    }
   ],
   "source": [
    "%%writefile new.txt\n",
    "Normalization form.xlsx\n",
    "Rahul Giradkar_ DA.pdf"
   ]
  },
  {
   "cell_type": "code",
   "execution_count": 52,
   "id": "bea8acdc-bb87-444b-8f5b-fb0217c2efa6",
   "metadata": {},
   "outputs": [
    {
     "data": {
      "text/plain": [
       "['new.txt']"
      ]
     },
     "execution_count": 52,
     "metadata": {},
     "output_type": "execute_result"
    }
   ],
   "source": [
    "os.listdir()"
   ]
  },
  {
   "cell_type": "code",
   "execution_count": 53,
   "id": "7c3c1412-282f-4318-a949-ff8472d778d5",
   "metadata": {},
   "outputs": [],
   "source": [
    "os.remove('new.txt')"
   ]
  },
  {
   "cell_type": "code",
   "execution_count": 54,
   "id": "efd9f0df-62ff-4ec1-a00c-f8ae280e8263",
   "metadata": {},
   "outputs": [
    {
     "data": {
      "text/plain": [
       "[]"
      ]
     },
     "execution_count": 54,
     "metadata": {},
     "output_type": "execute_result"
    }
   ],
   "source": [
    "os.listdir()"
   ]
  },
  {
   "cell_type": "code",
   "execution_count": 55,
   "id": "a83c2c16-1b99-418c-ae76-d5f9565c4a19",
   "metadata": {},
   "outputs": [],
   "source": [
    "os.chdir('C:\\\\Users\\\\amitm\\\\Downloads')"
   ]
  },
  {
   "cell_type": "code",
   "execution_count": 56,
   "id": "61eba00d-14cd-427e-8e25-e3cbf0baa135",
   "metadata": {},
   "outputs": [
    {
     "data": {
      "text/plain": [
       "['11_DA-main',\n",
       " '13. File Handeling.ipynb',\n",
       " 'amit kumar makode.jpg',\n",
       " 'Amit Makode.docx',\n",
       " 'Amit Makode.pdf',\n",
       " 'amit resume trainer.pdf',\n",
       " 'Avion Logo.jpg',\n",
       " 'Data Analyst_JD.pdf',\n",
       " 'desktop.ini',\n",
       " 'DevOps Mastery Course.pptx',\n",
       " 'devops-demo.pptx',\n",
       " 'F + S (FourSin) Monogram Logo.jpg',\n",
       " 'macros1.xlsm',\n",
       " 'newdir',\n",
       " 'Normalization form.xlsx',\n",
       " 'Rahul Giradkar_ DA.pdf',\n",
       " 'sales_data_final.csv',\n",
       " 'Sample Resume_2024.docx',\n",
       " 'Spaceship.jpg',\n",
       " 'Sr. Supply Chain Analyst - Checklist.docx',\n",
       " 't r (1).png',\n",
       " 'Vlookup.xlsx',\n",
       " 'VTU-Tracks Curriculum Final.xlsx']"
      ]
     },
     "execution_count": 56,
     "metadata": {},
     "output_type": "execute_result"
    }
   ],
   "source": [
    "os.listdir()"
   ]
  },
  {
   "cell_type": "code",
   "execution_count": 57,
   "id": "39674be0-bbc6-4aef-afd4-06fa013e72fa",
   "metadata": {},
   "outputs": [],
   "source": [
    "os.rmdir(\"newdir\")"
   ]
  },
  {
   "cell_type": "code",
   "execution_count": 58,
   "id": "6ca4176c-e3ed-43e6-a3d7-4d33083c7f4c",
   "metadata": {},
   "outputs": [
    {
     "data": {
      "text/plain": [
       "['11_DA-main',\n",
       " '13. File Handeling.ipynb',\n",
       " 'amit kumar makode.jpg',\n",
       " 'Amit Makode.docx',\n",
       " 'Amit Makode.pdf',\n",
       " 'amit resume trainer.pdf',\n",
       " 'Avion Logo.jpg',\n",
       " 'Data Analyst_JD.pdf',\n",
       " 'desktop.ini',\n",
       " 'DevOps Mastery Course.pptx',\n",
       " 'devops-demo.pptx',\n",
       " 'F + S (FourSin) Monogram Logo.jpg',\n",
       " 'macros1.xlsm',\n",
       " 'Normalization form.xlsx',\n",
       " 'Rahul Giradkar_ DA.pdf',\n",
       " 'sales_data_final.csv',\n",
       " 'Sample Resume_2024.docx',\n",
       " 'Spaceship.jpg',\n",
       " 'Sr. Supply Chain Analyst - Checklist.docx',\n",
       " 't r (1).png',\n",
       " 'Vlookup.xlsx',\n",
       " 'VTU-Tracks Curriculum Final.xlsx']"
      ]
     },
     "execution_count": 58,
     "metadata": {},
     "output_type": "execute_result"
    }
   ],
   "source": [
    "os.listdir()"
   ]
  },
  {
   "cell_type": "code",
   "execution_count": 59,
   "id": "ce98dd38-48d3-4882-8fcc-867a12f2bc62",
   "metadata": {},
   "outputs": [],
   "source": [
    "os.chdir('C:\\\\Users\\\\amitm\\\\Class\\\\10_AM')"
   ]
  },
  {
   "cell_type": "code",
   "execution_count": 60,
   "id": "9352bdcc-47fe-4012-8219-d3d9e8ae772c",
   "metadata": {},
   "outputs": [
    {
     "data": {
      "text/plain": [
       "['.ipynb_checkpoints',\n",
       " '06. condition .ipynb',\n",
       " '08. Condition-1.ipynb',\n",
       " '1. Basic Of Python.ipynb',\n",
       " '10. Loop.ipynb',\n",
       " '11. While loop.ipynb',\n",
       " '2. Py .ipynb',\n",
       " '3. String_formating.ipynb',\n",
       " '4. String.ipynb',\n",
       " '5. List & Tuple.ipynb',\n",
       " '7. Set & Dict.ipynb',\n",
       " 'demo1.txt',\n",
       " 'File handle.ipynb',\n",
       " 'logfile.log',\n",
       " 'Practice-1.ipynb',\n",
       " 'test_1.txt',\n",
       " 'Try_Except & Logging .ipynb']"
      ]
     },
     "execution_count": 60,
     "metadata": {},
     "output_type": "execute_result"
    }
   ],
   "source": [
    "os.listdir()"
   ]
  },
  {
   "cell_type": "code",
   "execution_count": null,
   "id": "6a94ca4a-fefd-4b03-9e6e-6b40d1e41d3c",
   "metadata": {},
   "outputs": [],
   "source": []
  }
 ],
 "metadata": {
  "kernelspec": {
   "display_name": "Python 3 (ipykernel)",
   "language": "python",
   "name": "python3"
  },
  "language_info": {
   "codemirror_mode": {
    "name": "ipython",
    "version": 3
   },
   "file_extension": ".py",
   "mimetype": "text/x-python",
   "name": "python",
   "nbconvert_exporter": "python",
   "pygments_lexer": "ipython3",
   "version": "3.11.7"
  }
 },
 "nbformat": 4,
 "nbformat_minor": 5
}
