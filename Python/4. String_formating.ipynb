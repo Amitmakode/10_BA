{
 "cells": [
  {
   "cell_type": "markdown",
   "id": "f39f14be-4133-4d8e-9114-c9f3035788b7",
   "metadata": {},
   "source": [
    "### Special Character "
   ]
  },
  {
   "cell_type": "code",
   "execution_count": 1,
   "id": "38cd63cb-92d2-4fad-a17b-17bcc30d9e09",
   "metadata": {},
   "outputs": [
    {
     "name": "stdout",
     "output_type": "stream",
     "text": [
      "Hello\n",
      "World\n"
     ]
    }
   ],
   "source": [
    "# \\n new line\n",
    "print(\"Hello\\nWorld\")"
   ]
  },
  {
   "cell_type": "code",
   "execution_count": 2,
   "id": "bfa0e30f-b35e-44d1-a07b-2da7dda92261",
   "metadata": {},
   "outputs": [
    {
     "name": "stdout",
     "output_type": "stream",
     "text": [
      "Name:\tAlice\n"
     ]
    }
   ],
   "source": [
    "# \\t tab space\n",
    "print(\"Name:\\tAlice\")"
   ]
  },
  {
   "cell_type": "code",
   "execution_count": null,
   "id": "25b37386-c356-4104-896f-f99c115307ba",
   "metadata": {},
   "outputs": [],
   "source": [
    "# \\\\ (Backslash)\n",
    "path = \"C:\\\\Users\\\\John\\\\Documents\"\n",
    "print(path)"
   ]
  },
  {
   "cell_type": "code",
   "execution_count": null,
   "id": "6f75731f-36da-487e-8014-f7d4aef0361d",
   "metadata": {},
   "outputs": [],
   "source": [
    "# \\\\ (Backslash)\n",
    "path = \"C:/Users/John/Documents\"\n",
    "print(path)"
   ]
  },
  {
   "cell_type": "code",
   "execution_count": 3,
   "id": "3e232b7a-1713-4211-9af4-405d322aa085",
   "metadata": {},
   "outputs": [],
   "source": [
    "lang = \"Python\""
   ]
  },
  {
   "cell_type": "code",
   "execution_count": 4,
   "id": "06ed6aa9-9782-4910-ae87-a17dc0272c64",
   "metadata": {},
   "outputs": [
    {
     "name": "stdout",
     "output_type": "stream",
     "text": [
      "Python\n"
     ]
    }
   ],
   "source": [
    "print(lang)"
   ]
  },
  {
   "cell_type": "code",
   "execution_count": 5,
   "id": "88d90fc4-2711-4d8c-bacc-dce61b73b5ae",
   "metadata": {},
   "outputs": [
    {
     "ename": "SyntaxError",
     "evalue": "invalid syntax (3658472551.py, line 1)",
     "output_type": "error",
     "traceback": [
      "\u001b[1;36m  Cell \u001b[1;32mIn[5], line 1\u001b[1;36m\u001b[0m\n\u001b[1;33m    lang = \"\"Python\"\"\u001b[0m\n\u001b[1;37m             ^\u001b[0m\n\u001b[1;31mSyntaxError\u001b[0m\u001b[1;31m:\u001b[0m invalid syntax\n"
     ]
    }
   ],
   "source": [
    "lang = \"\"Python\"\""
   ]
  },
  {
   "cell_type": "code",
   "execution_count": 7,
   "id": "9992d025-8908-4986-bc0c-857f33a4130f",
   "metadata": {},
   "outputs": [],
   "source": [
    "lang = '\"Python\"'"
   ]
  },
  {
   "cell_type": "code",
   "execution_count": 8,
   "id": "95c4f535-9951-4385-896a-8b034fc3959d",
   "metadata": {},
   "outputs": [
    {
     "name": "stdout",
     "output_type": "stream",
     "text": [
      "\"Python\"\n"
     ]
    }
   ],
   "source": [
    "print(lang)"
   ]
  },
  {
   "cell_type": "code",
   "execution_count": 11,
   "id": "4c25462a-cb4e-4ab7-81b8-2d84634bf7fe",
   "metadata": {},
   "outputs": [
    {
     "name": "stdout",
     "output_type": "stream",
     "text": [
      "python \n"
     ]
    }
   ],
   "source": [
    "# \\r (Carriage Return)\n",
    "\n",
    "print(\"Hello \\r World \\rpython\")"
   ]
  },
  {
   "cell_type": "markdown",
   "id": "19e48b17-9cd9-423f-8328-b0e13e41267b",
   "metadata": {},
   "source": [
    "#### String Formating:-\n",
    "\t\n",
    "Old-Style String Formatting (% Formatting)\n",
    "Old-style formatting uses the % operator to insert values into a string template. It's less recommended for new code due to its limitations compared to str.format() and f-strings."
   ]
  },
  {
   "cell_type": "code",
   "execution_count": 15,
   "id": "7a999870-da1a-4e35-9c1c-fb98e553edb1",
   "metadata": {},
   "outputs": [],
   "source": [
    "name = \"Alice\"\n",
    "lastname = \"david\"\n",
    "age = 30\n",
    "\n",
    "formatted_string = \"My name is %s %s and I am %d years old.\" % (lastname, name, age)"
   ]
  },
  {
   "cell_type": "code",
   "execution_count": 13,
   "id": "8243de0c-360a-4e3a-b458-508618647e16",
   "metadata": {},
   "outputs": [
    {
     "data": {
      "text/plain": [
       "'My name is david Alice and I am 30 years old.'"
      ]
     },
     "execution_count": 13,
     "metadata": {},
     "output_type": "execute_result"
    }
   ],
   "source": [
    "formatted_string"
   ]
  },
  {
   "cell_type": "code",
   "execution_count": null,
   "id": "6099b5b6-770f-4f08-801e-01652cae4410",
   "metadata": {},
   "outputs": [],
   "source": [
    "#Formatting Options:\n",
    "# %s for strings\n",
    "# %d for integers\n",
    "# %.f for floating-point numbers"
   ]
  },
  {
   "cell_type": "code",
   "execution_count": 19,
   "id": "f2ec2bfc-03d0-4c4c-9de7-7fdfe3ea71ad",
   "metadata": {},
   "outputs": [
    {
     "name": "stdout",
     "output_type": "stream",
     "text": [
      "The value of pi is approximately 3.14\n"
     ]
    }
   ],
   "source": [
    "number = 3.14159\n",
    "formatted_number = \"The value of pi is approximately %.2f\" % number\n",
    "\n",
    "print(formatted_number) "
   ]
  },
  {
   "cell_type": "code",
   "execution_count": 22,
   "id": "a2af0bfd-6b1d-46bd-861e-962ba3e82e8a",
   "metadata": {},
   "outputs": [
    {
     "name": "stdout",
     "output_type": "stream",
     "text": [
      "My name is 25 and I am Bob years py old.\n"
     ]
    }
   ],
   "source": [
    "name = \"Bob\"\n",
    "age = 25\n",
    "\n",
    "formatted_string = \"My name is {} and I am {} years {} old.\".format(age, name, \"py\")\n",
    "\n",
    "print(formatted_string)   "
   ]
  },
  {
   "cell_type": "code",
   "execution_count": 26,
   "id": "422ca1bb-1e46-49bb-81d6-6d1a73ccbe71",
   "metadata": {},
   "outputs": [
    {
     "name": "stdout",
     "output_type": "stream",
     "text": [
      "My name is Bob and I am 25 years old.\n"
     ]
    }
   ],
   "source": [
    "name = \"Bob\"\n",
    "age = 25\n",
    "\n",
    "formatted_string = \"My name is {} and I am {} years old.\".format(name, age)\n",
    "\n",
    "print(formatted_string)   "
   ]
  },
  {
   "cell_type": "code",
   "execution_count": 27,
   "id": "3a7b8959-3ff8-43ba-8749-200a29fcb3e8",
   "metadata": {},
   "outputs": [
    {
     "name": "stdout",
     "output_type": "stream",
     "text": [
      "My name is Bob and I am 25 years old.\n"
     ]
    }
   ],
   "source": [
    "print(\"My name is\", name,  \"and I am\", age , \"years old.\")"
   ]
  },
  {
   "cell_type": "code",
   "execution_count": 28,
   "id": "6ad48223-b2cf-49e8-83c7-3d1ed3a8450c",
   "metadata": {},
   "outputs": [
    {
     "data": {
      "text/plain": [
       "'First: B, Second: A'"
      ]
     },
     "execution_count": 28,
     "metadata": {},
     "output_type": "execute_result"
    }
   ],
   "source": [
    "#Positional arguments:\n",
    "\n",
    "formatted_string = \"First: {1}, Second: {0}\".format(\"A\", \"B\")\n",
    "formatted_string"
   ]
  },
  {
   "cell_type": "code",
   "execution_count": 29,
   "id": "8a505286-08d9-4308-a1ca-845b0b20cd0f",
   "metadata": {},
   "outputs": [
    {
     "data": {
      "text/plain": [
       "'Name: Alice, Age: 30'"
      ]
     },
     "execution_count": 29,
     "metadata": {},
     "output_type": "execute_result"
    }
   ],
   "source": [
    "#Keyword arguments:\n",
    "\n",
    "formatted_string = \"Name: {name}, Age: {age}\".format(name=\"Alice\", age=30)\n",
    "formatted_string"
   ]
  },
  {
   "cell_type": "code",
   "execution_count": 30,
   "id": "827c0251-18b9-404b-91be-ee710f6ef663",
   "metadata": {},
   "outputs": [
    {
     "name": "stdout",
     "output_type": "stream",
     "text": [
      "My name is Alice, I am 30 years old, and I work as an engineer.\n"
     ]
    }
   ],
   "source": [
    "# f-string\n",
    "\n",
    "name = \"Alice\"\n",
    "age = 30\n",
    "occupation = \"engineer\"\n",
    "\n",
    "# Using f-string to format the output\n",
    "\n",
    "sentence = f\"My name is {name}, I am {age} years old, and I work as an {occupation}.\"\n",
    "print(sentence)"
   ]
  },
  {
   "cell_type": "code",
   "execution_count": 31,
   "id": "e89806b5-9ac3-424d-a165-80b7fdcf6cb5",
   "metadata": {},
   "outputs": [
    {
     "name": "stdout",
     "output_type": "stream",
     "text": [
      "My name is Alice I am 30 years old and I work as an engineer.\n"
     ]
    }
   ],
   "source": [
    "sentence = f\"My name is {name} I am {age} years old and I work as an {occupation}.\"\n",
    "print(sentence)"
   ]
  },
  {
   "cell_type": "code",
   "execution_count": 32,
   "id": "c1447f95-e7d6-4a46-b4e4-7131533f53cf",
   "metadata": {},
   "outputs": [],
   "source": [
    "a,b,c = 10,20,30"
   ]
  },
  {
   "cell_type": "code",
   "execution_count": 33,
   "id": "1a93c1d6-c078-47f7-94d4-375353c1358e",
   "metadata": {},
   "outputs": [
    {
     "name": "stdout",
     "output_type": "stream",
     "text": [
      "10\n",
      "20\n",
      "30\n"
     ]
    }
   ],
   "source": [
    "print(a)\n",
    "print(b)\n",
    "print(c)"
   ]
  },
  {
   "cell_type": "code",
   "execution_count": 34,
   "id": "57946e8c-70ac-4f58-b171-8cc55c3f7cfa",
   "metadata": {},
   "outputs": [
    {
     "name": "stdout",
     "output_type": "stream",
     "text": [
      "0\n",
      "1\n",
      "2\n",
      "3\n",
      "4\n",
      "5\n",
      "6\n"
     ]
    }
   ],
   "source": [
    "for i in range(7):\n",
    "    print(i)"
   ]
  },
  {
   "cell_type": "code",
   "execution_count": 44,
   "id": "4624bae5-86fc-4250-9f95-a85caf70492c",
   "metadata": {},
   "outputs": [
    {
     "name": "stdout",
     "output_type": "stream",
     "text": [
      "10-20-30\n"
     ]
    }
   ],
   "source": [
    "print(a, end = \"-\")\n",
    "print(b, end = \"-\")\n",
    "print(c)"
   ]
  },
  {
   "cell_type": "code",
   "execution_count": 36,
   "id": "4f470d3f-b754-4f27-a181-d0ecd0ed2049",
   "metadata": {},
   "outputs": [
    {
     "name": "stdout",
     "output_type": "stream",
     "text": [
      "0 1 2 3 4 5 6 "
     ]
    }
   ],
   "source": [
    "for i in range(7):\n",
    "    print(i, end = \" \")"
   ]
  },
  {
   "cell_type": "code",
   "execution_count": 37,
   "id": "8e6934b4-451d-4841-bc7d-bb4011b4858a",
   "metadata": {},
   "outputs": [
    {
     "ename": "SyntaxError",
     "evalue": "unterminated string literal (detected at line 1) (3080969697.py, line 1)",
     "output_type": "error",
     "traceback": [
      "\u001b[1;36m  Cell \u001b[1;32mIn[37], line 1\u001b[1;36m\u001b[0m\n\u001b[1;33m    var = \"My name is Alice I am 30 years old and I work as an engineer.,\u001b[0m\n\u001b[1;37m          ^\u001b[0m\n\u001b[1;31mSyntaxError\u001b[0m\u001b[1;31m:\u001b[0m unterminated string literal (detected at line 1)\n"
     ]
    }
   ],
   "source": [
    "var = \"My name is Alice I am 30 years old and I work as an engineer.,\n",
    "      sentence My name is {name} I am {age} years old and I work as an {occupation}.\""
   ]
  },
  {
   "cell_type": "code",
   "execution_count": 38,
   "id": "ad5636f4-cd2c-4936-b6ca-1f01997a555d",
   "metadata": {},
   "outputs": [],
   "source": [
    "var = \"\"\"My name is Alice I am 30 years old and I work as an engineer.,\n",
    "      sentence My name is {name} I am {age} years old and I work as an {occupation}.\"\"\""
   ]
  },
  {
   "cell_type": "code",
   "execution_count": 40,
   "id": "f080e21f-df70-4fea-ad43-31ebb828c523",
   "metadata": {},
   "outputs": [
    {
     "name": "stdout",
     "output_type": "stream",
     "text": [
      "My name is Alice I am 30 years old and I work as an engineer.,\n",
      "      sentence My name is {name} I am {age} years old and I work as an {occupation}.\n"
     ]
    }
   ],
   "source": [
    "print(var)"
   ]
  },
  {
   "cell_type": "code",
   "execution_count": 42,
   "id": "fc040e9a-cc8f-4cf3-b099-178c55f64d1d",
   "metadata": {},
   "outputs": [],
   "source": [
    "def squre(num):\n",
    "    \"\"\"this square function\n",
    "    used to square number\"\"\"\n",
    "    return num**2"
   ]
  },
  {
   "cell_type": "code",
   "execution_count": null,
   "id": "1465aed8-c0af-447a-b2bc-5d72a4b49996",
   "metadata": {},
   "outputs": [],
   "source": [
    "squre()"
   ]
  },
  {
   "cell_type": "code",
   "execution_count": null,
   "id": "202b413b-9e69-4dfc-8f2b-9ae33204ed88",
   "metadata": {},
   "outputs": [],
   "source": []
  },
  {
   "cell_type": "code",
   "execution_count": null,
   "id": "1bbb3a27-cb3f-4ea2-a96d-2ae9192417f5",
   "metadata": {},
   "outputs": [],
   "source": [
    "string\n",
    "list\n",
    "tuple\n",
    "set\n",
    "dict"
   ]
  },
  {
   "cell_type": "code",
   "execution_count": 45,
   "id": "a3cc1141-d685-453a-8aac-aa2f5e03790e",
   "metadata": {},
   "outputs": [
    {
     "data": {
      "text/plain": [
       "['__add__',\n",
       " '__class__',\n",
       " '__class_getitem__',\n",
       " '__contains__',\n",
       " '__delattr__',\n",
       " '__dir__',\n",
       " '__doc__',\n",
       " '__eq__',\n",
       " '__format__',\n",
       " '__ge__',\n",
       " '__getattribute__',\n",
       " '__getitem__',\n",
       " '__getnewargs__',\n",
       " '__getstate__',\n",
       " '__gt__',\n",
       " '__hash__',\n",
       " '__init__',\n",
       " '__init_subclass__',\n",
       " '__iter__',\n",
       " '__le__',\n",
       " '__len__',\n",
       " '__lt__',\n",
       " '__mul__',\n",
       " '__ne__',\n",
       " '__new__',\n",
       " '__reduce__',\n",
       " '__reduce_ex__',\n",
       " '__repr__',\n",
       " '__rmul__',\n",
       " '__setattr__',\n",
       " '__sizeof__',\n",
       " '__str__',\n",
       " '__subclasshook__',\n",
       " 'count',\n",
       " 'index']"
      ]
     },
     "execution_count": 45,
     "metadata": {},
     "output_type": "execute_result"
    }
   ],
   "source": [
    "dir(tuple)"
   ]
  },
  {
   "cell_type": "code",
   "execution_count": 46,
   "id": "73a62078-0143-445a-8559-725e92b39b74",
   "metadata": {},
   "outputs": [
    {
     "data": {
      "text/plain": [
       "['__add__',\n",
       " '__class__',\n",
       " '__contains__',\n",
       " '__delattr__',\n",
       " '__dir__',\n",
       " '__doc__',\n",
       " '__eq__',\n",
       " '__format__',\n",
       " '__ge__',\n",
       " '__getattribute__',\n",
       " '__getitem__',\n",
       " '__getnewargs__',\n",
       " '__getstate__',\n",
       " '__gt__',\n",
       " '__hash__',\n",
       " '__init__',\n",
       " '__init_subclass__',\n",
       " '__iter__',\n",
       " '__le__',\n",
       " '__len__',\n",
       " '__lt__',\n",
       " '__mod__',\n",
       " '__mul__',\n",
       " '__ne__',\n",
       " '__new__',\n",
       " '__reduce__',\n",
       " '__reduce_ex__',\n",
       " '__repr__',\n",
       " '__rmod__',\n",
       " '__rmul__',\n",
       " '__setattr__',\n",
       " '__sizeof__',\n",
       " '__str__',\n",
       " '__subclasshook__',\n",
       " 'capitalize',\n",
       " 'casefold',\n",
       " 'center',\n",
       " 'count',\n",
       " 'encode',\n",
       " 'endswith',\n",
       " 'expandtabs',\n",
       " 'find',\n",
       " 'format',\n",
       " 'format_map',\n",
       " 'index',\n",
       " 'isalnum',\n",
       " 'isalpha',\n",
       " 'isascii',\n",
       " 'isdecimal',\n",
       " 'isdigit',\n",
       " 'isidentifier',\n",
       " 'islower',\n",
       " 'isnumeric',\n",
       " 'isprintable',\n",
       " 'isspace',\n",
       " 'istitle',\n",
       " 'isupper',\n",
       " 'join',\n",
       " 'ljust',\n",
       " 'lower',\n",
       " 'lstrip',\n",
       " 'maketrans',\n",
       " 'partition',\n",
       " 'removeprefix',\n",
       " 'removesuffix',\n",
       " 'replace',\n",
       " 'rfind',\n",
       " 'rindex',\n",
       " 'rjust',\n",
       " 'rpartition',\n",
       " 'rsplit',\n",
       " 'rstrip',\n",
       " 'split',\n",
       " 'splitlines',\n",
       " 'startswith',\n",
       " 'strip',\n",
       " 'swapcase',\n",
       " 'title',\n",
       " 'translate',\n",
       " 'upper',\n",
       " 'zfill']"
      ]
     },
     "execution_count": 46,
     "metadata": {},
     "output_type": "execute_result"
    }
   ],
   "source": [
    "dir(str)"
   ]
  },
  {
   "cell_type": "code",
   "execution_count": 49,
   "id": "f7269db4-9898-466e-978c-270d0359cfae",
   "metadata": {},
   "outputs": [
    {
     "ename": "TypeError",
     "evalue": "len() takes exactly one argument (0 given)",
     "output_type": "error",
     "traceback": [
      "\u001b[1;31m---------------------------------------------------------------------------\u001b[0m",
      "\u001b[1;31mTypeError\u001b[0m                                 Traceback (most recent call last)",
      "Cell \u001b[1;32mIn[49], line 1\u001b[0m\n\u001b[1;32m----> 1\u001b[0m \u001b[38;5;28mlen\u001b[39m()\n",
      "\u001b[1;31mTypeError\u001b[0m: len() takes exactly one argument (0 given)"
     ]
    }
   ],
   "source": [
    "len()"
   ]
  },
  {
   "cell_type": "code",
   "execution_count": 50,
   "id": "c9df651d-ed0c-4276-8c00-c060126770d2",
   "metadata": {},
   "outputs": [
    {
     "ename": "NameError",
     "evalue": "name 'A' is not defined",
     "output_type": "error",
     "traceback": [
      "\u001b[1;31m---------------------------------------------------------------------------\u001b[0m",
      "\u001b[1;31mNameError\u001b[0m                                 Traceback (most recent call last)",
      "Cell \u001b[1;32mIn[50], line 1\u001b[0m\n\u001b[1;32m----> 1\u001b[0m A\n",
      "\u001b[1;31mNameError\u001b[0m: name 'A' is not defined"
     ]
    }
   ],
   "source": [
    "A"
   ]
  },
  {
   "cell_type": "code",
   "execution_count": 51,
   "id": "7530b5f5-3206-4f01-82d1-5bb8d37a6647",
   "metadata": {},
   "outputs": [
    {
     "ename": "ZeroDivisionError",
     "evalue": "division by zero",
     "output_type": "error",
     "traceback": [
      "\u001b[1;31m---------------------------------------------------------------------------\u001b[0m",
      "\u001b[1;31mZeroDivisionError\u001b[0m                         Traceback (most recent call last)",
      "Cell \u001b[1;32mIn[51], line 1\u001b[0m\n\u001b[1;32m----> 1\u001b[0m \u001b[38;5;241m1\u001b[39m\u001b[38;5;241m/\u001b[39m\u001b[38;5;241m0\u001b[39m\n",
      "\u001b[1;31mZeroDivisionError\u001b[0m: division by zero"
     ]
    }
   ],
   "source": [
    "1/0"
   ]
  },
  {
   "cell_type": "code",
   "execution_count": 53,
   "id": "ec810bec-41e4-4dd2-b762-bfc371172d45",
   "metadata": {},
   "outputs": [
    {
     "ename": "FileNotFoundError",
     "evalue": "[Errno 2] No such file or directory: 'text.txt'",
     "output_type": "error",
     "traceback": [
      "\u001b[1;31m---------------------------------------------------------------------------\u001b[0m",
      "\u001b[1;31mFileNotFoundError\u001b[0m                         Traceback (most recent call last)",
      "Cell \u001b[1;32mIn[53], line 1\u001b[0m\n\u001b[1;32m----> 1\u001b[0m \u001b[38;5;28mopen\u001b[39m(\u001b[38;5;124m\"\u001b[39m\u001b[38;5;124mtext.txt\u001b[39m\u001b[38;5;124m\"\u001b[39m, \u001b[38;5;124m\"\u001b[39m\u001b[38;5;124mr\u001b[39m\u001b[38;5;124m\"\u001b[39m)\n",
      "File \u001b[1;32m~\\anaconda3\\Lib\\site-packages\\IPython\\core\\interactiveshell.py:310\u001b[0m, in \u001b[0;36m_modified_open\u001b[1;34m(file, *args, **kwargs)\u001b[0m\n\u001b[0;32m    303\u001b[0m \u001b[38;5;28;01mif\u001b[39;00m file \u001b[38;5;129;01min\u001b[39;00m {\u001b[38;5;241m0\u001b[39m, \u001b[38;5;241m1\u001b[39m, \u001b[38;5;241m2\u001b[39m}:\n\u001b[0;32m    304\u001b[0m     \u001b[38;5;28;01mraise\u001b[39;00m \u001b[38;5;167;01mValueError\u001b[39;00m(\n\u001b[0;32m    305\u001b[0m         \u001b[38;5;124mf\u001b[39m\u001b[38;5;124m\"\u001b[39m\u001b[38;5;124mIPython won\u001b[39m\u001b[38;5;124m'\u001b[39m\u001b[38;5;124mt let you open fd=\u001b[39m\u001b[38;5;132;01m{\u001b[39;00mfile\u001b[38;5;132;01m}\u001b[39;00m\u001b[38;5;124m by default \u001b[39m\u001b[38;5;124m\"\u001b[39m\n\u001b[0;32m    306\u001b[0m         \u001b[38;5;124m\"\u001b[39m\u001b[38;5;124mas it is likely to crash IPython. If you know what you are doing, \u001b[39m\u001b[38;5;124m\"\u001b[39m\n\u001b[0;32m    307\u001b[0m         \u001b[38;5;124m\"\u001b[39m\u001b[38;5;124myou can use builtins\u001b[39m\u001b[38;5;124m'\u001b[39m\u001b[38;5;124m open.\u001b[39m\u001b[38;5;124m\"\u001b[39m\n\u001b[0;32m    308\u001b[0m     )\n\u001b[1;32m--> 310\u001b[0m \u001b[38;5;28;01mreturn\u001b[39;00m io_open(file, \u001b[38;5;241m*\u001b[39margs, \u001b[38;5;241m*\u001b[39m\u001b[38;5;241m*\u001b[39mkwargs)\n",
      "\u001b[1;31mFileNotFoundError\u001b[0m: [Errno 2] No such file or directory: 'text.txt'"
     ]
    }
   ],
   "source": [
    "open(\"text.txt\", \"r\")"
   ]
  },
  {
   "cell_type": "code",
   "execution_count": null,
   "id": "24896c50-12f6-4c58-b7cf-f0ee9a9760d4",
   "metadata": {},
   "outputs": [],
   "source": []
  }
 ],
 "metadata": {
  "kernelspec": {
   "display_name": "Python 3 (ipykernel)",
   "language": "python",
   "name": "python3"
  },
  "language_info": {
   "codemirror_mode": {
    "name": "ipython",
    "version": 3
   },
   "file_extension": ".py",
   "mimetype": "text/x-python",
   "name": "python",
   "nbconvert_exporter": "python",
   "pygments_lexer": "ipython3",
   "version": "3.11.7"
  }
 },
 "nbformat": 4,
 "nbformat_minor": 5
}
