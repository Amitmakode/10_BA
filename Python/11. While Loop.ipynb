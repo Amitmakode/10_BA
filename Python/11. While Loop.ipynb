{
 "cells": [
  {
   "cell_type": "code",
   "execution_count": 5,
   "id": "148a0f39-1f95-4aa2-a5a7-1cc814f53e80",
   "metadata": {},
   "outputs": [
    {
     "name": "stdout",
     "output_type": "stream",
     "text": [
      "0\n",
      "1\n",
      "2\n",
      "3\n",
      "4\n"
     ]
    }
   ],
   "source": [
    "for i in range(5):\n",
    "    print(i)"
   ]
  },
  {
   "cell_type": "code",
   "execution_count": 6,
   "id": "f2bdc13e-73f8-4d62-9b53-488d552caa27",
   "metadata": {},
   "outputs": [
    {
     "name": "stdout",
     "output_type": "stream",
     "text": [
      "0\n",
      "1\n",
      "2\n",
      "3\n",
      "4\n"
     ]
    }
   ],
   "source": [
    "n = 0\n",
    "\n",
    "while n < 5:\n",
    "    print(n)\n",
    "    n = n+1"
   ]
  },
  {
   "cell_type": "code",
   "execution_count": 7,
   "id": "7421cf33-1721-4950-a670-b922fb953d81",
   "metadata": {},
   "outputs": [],
   "source": [
    "n = 0\n",
    "\n",
    "#while n < 5:\n",
    "    #print(n)"
   ]
  },
  {
   "cell_type": "code",
   "execution_count": 8,
   "id": "86d250a0-16af-457d-8324-433db39750df",
   "metadata": {},
   "outputs": [
    {
     "name": "stdin",
     "output_type": "stream",
     "text": [
      "Enter the name :  abc\n"
     ]
    },
    {
     "name": "stdout",
     "output_type": "stream",
     "text": [
      "\n",
      "You entered  abc\n"
     ]
    },
    {
     "name": "stdin",
     "output_type": "stream",
     "text": [
      "Enter the name :  sdf\n"
     ]
    },
    {
     "name": "stdout",
     "output_type": "stream",
     "text": [
      "\n",
      "You entered  sdf\n"
     ]
    },
    {
     "name": "stdin",
     "output_type": "stream",
     "text": [
      "Enter the name :  ghj\n"
     ]
    },
    {
     "name": "stdout",
     "output_type": "stream",
     "text": [
      "\n",
      "You entered  ghj\n"
     ]
    }
   ],
   "source": [
    "count = 3\n",
    "\n",
    "for i in range(count):\n",
    "    name = input(\"Enter the name : \")\n",
    "    print()\n",
    "    print('You entered ', name)"
   ]
  },
  {
   "cell_type": "code",
   "execution_count": 9,
   "id": "32e8fc9c-3d32-49b8-baa2-4e9751feda9e",
   "metadata": {},
   "outputs": [
    {
     "name": "stdin",
     "output_type": "stream",
     "text": [
      "Enter the name (use 'Quit' to stop : amit\n"
     ]
    },
    {
     "name": "stdout",
     "output_type": "stream",
     "text": [
      "You entered  amit\n"
     ]
    },
    {
     "name": "stdin",
     "output_type": "stream",
     "text": [
      "Enter the name (use 'Quit' to stop : abx\n"
     ]
    },
    {
     "name": "stdout",
     "output_type": "stream",
     "text": [
      "You entered  abx\n"
     ]
    },
    {
     "name": "stdin",
     "output_type": "stream",
     "text": [
      "Enter the name (use 'Quit' to stop : quit\n"
     ]
    },
    {
     "name": "stdout",
     "output_type": "stream",
     "text": [
      "You entered  quit\n"
     ]
    },
    {
     "name": "stdin",
     "output_type": "stream",
     "text": [
      "Enter the name (use 'Quit' to stop : Quit\n"
     ]
    }
   ],
   "source": [
    "name = \"\"\n",
    "\n",
    "while name != \"Quit\":\n",
    "    name = input(\"Enter the name (use 'Quit' to stop :\")\n",
    "    if name != \"Quit\":\n",
    "        print('You entered ', name) "
   ]
  },
  {
   "cell_type": "code",
   "execution_count": 10,
   "id": "2cfb3004-66ba-4597-9e51-f51c8bf5c215",
   "metadata": {},
   "outputs": [
    {
     "name": "stdout",
     "output_type": "stream",
     "text": [
      "1\n",
      "2\n",
      "3\n",
      "4\n",
      "4\n",
      "5\n",
      "5\n",
      "6\n",
      "6\n",
      "7\n"
     ]
    }
   ],
   "source": [
    "# Example\n",
    "i = 0           #iteration variable initialized\n",
    "while i < 7:    # condition is evaluated \n",
    "    if i > 3 :   \n",
    "        print(i)    # block statements are executed until the condition is true and iteration variable is less that 3\n",
    "    i = i + 1\n",
    "    print(i)"
   ]
  },
  {
   "cell_type": "code",
   "execution_count": 11,
   "id": "ef15c10e-ed48-47a2-8764-a81e3d71ef38",
   "metadata": {},
   "outputs": [
    {
     "name": "stdout",
     "output_type": "stream",
     "text": [
      "1\n",
      "2\n",
      "3\n",
      "4\n"
     ]
    }
   ],
   "source": [
    "# Example\n",
    "i = 0           #iteration variable initialized\n",
    "while i < 7:    # condition is evaluated \n",
    "    if i > 3 :   \n",
    "        break   # no more further execution of the loop, once i is greater than 4 \n",
    "        print(i)    # block statements are executed until the condition is true and iteration variable is less that 3\n",
    "    i = i + 1\n",
    "    print(i)"
   ]
  },
  {
   "cell_type": "code",
   "execution_count": 12,
   "id": "bacd9ea6-074e-4eb5-aaa1-237bc21cba2a",
   "metadata": {},
   "outputs": [
    {
     "name": "stdout",
     "output_type": "stream",
     "text": [
      "1\n",
      "2\n",
      "3\n",
      "4\n",
      "4\n",
      "5\n",
      "5\n",
      "6\n",
      "6\n",
      "7\n"
     ]
    }
   ],
   "source": [
    "# Example\n",
    "i = 0           #iteration variable initialized\n",
    "while i < 7:    # condition is evaluated \n",
    "    if i > 3 :   \n",
    "        pass   # no more further execution of the loop, once i is greater than 4 \n",
    "        print(i)    # block statements are executed until the condition is true and iteration variable is less that 3\n",
    "    i = i + 1\n",
    "    print(i)"
   ]
  },
  {
   "cell_type": "code",
   "execution_count": 13,
   "id": "a0b36c99-6884-467f-818d-32f72438e954",
   "metadata": {},
   "outputs": [
    {
     "name": "stdout",
     "output_type": "stream",
     "text": [
      "1\n",
      "2\n",
      "3\n",
      "4\n"
     ]
    },
    {
     "ename": "KeyboardInterrupt",
     "evalue": "",
     "output_type": "error",
     "traceback": [
      "\u001b[1;31m---------------------------------------------------------------------------\u001b[0m",
      "\u001b[1;31mKeyboardInterrupt\u001b[0m                         Traceback (most recent call last)",
      "Cell \u001b[1;32mIn[13], line 5\u001b[0m\n\u001b[0;32m      3\u001b[0m \u001b[38;5;28;01mwhile\u001b[39;00m i \u001b[38;5;241m<\u001b[39m \u001b[38;5;241m7\u001b[39m:    \u001b[38;5;66;03m# condition is evaluated \u001b[39;00m\n\u001b[0;32m      4\u001b[0m     \u001b[38;5;28;01mif\u001b[39;00m i \u001b[38;5;241m>\u001b[39m \u001b[38;5;241m3\u001b[39m :   \n\u001b[1;32m----> 5\u001b[0m         \u001b[38;5;28;01mcontinue\u001b[39;00m   \u001b[38;5;66;03m# no more further execution of the loop, once i is greater than 4 \u001b[39;00m\n\u001b[0;32m      6\u001b[0m         \u001b[38;5;28mprint\u001b[39m(i)    \u001b[38;5;66;03m# block statements are executed until the condition is true and iteration variable is less that 3\u001b[39;00m\n\u001b[0;32m      7\u001b[0m     i \u001b[38;5;241m=\u001b[39m i \u001b[38;5;241m+\u001b[39m \u001b[38;5;241m1\u001b[39m\n",
      "\u001b[1;31mKeyboardInterrupt\u001b[0m: "
     ]
    }
   ],
   "source": [
    "# Example\n",
    "i = 0           #iteration variable initialized\n",
    "while i < 7:    # condition is evaluated \n",
    "    if i > 3 :   \n",
    "        continue   # no more further execution of the loop, once i is greater than 4 \n",
    "        print(i)    # block statements are executed until the condition is true and iteration variable is less that 3\n",
    "    i = i + 1\n",
    "    print(i)"
   ]
  },
  {
   "cell_type": "code",
   "execution_count": 14,
   "id": "15edfc24-e57a-4fa8-b85d-bcb9d965a2f4",
   "metadata": {},
   "outputs": [
    {
     "name": "stdin",
     "output_type": "stream",
     "text": [
      "Enter the stmt (Use 'Quit' to stop ) abc\n"
     ]
    },
    {
     "name": "stdout",
     "output_type": "stream",
     "text": [
      "abc\n"
     ]
    },
    {
     "name": "stdin",
     "output_type": "stream",
     "text": [
      "Enter the stmt (Use 'Quit' to stop ) #ksajd\n",
      "Enter the stmt (Use 'Quit' to stop ) zxc\n"
     ]
    },
    {
     "name": "stdout",
     "output_type": "stream",
     "text": [
      "zxc\n"
     ]
    },
    {
     "name": "stdin",
     "output_type": "stream",
     "text": [
      "Enter the stmt (Use 'Quit' to stop ) #zxc\n",
      "Enter the stmt (Use 'Quit' to stop ) Quit\n"
     ]
    },
    {
     "name": "stdout",
     "output_type": "stream",
     "text": [
      "Quit\n"
     ]
    }
   ],
   "source": [
    "stmt = \"\"\n",
    "\n",
    "while stmt != 'Quit':\n",
    "    stmt = input(\"Enter the stmt (Use 'Quit' to stop )\")\n",
    "    if stmt.startswith(\"#\") :\n",
    "        continue\n",
    "    if len(stmt) > 0 :\n",
    "        print(stmt)"
   ]
  },
  {
   "cell_type": "code",
   "execution_count": 15,
   "id": "d2da48c6-3817-4b4e-aeb9-aa26afd8b63c",
   "metadata": {},
   "outputs": [
    {
     "name": "stdin",
     "output_type": "stream",
     "text": [
      "Enter the stmt (Use 'Quit' to stop ) quit\n"
     ]
    },
    {
     "name": "stdout",
     "output_type": "stream",
     "text": [
      "quit\n"
     ]
    },
    {
     "name": "stdin",
     "output_type": "stream",
     "text": [
      "Enter the stmt (Use 'Quit' to stop ) #quit\n"
     ]
    }
   ],
   "source": [
    "stmt = \"\"\n",
    "\n",
    "while stmt != 'Quit':\n",
    "    stmt = input(\"Enter the stmt (Use 'Quit' to stop )\")\n",
    "    if stmt.startswith(\"#\") :\n",
    "        break\n",
    "    if len(stmt) > 0 :\n",
    "        print(stmt)"
   ]
  },
  {
   "cell_type": "code",
   "execution_count": 16,
   "id": "9003c133-9815-4826-b59d-b58e4b2377c6",
   "metadata": {},
   "outputs": [
    {
     "name": "stdout",
     "output_type": "stream",
     "text": [
      "0\n",
      "1\n",
      "2\n"
     ]
    }
   ],
   "source": [
    "for i in range(3):\n",
    "    print(i)"
   ]
  },
  {
   "cell_type": "code",
   "execution_count": 17,
   "id": "07966c3c-dca8-4274-a5f7-84ab7f883637",
   "metadata": {},
   "outputs": [
    {
     "name": "stdout",
     "output_type": "stream",
     "text": [
      "d\n",
      "a\n",
      "t\n",
      "a\n"
     ]
    }
   ],
   "source": [
    "for i in \"data\":\n",
    "    print(i)"
   ]
  },
  {
   "cell_type": "code",
   "execution_count": 20,
   "id": "9978845e-1b14-4d20-ba9d-f1ebdb416818",
   "metadata": {},
   "outputs": [
    {
     "name": "stdout",
     "output_type": "stream",
     "text": [
      "1 - J\n",
      "2 - a\n",
      "3 - s\n",
      "4 - m\n",
      "5 - i\n",
      "6 - n\n"
     ]
    }
   ],
   "source": [
    "s = \"Jasmin\"\n",
    "len(s)\n",
    "\n",
    "for i in range(len(s)) : \n",
    "    print(i+1 , \"-\", s[i])"
   ]
  },
  {
   "cell_type": "code",
   "execution_count": 23,
   "id": "89794a11-994a-492d-b558-6e5205fb4379",
   "metadata": {},
   "outputs": [
    {
     "name": "stdout",
     "output_type": "stream",
     "text": [
      "5 n\n",
      "4 i\n",
      "3 m\n",
      "2 s\n",
      "1 a\n",
      "0 J\n"
     ]
    }
   ],
   "source": [
    "S = \"Jasmin\"\n",
    "len(S)\n",
    "for i in range(len(S)-1, -1, -1):\n",
    "    print(i , S[i])"
   ]
  },
  {
   "cell_type": "code",
   "execution_count": 25,
   "id": "42d809d2-ae41-4c51-9971-469bce8c58d9",
   "metadata": {},
   "outputs": [],
   "source": [
    "d = {1: \"Nikita\", 2: \"mayuri\", 3:\"jasmin\", 4:\"aarti\", 5:\"pratiksha\"}"
   ]
  },
  {
   "cell_type": "code",
   "execution_count": 26,
   "id": "d2292b9e-1316-438e-bad5-91281e035943",
   "metadata": {},
   "outputs": [
    {
     "name": "stdout",
     "output_type": "stream",
     "text": [
      "(1, 'Nikita')  -  <class 'tuple'>  -  <class 'int'>\n",
      "(2, 'mayuri')  -  <class 'tuple'>  -  <class 'int'>\n",
      "(3, 'jasmin')  -  <class 'tuple'>  -  <class 'int'>\n",
      "(4, 'aarti')  -  <class 'tuple'>  -  <class 'int'>\n",
      "(5, 'pratiksha')  -  <class 'tuple'>  -  <class 'int'>\n"
     ]
    }
   ],
   "source": [
    "for i in d.items():\n",
    "    print(i,\" - \", type(i), \" - \", type(i[0]))"
   ]
  },
  {
   "cell_type": "code",
   "execution_count": 29,
   "id": "942fbd12-0b2b-4b1a-a2af-2cf991d6b4cc",
   "metadata": {},
   "outputs": [
    {
     "name": "stdout",
     "output_type": "stream",
     "text": [
      "0\n",
      "0\n",
      "1\n",
      "0\n",
      "1\n",
      "2\n",
      "0\n",
      "1\n",
      "2\n",
      "3\n"
     ]
    }
   ],
   "source": [
    "i= 0\n",
    "while i < 5:\n",
    "    for j in range(i):\n",
    "        print(j)\n",
    "    i+=1  "
   ]
  },
  {
   "cell_type": "code",
   "execution_count": 32,
   "id": "b4cf42c5-6ca0-4603-984e-34a02d8194fa",
   "metadata": {},
   "outputs": [
    {
     "name": "stdout",
     "output_type": "stream",
     "text": [
      "*\n",
      "**\n",
      "***\n",
      "****\n",
      "*****\n"
     ]
    }
   ],
   "source": [
    "rows = 5\n",
    "\n",
    "for i in range(1, rows + 1):\n",
    "    print('*' * i)\n"
   ]
  },
  {
   "cell_type": "code",
   "execution_count": 33,
   "id": "0de75c09-1847-4ff5-891d-8aabb60ed9b0",
   "metadata": {},
   "outputs": [
    {
     "name": "stdout",
     "output_type": "stream",
     "text": [
      "*\n",
      "**\n",
      "***\n",
      "****\n",
      "*****\n"
     ]
    }
   ],
   "source": [
    "rows = 5\n",
    "i = 1\n",
    "while i <= rows:\n",
    "    print('*' * i)\n",
    "    i += 1\n"
   ]
  },
  {
   "cell_type": "code",
   "execution_count": 34,
   "id": "3f815fe0-9da3-4f9e-84e3-3589c255e0b5",
   "metadata": {},
   "outputs": [
    {
     "name": "stdout",
     "output_type": "stream",
     "text": [
      "*****\n",
      "*****\n",
      "*****\n",
      "*****\n",
      "*****\n"
     ]
    }
   ],
   "source": [
    "rows = 5\n",
    "i = 1\n",
    "while i <= rows:\n",
    "    print('*' * rows)\n",
    "    i += 1"
   ]
  },
  {
   "cell_type": "code",
   "execution_count": 35,
   "id": "7b8e54a4-4814-4ab9-82ce-797c3ca58be3",
   "metadata": {},
   "outputs": [
    {
     "name": "stdout",
     "output_type": "stream",
     "text": [
      "*****\n",
      "****\n",
      "***\n",
      "**\n",
      "*\n"
     ]
    }
   ],
   "source": [
    "rows = 5\n",
    "i = 1\n",
    "while i <= rows:\n",
    "    print('*' * rows)\n",
    "    rows-=1"
   ]
  },
  {
   "cell_type": "code",
   "execution_count": 40,
   "id": "fff9928b-d347-455e-b1e9-2e98d9ecc046",
   "metadata": {},
   "outputs": [
    {
     "name": "stdout",
     "output_type": "stream",
     "text": [
      "----*\n",
      "---***\n",
      "--*****\n",
      "-*******\n",
      "*********\n"
     ]
    }
   ],
   "source": [
    "rows = 5\n",
    "for i in range(rows):\n",
    "    print('-' * (rows - i - 1) + '*' * (2 * i + 1))\n"
   ]
  },
  {
   "cell_type": "code",
   "execution_count": 38,
   "id": "7093e8cb-b2eb-4a13-a100-f4d513a34315",
   "metadata": {},
   "outputs": [
    {
     "name": "stdout",
     "output_type": "stream",
     "text": [
      "     *\n",
      "    ***\n",
      "   *****\n",
      "  *******\n",
      " *********\n",
      "***********\n"
     ]
    }
   ],
   "source": [
    "rows = 6\n",
    "i = 0\n",
    "while i < rows:\n",
    "    print(' ' * (rows - i - 1) + '*' * (2 * i + 1))\n",
    "    i += 1"
   ]
  },
  {
   "cell_type": "code",
   "execution_count": 43,
   "id": "f471f026-605f-4367-a578-d8ca660130b6",
   "metadata": {},
   "outputs": [
    {
     "name": "stdout",
     "output_type": "stream",
     "text": [
      "              *\n",
      "            ***\n",
      "          *****\n",
      "        *******\n",
      "      *********\n",
      "    ***********\n",
      "  *************\n",
      "***************\n",
      "  *************\n",
      "    ***********\n",
      "      *********\n",
      "        *******\n",
      "          *****\n",
      "            ***\n",
      "              *\n"
     ]
    }
   ],
   "source": [
    "rows = 8\n",
    "for i in range(rows):\n",
    "    print('  ' * (rows - i - 1) + '*' * (2 * i + 1))\n",
    "for i in range(rows - 2, -1, -1):\n",
    "    print('  ' * (rows - i - 1) + '*' * (2 * i + 1))\n"
   ]
  },
  {
   "cell_type": "code",
   "execution_count": 47,
   "id": "00efbc53-f89e-40cc-87dd-ca276891e0b3",
   "metadata": {},
   "outputs": [
    {
     "name": "stdout",
     "output_type": "stream",
     "text": [
      "              *\n",
      "            ***\n",
      "          *****\n",
      "        *******\n",
      "      *********\n",
      "    ***********\n",
      "  *************\n",
      "***************\n",
      "***************\n",
      "   *************\n",
      "      ***********\n",
      "         *********\n",
      "            *******\n",
      "               *****\n",
      "                  ***\n",
      "                     *\n"
     ]
    }
   ],
   "source": [
    "rows = 8\n",
    "for i in range(rows):\n",
    "    print('  ' * (rows - i - 1) + '*' * (2 * i + 1))\n",
    "for i in range(rows - 1, -1, -1):\n",
    "    print('   ' * (rows - i - 1) + '*' * (2 * i + 1))"
   ]
  },
  {
   "cell_type": "code",
   "execution_count": null,
   "id": "3bac2ee3-4e3c-436c-bb26-d3a08d5862be",
   "metadata": {},
   "outputs": [],
   "source": []
  }
 ],
 "metadata": {
  "kernelspec": {
   "display_name": "Python 3 (ipykernel)",
   "language": "python",
   "name": "python3"
  },
  "language_info": {
   "codemirror_mode": {
    "name": "ipython",
    "version": 3
   },
   "file_extension": ".py",
   "mimetype": "text/x-python",
   "name": "python",
   "nbconvert_exporter": "python",
   "pygments_lexer": "ipython3",
   "version": "3.11.7"
  }
 },
 "nbformat": 4,
 "nbformat_minor": 5
}
