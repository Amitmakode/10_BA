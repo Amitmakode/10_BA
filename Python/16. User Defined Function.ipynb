{
 "cells": [
  {
   "cell_type": "code",
   "execution_count": 2,
   "id": "01439088-2de8-4240-a62d-bdbc7e269047",
   "metadata": {},
   "outputs": [
    {
     "name": "stdout",
     "output_type": "stream",
     "text": [
      "\n"
     ]
    }
   ],
   "source": [
    "print()"
   ]
  },
  {
   "cell_type": "markdown",
   "id": "bd3d35b7-67d2-4a7d-840b-6c5d23e6a64a",
   "metadata": {},
   "source": [
    "## user defined function"
   ]
  },
  {
   "cell_type": "code",
   "execution_count": 3,
   "id": "fa79c0c7-5fe8-458c-87e6-62f996553d5f",
   "metadata": {},
   "outputs": [
    {
     "ename": "TypeError",
     "evalue": "len() takes exactly one argument (0 given)",
     "output_type": "error",
     "traceback": [
      "\u001b[1;31m---------------------------------------------------------------------------\u001b[0m",
      "\u001b[1;31mTypeError\u001b[0m                                 Traceback (most recent call last)",
      "Cell \u001b[1;32mIn[3], line 1\u001b[0m\n\u001b[1;32m----> 1\u001b[0m \u001b[38;5;28mlen\u001b[39m()\n",
      "\u001b[1;31mTypeError\u001b[0m: len() takes exactly one argument (0 given)"
     ]
    }
   ],
   "source": [
    "len()"
   ]
  },
  {
   "cell_type": "code",
   "execution_count": 4,
   "id": "17120be2-2f04-4cd1-901d-c0e513e7e325",
   "metadata": {},
   "outputs": [
    {
     "ename": "TypeError",
     "evalue": "type() takes 1 or 3 arguments",
     "output_type": "error",
     "traceback": [
      "\u001b[1;31m---------------------------------------------------------------------------\u001b[0m",
      "\u001b[1;31mTypeError\u001b[0m                                 Traceback (most recent call last)",
      "Cell \u001b[1;32mIn[4], line 1\u001b[0m\n\u001b[1;32m----> 1\u001b[0m \u001b[38;5;28mtype\u001b[39m()\n",
      "\u001b[1;31mTypeError\u001b[0m: type() takes 1 or 3 arguments"
     ]
    }
   ],
   "source": [
    "type()"
   ]
  },
  {
   "cell_type": "code",
   "execution_count": null,
   "id": "49dd2114-8d13-425c-8dda-63925c56cf11",
   "metadata": {},
   "outputs": [],
   "source": [
    "Positional Argument    = args\n",
    "Non-keyword Argument   = *args\n",
    "Keyword Argument       = **kwargs"
   ]
  },
  {
   "cell_type": "code",
   "execution_count": 5,
   "id": "2e5d9f6c-bf59-441c-b8e4-9e1db9253542",
   "metadata": {},
   "outputs": [],
   "source": [
    "def fun1():\n",
    "    a = 4\n",
    "    b = 5\n",
    "    return a+b"
   ]
  },
  {
   "cell_type": "code",
   "execution_count": 6,
   "id": "aee13e6e-582e-46bf-b654-5e906ba6c489",
   "metadata": {},
   "outputs": [
    {
     "data": {
      "text/plain": [
       "9"
      ]
     },
     "execution_count": 6,
     "metadata": {},
     "output_type": "execute_result"
    }
   ],
   "source": [
    "fun1()"
   ]
  },
  {
   "cell_type": "code",
   "execution_count": 7,
   "id": "3bfa7497-1a74-4fb4-844c-0ea9d23f6265",
   "metadata": {},
   "outputs": [
    {
     "data": {
      "text/plain": [
       "9"
      ]
     },
     "execution_count": 7,
     "metadata": {},
     "output_type": "execute_result"
    }
   ],
   "source": [
    "fun1()"
   ]
  },
  {
   "cell_type": "code",
   "execution_count": 8,
   "id": "3287d131-2c27-40b7-8462-4dde4bd30aad",
   "metadata": {},
   "outputs": [],
   "source": [
    "def fun1():\n",
    "    return"
   ]
  },
  {
   "cell_type": "code",
   "execution_count": 9,
   "id": "402702aa-c80c-4fc4-a6b5-5cc2a87f07e4",
   "metadata": {},
   "outputs": [],
   "source": [
    "fun1()"
   ]
  },
  {
   "cell_type": "code",
   "execution_count": 10,
   "id": "49ada26a-cf17-46b5-884d-8373fe9216b7",
   "metadata": {},
   "outputs": [],
   "source": [
    "def fun2(a):\n",
    "    b = a**2\n",
    "    return b"
   ]
  },
  {
   "cell_type": "code",
   "execution_count": 12,
   "id": "43e35655-8f3f-44af-9d35-8c06b6940fdc",
   "metadata": {},
   "outputs": [
    {
     "data": {
      "text/plain": [
       "16"
      ]
     },
     "execution_count": 12,
     "metadata": {},
     "output_type": "execute_result"
    }
   ],
   "source": [
    "fun2(4)"
   ]
  },
  {
   "cell_type": "code",
   "execution_count": 14,
   "id": "79f1f903-c39f-4c5c-a3c1-283e3914d9f6",
   "metadata": {},
   "outputs": [
    {
     "ename": "TypeError",
     "evalue": "fun2() takes 1 positional argument but 2 were given",
     "output_type": "error",
     "traceback": [
      "\u001b[1;31m---------------------------------------------------------------------------\u001b[0m",
      "\u001b[1;31mTypeError\u001b[0m                                 Traceback (most recent call last)",
      "Cell \u001b[1;32mIn[14], line 1\u001b[0m\n\u001b[1;32m----> 1\u001b[0m fun2(\u001b[38;5;241m5\u001b[39m,\u001b[38;5;241m6\u001b[39m)\n",
      "\u001b[1;31mTypeError\u001b[0m: fun2() takes 1 positional argument but 2 were given"
     ]
    }
   ],
   "source": [
    "fun2(5,6)"
   ]
  },
  {
   "cell_type": "code",
   "execution_count": 15,
   "id": "62ac8268-770b-44e9-9ac4-8254ed38cb3a",
   "metadata": {},
   "outputs": [],
   "source": [
    "def fun3(a,b):\n",
    "    c = a**2/b\n",
    "    print(c)"
   ]
  },
  {
   "cell_type": "code",
   "execution_count": 16,
   "id": "c36c53a9-2e47-4660-b54c-7765638003f8",
   "metadata": {},
   "outputs": [
    {
     "name": "stdout",
     "output_type": "stream",
     "text": [
      "4.5\n"
     ]
    }
   ],
   "source": [
    "fun3(3,2)"
   ]
  },
  {
   "cell_type": "code",
   "execution_count": 17,
   "id": "cbce9be7-859d-4dd9-a5cf-779cca4c7361",
   "metadata": {},
   "outputs": [],
   "source": [
    "def fun4(*a):\n",
    "    return a"
   ]
  },
  {
   "cell_type": "code",
   "execution_count": 18,
   "id": "ad4c451e-753e-4813-9091-1d6744cce307",
   "metadata": {},
   "outputs": [
    {
     "data": {
      "text/plain": [
       "()"
      ]
     },
     "execution_count": 18,
     "metadata": {},
     "output_type": "execute_result"
    }
   ],
   "source": [
    "fun4()"
   ]
  },
  {
   "cell_type": "code",
   "execution_count": 19,
   "id": "ab42e04d-c2d3-493f-9d00-50f4801887df",
   "metadata": {},
   "outputs": [
    {
     "data": {
      "text/plain": [
       "(3,)"
      ]
     },
     "execution_count": 19,
     "metadata": {},
     "output_type": "execute_result"
    }
   ],
   "source": [
    "fun4(3)"
   ]
  },
  {
   "cell_type": "code",
   "execution_count": 20,
   "id": "d53d299e-4889-43d5-a91d-f1106f0c43d6",
   "metadata": {},
   "outputs": [
    {
     "data": {
      "text/plain": [
       "(3, 5, 6, 7, 8, 9)"
      ]
     },
     "execution_count": 20,
     "metadata": {},
     "output_type": "execute_result"
    }
   ],
   "source": [
    "fun4(3,5,6,7,8,9)"
   ]
  },
  {
   "cell_type": "code",
   "execution_count": 21,
   "id": "3c5571de-e91d-438c-adc7-f176c2c9701b",
   "metadata": {},
   "outputs": [],
   "source": [
    "def fun5(**a):\n",
    "    return a"
   ]
  },
  {
   "cell_type": "code",
   "execution_count": 22,
   "id": "28d22a99-a4c7-4bf1-9ff6-d0ace5b8a7c4",
   "metadata": {},
   "outputs": [
    {
     "data": {
      "text/plain": [
       "{}"
      ]
     },
     "execution_count": 22,
     "metadata": {},
     "output_type": "execute_result"
    }
   ],
   "source": [
    "fun5()"
   ]
  },
  {
   "cell_type": "code",
   "execution_count": 23,
   "id": "55760225-d2e4-4388-9654-a3c154d6930c",
   "metadata": {},
   "outputs": [
    {
     "ename": "TypeError",
     "evalue": "fun5() takes 0 positional arguments but 1 was given",
     "output_type": "error",
     "traceback": [
      "\u001b[1;31m---------------------------------------------------------------------------\u001b[0m",
      "\u001b[1;31mTypeError\u001b[0m                                 Traceback (most recent call last)",
      "Cell \u001b[1;32mIn[23], line 1\u001b[0m\n\u001b[1;32m----> 1\u001b[0m fun5(\u001b[38;5;241m34\u001b[39m)\n",
      "\u001b[1;31mTypeError\u001b[0m: fun5() takes 0 positional arguments but 1 was given"
     ]
    }
   ],
   "source": [
    "fun5(34)"
   ]
  },
  {
   "cell_type": "code",
   "execution_count": 24,
   "id": "d27e193b-45f3-4321-a94f-81e0aede3892",
   "metadata": {},
   "outputs": [
    {
     "data": {
      "text/plain": [
       "{'version': 34}"
      ]
     },
     "execution_count": 24,
     "metadata": {},
     "output_type": "execute_result"
    }
   ],
   "source": [
    "fun5(version= 34)"
   ]
  },
  {
   "cell_type": "code",
   "execution_count": 29,
   "id": "b61a5d5b-f898-40ec-9efb-aa982addd399",
   "metadata": {},
   "outputs": [
    {
     "data": {
      "text/plain": [
       "{'version': 34, 'java': 10.5, 'a': 'py'}"
      ]
     },
     "execution_count": 29,
     "metadata": {},
     "output_type": "execute_result"
    }
   ],
   "source": [
    "fun5(version= 34, java = 10.5, a= \"py\")"
   ]
  },
  {
   "cell_type": "code",
   "execution_count": 30,
   "id": "d259975e-e50f-459c-9b97-cab2ed69b643",
   "metadata": {},
   "outputs": [
    {
     "name": "stdout",
     "output_type": "stream",
     "text": [
      "2\n"
     ]
    }
   ],
   "source": [
    "print(2)"
   ]
  },
  {
   "cell_type": "code",
   "execution_count": 31,
   "id": "cadc30b7-bcbd-465b-8a57-be3f6fe9e7be",
   "metadata": {},
   "outputs": [
    {
     "name": "stdout",
     "output_type": "stream",
     "text": [
      "2 4 5 absc "
     ]
    }
   ],
   "source": [
    "print(2,4,5,\"absc\",end = \" \" )"
   ]
  },
  {
   "cell_type": "code",
   "execution_count": 32,
   "id": "e9fcd9eb-05ea-4531-84c5-0322c003a915",
   "metadata": {},
   "outputs": [
    {
     "ename": "SyntaxError",
     "evalue": "arguments cannot follow var-keyword argument (2692614574.py, line 1)",
     "output_type": "error",
     "traceback": [
      "\u001b[1;36m  Cell \u001b[1;32mIn[32], line 1\u001b[1;36m\u001b[0m\n\u001b[1;33m    def fun6(*a,**b, c):\u001b[0m\n\u001b[1;37m                     ^\u001b[0m\n\u001b[1;31mSyntaxError\u001b[0m\u001b[1;31m:\u001b[0m arguments cannot follow var-keyword argument\n"
     ]
    }
   ],
   "source": [
    "def fun6(*a,**b, c):\n",
    "    return a,b,c"
   ]
  },
  {
   "cell_type": "code",
   "execution_count": 33,
   "id": "362df2d2-5e96-4a2e-b7a8-8e03039390b5",
   "metadata": {},
   "outputs": [],
   "source": [
    "def fun6(*a,c, **b):\n",
    "    return a,b,c"
   ]
  },
  {
   "cell_type": "code",
   "execution_count": 34,
   "id": "3e0e9c5e-1bf2-447a-9321-11aefea48eed",
   "metadata": {},
   "outputs": [
    {
     "ename": "TypeError",
     "evalue": "fun6() missing 1 required keyword-only argument: 'c'",
     "output_type": "error",
     "traceback": [
      "\u001b[1;31m---------------------------------------------------------------------------\u001b[0m",
      "\u001b[1;31mTypeError\u001b[0m                                 Traceback (most recent call last)",
      "Cell \u001b[1;32mIn[34], line 1\u001b[0m\n\u001b[1;32m----> 1\u001b[0m fun6(\u001b[38;5;241m10\u001b[39m, \u001b[38;5;241m20\u001b[39m, name \u001b[38;5;241m=\u001b[39m \u001b[38;5;124m\"\u001b[39m\u001b[38;5;124mc++\u001b[39m\u001b[38;5;124m\"\u001b[39m)\n",
      "\u001b[1;31mTypeError\u001b[0m: fun6() missing 1 required keyword-only argument: 'c'"
     ]
    }
   ],
   "source": [
    "fun6(10, 20, name = \"c++\")"
   ]
  },
  {
   "cell_type": "code",
   "execution_count": 35,
   "id": "dde59c70-effd-4bd0-8609-9696a23c97c6",
   "metadata": {},
   "outputs": [],
   "source": [
    "def fun6(c,*a, **b):\n",
    "    return a,b,c"
   ]
  },
  {
   "cell_type": "code",
   "execution_count": 36,
   "id": "b99f30eb-0537-4d1c-aca1-dbe2393e24bf",
   "metadata": {},
   "outputs": [
    {
     "data": {
      "text/plain": [
       "((), {}, 2)"
      ]
     },
     "execution_count": 36,
     "metadata": {},
     "output_type": "execute_result"
    }
   ],
   "source": [
    "fun6(2)"
   ]
  },
  {
   "cell_type": "code",
   "execution_count": null,
   "id": "bf2cafce-0d6d-4414-8618-b59188be46bb",
   "metadata": {},
   "outputs": [],
   "source": [
    "10mm = 1cm\n",
    "100cm = 1m"
   ]
  },
  {
   "cell_type": "code",
   "execution_count": 37,
   "id": "bd27169d-0bfd-4d54-ad87-517c35aaab66",
   "metadata": {},
   "outputs": [],
   "source": [
    "def mm_to_m(a):\n",
    "    b = a/1000\n",
    "    return b"
   ]
  },
  {
   "cell_type": "code",
   "execution_count": 38,
   "id": "8eb291bd-e582-41db-95da-ed6d0a088062",
   "metadata": {},
   "outputs": [
    {
     "data": {
      "text/plain": [
       "0.04"
      ]
     },
     "execution_count": 38,
     "metadata": {},
     "output_type": "execute_result"
    }
   ],
   "source": [
    "mm_to_m(40)"
   ]
  },
  {
   "cell_type": "code",
   "execution_count": 39,
   "id": "afb9b885-e7de-4528-ad2c-52877e48b241",
   "metadata": {},
   "outputs": [],
   "source": [
    "def mm_to_m(a):\n",
    "    b = a/1000\n",
    "    print(f\"MM = {a}, into meter = {b}\")"
   ]
  },
  {
   "cell_type": "code",
   "execution_count": 40,
   "id": "40b3371d-2ef4-42d0-a3fa-6fadc5120fec",
   "metadata": {},
   "outputs": [
    {
     "name": "stdout",
     "output_type": "stream",
     "text": [
      "MM = 56, into meter = 0.056\n"
     ]
    }
   ],
   "source": [
    "mm_to_m(56)"
   ]
  },
  {
   "cell_type": "code",
   "execution_count": 41,
   "id": "3b1eaf8f-c0fd-4ef4-844a-56f421143c02",
   "metadata": {},
   "outputs": [],
   "source": [
    "def mm_to_m(a):\n",
    "    \"\"\"this function \n",
    "    convert mm into meter\"\"\"\n",
    "    b = a/1000\n",
    "    print(f\"MM = {a}, into meter = {b}\")"
   ]
  },
  {
   "cell_type": "code",
   "execution_count": 42,
   "id": "3b1346a9-efb0-488d-afec-e15ade24cdef",
   "metadata": {},
   "outputs": [
    {
     "name": "stdout",
     "output_type": "stream",
     "text": [
      "MM = 107, into meter = 0.107\n"
     ]
    }
   ],
   "source": [
    "mm_to_m(107)"
   ]
  },
  {
   "cell_type": "code",
   "execution_count": 43,
   "id": "a4533d99-582c-45b3-a801-502d828fa378",
   "metadata": {},
   "outputs": [],
   "source": [
    "def fun7(a):\n",
    "    \"\"\"hello\"\"\"\n",
    "    b = int(input())\n",
    "    c = a/b\n",
    "    return c"
   ]
  },
  {
   "cell_type": "code",
   "execution_count": 44,
   "id": "a545f1e3-200e-4c9d-835e-32f32677dbe2",
   "metadata": {},
   "outputs": [
    {
     "name": "stdin",
     "output_type": "stream",
     "text": [
      " 3\n"
     ]
    },
    {
     "data": {
      "text/plain": [
       "4.0"
      ]
     },
     "execution_count": 44,
     "metadata": {},
     "output_type": "execute_result"
    }
   ],
   "source": [
    "fun7(12)"
   ]
  },
  {
   "cell_type": "code",
   "execution_count": 45,
   "id": "10bd6b03-6b2e-45f0-93f4-42dda419d948",
   "metadata": {},
   "outputs": [
    {
     "name": "stdin",
     "output_type": "stream",
     "text": [
      " 0\n"
     ]
    },
    {
     "ename": "ZeroDivisionError",
     "evalue": "division by zero",
     "output_type": "error",
     "traceback": [
      "\u001b[1;31m---------------------------------------------------------------------------\u001b[0m",
      "\u001b[1;31mZeroDivisionError\u001b[0m                         Traceback (most recent call last)",
      "Cell \u001b[1;32mIn[45], line 1\u001b[0m\n\u001b[1;32m----> 1\u001b[0m fun7(\u001b[38;5;241m12\u001b[39m)\n",
      "Cell \u001b[1;32mIn[43], line 4\u001b[0m, in \u001b[0;36mfun7\u001b[1;34m(a)\u001b[0m\n\u001b[0;32m      2\u001b[0m \u001b[38;5;250m\u001b[39m\u001b[38;5;124;03m\"\"\"hello\"\"\"\u001b[39;00m\n\u001b[0;32m      3\u001b[0m b \u001b[38;5;241m=\u001b[39m \u001b[38;5;28mint\u001b[39m(\u001b[38;5;28minput\u001b[39m())\n\u001b[1;32m----> 4\u001b[0m c \u001b[38;5;241m=\u001b[39m a\u001b[38;5;241m/\u001b[39mb\n\u001b[0;32m      5\u001b[0m \u001b[38;5;28;01mreturn\u001b[39;00m c\n",
      "\u001b[1;31mZeroDivisionError\u001b[0m: division by zero"
     ]
    }
   ],
   "source": [
    "fun7(12)"
   ]
  },
  {
   "cell_type": "code",
   "execution_count": 46,
   "id": "caea89f4-75b4-4ee7-b25f-63fc5a444d48",
   "metadata": {},
   "outputs": [],
   "source": [
    "def fun7(a):\n",
    "    \"\"\"hello\"\"\"\n",
    "    try:\n",
    "        b = int(input())\n",
    "        c = a/b\n",
    "        print(c)\n",
    "    except Exception as e:\n",
    "        print(e)"
   ]
  },
  {
   "cell_type": "code",
   "execution_count": 48,
   "id": "f40e5ec9-1cee-4281-90e7-0ad7b0642b30",
   "metadata": {},
   "outputs": [
    {
     "name": "stdin",
     "output_type": "stream",
     "text": [
      " 0\n"
     ]
    },
    {
     "name": "stdout",
     "output_type": "stream",
     "text": [
      "division by zero\n"
     ]
    }
   ],
   "source": [
    "fun7(7)"
   ]
  },
  {
   "cell_type": "code",
   "execution_count": 49,
   "id": "902ab56b-6e36-4794-ac01-39947c7db285",
   "metadata": {},
   "outputs": [],
   "source": [
    "import logging"
   ]
  },
  {
   "cell_type": "code",
   "execution_count": 50,
   "id": "f6cdcaec-68cd-4d75-82e3-c5143a60e20c",
   "metadata": {},
   "outputs": [],
   "source": [
    "logging.basicConfig(filename= \"logfileforfunction.log\", level= logging.DEBUG, format= \"%(asctime)s %(levelname)s %(message)s\")"
   ]
  },
  {
   "cell_type": "code",
   "execution_count": 51,
   "id": "9fbcd827-0436-4bf0-be12-d2f80dafd49c",
   "metadata": {},
   "outputs": [],
   "source": [
    "def fun8(a):\n",
    "    \"\"\"hello\"\"\"\n",
    "    try:\n",
    "        logging.info(\"start the code\")\n",
    "        b = int(input())\n",
    "        c = a/b\n",
    "        print(c)\n",
    "        logging.info(\"output result\")\n",
    "    except Exception as e:\n",
    "        print(e)\n",
    "        logging.info(\"except block\")"
   ]
  },
  {
   "cell_type": "code",
   "execution_count": 54,
   "id": "aae7a0ce-b6d3-458c-a278-06b698b5b81b",
   "metadata": {},
   "outputs": [
    {
     "name": "stdin",
     "output_type": "stream",
     "text": [
      " 0\n"
     ]
    },
    {
     "name": "stdout",
     "output_type": "stream",
     "text": [
      "division by zero\n"
     ]
    }
   ],
   "source": [
    "fun8(6)"
   ]
  },
  {
   "cell_type": "code",
   "execution_count": 56,
   "id": "7cb65f2d-ccd1-4d2e-a6a3-720df9b4b50e",
   "metadata": {},
   "outputs": [],
   "source": [
    "# GLobal variable\n",
    "\n",
    "x = \"data science\"  \n",
    "\n",
    "def fun9():\n",
    "    x = \"AI\"   # local variable\n",
    "    return x"
   ]
  },
  {
   "cell_type": "code",
   "execution_count": 57,
   "id": "c6b28cfa-7a05-4c26-a528-72e3f92a8707",
   "metadata": {},
   "outputs": [
    {
     "data": {
      "text/plain": [
       "'AI'"
      ]
     },
     "execution_count": 57,
     "metadata": {},
     "output_type": "execute_result"
    }
   ],
   "source": [
    "fun9()"
   ]
  },
  {
   "cell_type": "code",
   "execution_count": 58,
   "id": "7fc226f6-f169-47e9-a13a-b29e7685675a",
   "metadata": {},
   "outputs": [
    {
     "data": {
      "text/plain": [
       "'data science'"
      ]
     },
     "execution_count": 58,
     "metadata": {},
     "output_type": "execute_result"
    }
   ],
   "source": [
    "x"
   ]
  },
  {
   "cell_type": "code",
   "execution_count": 66,
   "id": "6c5ce837-a332-488d-8ea2-e26a37b4a686",
   "metadata": {},
   "outputs": [
    {
     "name": "stdout",
     "output_type": "stream",
     "text": [
      "Python is awesome\n"
     ]
    }
   ],
   "source": [
    "x = \"awesome\"\n",
    "\n",
    "def myfunc():\n",
    "  print(\"Python is \" + x)\n",
    "\n",
    "myfunc()"
   ]
  },
  {
   "cell_type": "code",
   "execution_count": 67,
   "id": "080d9a49-4e2b-4cf9-bb78-fbb99063ee7c",
   "metadata": {},
   "outputs": [
    {
     "name": "stdout",
     "output_type": "stream",
     "text": [
      "Python is fantastic\n",
      "Python is awesome\n"
     ]
    }
   ],
   "source": [
    "#Create a variable inside a function, with the same name as the global variable\n",
    "\n",
    "x = \"awesome\"\n",
    "\n",
    "def myfunc():\n",
    "  x = \"fantastic\"\n",
    "  print(\"Python is \" + x)\n",
    "\n",
    "myfunc()\n",
    "\n",
    "print(\"Python is \" + x)"
   ]
  },
  {
   "cell_type": "code",
   "execution_count": 68,
   "id": "c7ec3588-3372-4fb4-9acb-a8c39003cfb2",
   "metadata": {},
   "outputs": [
    {
     "name": "stdout",
     "output_type": "stream",
     "text": [
      "Python is fantastic\n"
     ]
    }
   ],
   "source": [
    "#If you use the global keyword, the variable belongs to the global scope:\n",
    "\n",
    "def myfunc():\n",
    "  global x\n",
    "  x = \"fantastic\"\n",
    "\n",
    "myfunc()\n",
    "\n",
    "print(\"Python is \" + x)"
   ]
  },
  {
   "cell_type": "code",
   "execution_count": 69,
   "id": "120c3767-4bf7-48fc-b541-a32474c97399",
   "metadata": {},
   "outputs": [
    {
     "name": "stdout",
     "output_type": "stream",
     "text": [
      "Python is fantastic\n"
     ]
    }
   ],
   "source": [
    "print(\"Python is \" + x)"
   ]
  },
  {
   "cell_type": "code",
   "execution_count": null,
   "id": "c02722d3-754e-4dc4-9e2a-50170ef8c247",
   "metadata": {},
   "outputs": [],
   "source": []
  }
 ],
 "metadata": {
  "kernelspec": {
   "display_name": "Python 3 (ipykernel)",
   "language": "python",
   "name": "python3"
  },
  "language_info": {
   "codemirror_mode": {
    "name": "ipython",
    "version": 3
   },
   "file_extension": ".py",
   "mimetype": "text/x-python",
   "name": "python",
   "nbconvert_exporter": "python",
   "pygments_lexer": "ipython3",
   "version": "3.11.7"
  }
 },
 "nbformat": 4,
 "nbformat_minor": 5
}
