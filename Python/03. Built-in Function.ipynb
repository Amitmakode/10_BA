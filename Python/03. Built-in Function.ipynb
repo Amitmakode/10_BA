{
 "cells": [
  {
   "cell_type": "markdown",
   "id": "364ba074-7853-49a6-a281-d0f627f980d7",
   "metadata": {},
   "source": [
    "### Built-in Function"
   ]
  },
  {
   "cell_type": "code",
   "execution_count": 2,
   "id": "e42e8fb1-de8f-4d61-a6ff-7b0e1a9429e6",
   "metadata": {},
   "outputs": [
    {
     "name": "stdout",
     "output_type": "stream",
     "text": [
      "5\n"
     ]
    }
   ],
   "source": [
    "a = 5\n",
    "print(a)"
   ]
  },
  {
   "cell_type": "code",
   "execution_count": 3,
   "id": "cf7d24da-ef77-408f-b948-d9e3d9f07454",
   "metadata": {},
   "outputs": [
    {
     "name": "stdout",
     "output_type": "stream",
     "text": [
      "[6, 89, 0]\n"
     ]
    }
   ],
   "source": [
    "print([6,89,0])"
   ]
  },
  {
   "cell_type": "code",
   "execution_count": 4,
   "id": "f7a702e9-d205-4a19-a14a-599576d50a2e",
   "metadata": {},
   "outputs": [
    {
     "name": "stdout",
     "output_type": "stream",
     "text": [
      "2 strr [3, 4, 5, 8]\n"
     ]
    }
   ],
   "source": [
    "print(2, \"strr\", [3,4,5,8])"
   ]
  },
  {
   "cell_type": "code",
   "execution_count": 8,
   "id": "3acf4935-f754-447a-ae10-7317dc568fad",
   "metadata": {},
   "outputs": [
    {
     "name": "stdin",
     "output_type": "stream",
     "text": [
      " 868\n"
     ]
    }
   ],
   "source": [
    "var = input()"
   ]
  },
  {
   "cell_type": "code",
   "execution_count": 10,
   "id": "c427ef41-796c-42c7-8c39-df886b1dbd0d",
   "metadata": {},
   "outputs": [
    {
     "data": {
      "text/plain": [
       "str"
      ]
     },
     "execution_count": 10,
     "metadata": {},
     "output_type": "execute_result"
    }
   ],
   "source": [
    "type(var)"
   ]
  },
  {
   "cell_type": "code",
   "execution_count": 11,
   "id": "ace72275-a610-4bff-87e1-75b4cb6eb43a",
   "metadata": {},
   "outputs": [
    {
     "name": "stdin",
     "output_type": "stream",
     "text": [
      " 757\n"
     ]
    }
   ],
   "source": [
    "var = int(input())"
   ]
  },
  {
   "cell_type": "code",
   "execution_count": 12,
   "id": "630d68d2-a2ae-4c14-8d6e-1c4b482dac8d",
   "metadata": {},
   "outputs": [
    {
     "data": {
      "text/plain": [
       "int"
      ]
     },
     "execution_count": 12,
     "metadata": {},
     "output_type": "execute_result"
    }
   ],
   "source": [
    "type(var)"
   ]
  },
  {
   "cell_type": "code",
   "execution_count": 13,
   "id": "9d87b62a-8bf5-489b-9e0b-741292d2cf37",
   "metadata": {},
   "outputs": [
    {
     "data": {
      "text/plain": [
       "int"
      ]
     },
     "execution_count": 13,
     "metadata": {},
     "output_type": "execute_result"
    }
   ],
   "source": [
    "type(var)"
   ]
  },
  {
   "cell_type": "code",
   "execution_count": 14,
   "id": "b7a01256-0d1d-40e9-864a-8b0ff5f6305b",
   "metadata": {},
   "outputs": [
    {
     "data": {
      "text/plain": [
       "set"
      ]
     },
     "execution_count": 14,
     "metadata": {},
     "output_type": "execute_result"
    }
   ],
   "source": [
    "type({3,4,5})"
   ]
  },
  {
   "cell_type": "code",
   "execution_count": 16,
   "id": "82a46691-4d1d-4e84-bdbc-0d09e9170299",
   "metadata": {},
   "outputs": [
    {
     "data": {
      "text/plain": [
       "4"
      ]
     },
     "execution_count": 16,
     "metadata": {},
     "output_type": "execute_result"
    }
   ],
   "source": [
    "len(\"java\")"
   ]
  },
  {
   "cell_type": "code",
   "execution_count": 19,
   "id": "5623fe7e-a90c-4c67-86d2-f6a8a9c93d5f",
   "metadata": {},
   "outputs": [],
   "source": [
    "var1 = \"hel    lo\""
   ]
  },
  {
   "cell_type": "code",
   "execution_count": 20,
   "id": "f9777bc3-f1e5-41c6-ae39-2f6003b6b6ba",
   "metadata": {},
   "outputs": [
    {
     "data": {
      "text/plain": [
       "9"
      ]
     },
     "execution_count": 20,
     "metadata": {},
     "output_type": "execute_result"
    }
   ],
   "source": [
    "len(var1)"
   ]
  },
  {
   "cell_type": "code",
   "execution_count": 21,
   "id": "a712b935-ad63-43b2-80d5-221bd63574b7",
   "metadata": {},
   "outputs": [
    {
     "data": {
      "text/plain": [
       "('c', '+', '+')"
      ]
     },
     "execution_count": 21,
     "metadata": {},
     "output_type": "execute_result"
    }
   ],
   "source": [
    "tuple(\"c++\")"
   ]
  },
  {
   "cell_type": "code",
   "execution_count": null,
   "id": "fa745cf9-6f3c-4ebb-83ce-923682d4c8f8",
   "metadata": {},
   "outputs": [],
   "source": [
    "list()\n",
    "set()\n",
    "dict()\n",
    "str()\n",
    "int()\n",
    "float()"
   ]
  },
  {
   "cell_type": "markdown",
   "id": "4e898578-d1d2-499c-b607-7c762c6d097b",
   "metadata": {},
   "source": [
    "#### Iterable"
   ]
  },
  {
   "cell_type": "code",
   "execution_count": null,
   "id": "a7481455-e82b-470e-880d-bd6dc0864dfa",
   "metadata": {},
   "outputs": [],
   "source": [
    "str\n",
    "list\n",
    "tuple\n",
    "set\n",
    "dict"
   ]
  },
  {
   "cell_type": "code",
   "execution_count": 22,
   "id": "468f87ba-6504-40e0-b609-3fa000da953b",
   "metadata": {},
   "outputs": [
    {
     "name": "stdout",
     "output_type": "stream",
     "text": [
      "p\n",
      "y\n",
      "t\n",
      "h\n",
      "o\n",
      "n\n"
     ]
    }
   ],
   "source": [
    "for i in \"python\":\n",
    "    print(i)"
   ]
  },
  {
   "cell_type": "code",
   "execution_count": 23,
   "id": "cec6dfad-f488-4001-8871-2d2b4280388e",
   "metadata": {},
   "outputs": [
    {
     "ename": "TypeError",
     "evalue": "'int' object is not iterable",
     "output_type": "error",
     "traceback": [
      "\u001b[1;31m---------------------------------------------------------------------------\u001b[0m",
      "\u001b[1;31mTypeError\u001b[0m                                 Traceback (most recent call last)",
      "Cell \u001b[1;32mIn[23], line 1\u001b[0m\n\u001b[1;32m----> 1\u001b[0m \u001b[38;5;28;01mfor\u001b[39;00m i \u001b[38;5;129;01min\u001b[39;00m \u001b[38;5;241m34534\u001b[39m:\n\u001b[0;32m      2\u001b[0m     \u001b[38;5;28mprint\u001b[39m(i)\n",
      "\u001b[1;31mTypeError\u001b[0m: 'int' object is not iterable"
     ]
    }
   ],
   "source": [
    "for i in 34534:\n",
    "    print(i)"
   ]
  },
  {
   "cell_type": "code",
   "execution_count": 24,
   "id": "514aac7f-da73-4955-9031-50bbfb43ae6b",
   "metadata": {},
   "outputs": [
    {
     "name": "stdout",
     "output_type": "stream",
     "text": [
      "10\n"
     ]
    }
   ],
   "source": [
    "num = -10\n",
    "\n",
    "abs_num = abs(num)\n",
    "print(abs_num)  # Output: 10"
   ]
  },
  {
   "cell_type": "code",
   "execution_count": 28,
   "id": "77076f8a-2dd7-4ed3-baaa-00581c560899",
   "metadata": {},
   "outputs": [
    {
     "name": "stdout",
     "output_type": "stream",
     "text": [
      "True\n"
     ]
    }
   ],
   "source": [
    "list1 = [True, True, 1]\n",
    "\n",
    "result = all(list1)\n",
    "\n",
    "print(result)   "
   ]
  },
  {
   "cell_type": "code",
   "execution_count": 31,
   "id": "d03bd4c1-3249-4577-b8d8-75553cf3a992",
   "metadata": {},
   "outputs": [
    {
     "name": "stdout",
     "output_type": "stream",
     "text": [
      "True\n"
     ]
    }
   ],
   "source": [
    "list1 = [False, False, 1]\n",
    "result = any(list1)\n",
    "print(result) "
   ]
  },
  {
   "cell_type": "code",
   "execution_count": 42,
   "id": "66c418a0-cbc7-45b5-b9a2-9f197dcb6e09",
   "metadata": {},
   "outputs": [
    {
     "name": "stdout",
     "output_type": "stream",
     "text": [
      "A\n"
     ]
    }
   ],
   "source": [
    "char = chr(65)\n",
    "\n",
    "print(char) "
   ]
  },
  {
   "cell_type": "code",
   "execution_count": 45,
   "id": "5c44f396-8105-4c87-a853-ae7898b30050",
   "metadata": {},
   "outputs": [
    {
     "data": {
      "text/plain": [
       "43"
      ]
     },
     "execution_count": 45,
     "metadata": {},
     "output_type": "execute_result"
    }
   ],
   "source": [
    "ordd = ord(\"+\")\n",
    "ordd"
   ]
  },
  {
   "cell_type": "code",
   "execution_count": null,
   "id": "7f4db8a1-a511-4168-827d-db407a326482",
   "metadata": {},
   "outputs": [],
   "source": [
    "67 - A\n",
    "68 - B\n",
    "69 - C"
   ]
  },
  {
   "cell_type": "code",
   "execution_count": 46,
   "id": "c6d4d60f-0973-4161-8957-444be7e870a8",
   "metadata": {},
   "outputs": [
    {
     "name": "stdout",
     "output_type": "stream",
     "text": [
      "(77-7j)\n"
     ]
    }
   ],
   "source": [
    "comp_num = complex(77, -7)\n",
    "print(comp_num)   "
   ]
  },
  {
   "cell_type": "code",
   "execution_count": null,
   "id": "2e020092-d9ac-4c00-b959-8b9787aca31a",
   "metadata": {},
   "outputs": [],
   "source": [
    " complex(77, -7)"
   ]
  },
  {
   "cell_type": "code",
   "execution_count": 47,
   "id": "3c186150-b371-418b-8621-3deadc23547e",
   "metadata": {},
   "outputs": [
    {
     "data": {
      "text/plain": [
       "(44+6j)"
      ]
     },
     "execution_count": 47,
     "metadata": {},
     "output_type": "execute_result"
    }
   ],
   "source": [
    "44 + 6j"
   ]
  },
  {
   "cell_type": "code",
   "execution_count": 49,
   "id": "e03065b2-b04d-4d9b-be6d-f97488ca04d6",
   "metadata": {},
   "outputs": [
    {
     "data": {
      "text/plain": [
       "['__add__',\n",
       " '__class__',\n",
       " '__contains__',\n",
       " '__delattr__',\n",
       " '__dir__',\n",
       " '__doc__',\n",
       " '__eq__',\n",
       " '__format__',\n",
       " '__ge__',\n",
       " '__getattribute__',\n",
       " '__getitem__',\n",
       " '__getnewargs__',\n",
       " '__getstate__',\n",
       " '__gt__',\n",
       " '__hash__',\n",
       " '__init__',\n",
       " '__init_subclass__',\n",
       " '__iter__',\n",
       " '__le__',\n",
       " '__len__',\n",
       " '__lt__',\n",
       " '__mod__',\n",
       " '__mul__',\n",
       " '__ne__',\n",
       " '__new__',\n",
       " '__reduce__',\n",
       " '__reduce_ex__',\n",
       " '__repr__',\n",
       " '__rmod__',\n",
       " '__rmul__',\n",
       " '__setattr__',\n",
       " '__sizeof__',\n",
       " '__str__',\n",
       " '__subclasshook__',\n",
       " 'capitalize',\n",
       " 'casefold',\n",
       " 'center',\n",
       " 'count',\n",
       " 'encode',\n",
       " 'endswith',\n",
       " 'expandtabs',\n",
       " 'find',\n",
       " 'format',\n",
       " 'format_map',\n",
       " 'index',\n",
       " 'isalnum',\n",
       " 'isalpha',\n",
       " 'isascii',\n",
       " 'isdecimal',\n",
       " 'isdigit',\n",
       " 'isidentifier',\n",
       " 'islower',\n",
       " 'isnumeric',\n",
       " 'isprintable',\n",
       " 'isspace',\n",
       " 'istitle',\n",
       " 'isupper',\n",
       " 'join',\n",
       " 'ljust',\n",
       " 'lower',\n",
       " 'lstrip',\n",
       " 'maketrans',\n",
       " 'partition',\n",
       " 'removeprefix',\n",
       " 'removesuffix',\n",
       " 'replace',\n",
       " 'rfind',\n",
       " 'rindex',\n",
       " 'rjust',\n",
       " 'rpartition',\n",
       " 'rsplit',\n",
       " 'rstrip',\n",
       " 'split',\n",
       " 'splitlines',\n",
       " 'startswith',\n",
       " 'strip',\n",
       " 'swapcase',\n",
       " 'title',\n",
       " 'translate',\n",
       " 'upper',\n",
       " 'zfill']"
      ]
     },
     "execution_count": 49,
     "metadata": {},
     "output_type": "execute_result"
    }
   ],
   "source": [
    "dir(str)"
   ]
  },
  {
   "cell_type": "code",
   "execution_count": 51,
   "id": "e014aeb4-1ee6-47cd-83ce-d1b938547e70",
   "metadata": {},
   "outputs": [
    {
     "name": "stdout",
     "output_type": "stream",
     "text": [
      "[(0, 'apple'), (1, 'banana'), (2, 'cherry'), (3, 'chiku'), (4, 'Orange')]\n"
     ]
    }
   ],
   "source": [
    "fruits = ['apple', 'banana', 'cherry', \"chiku\", \"Orange\"]\n",
    "\n",
    "enum_obj = enumerate(fruits)\n",
    "\n",
    "print(list(enum_obj)) "
   ]
  },
  {
   "cell_type": "code",
   "execution_count": 52,
   "id": "146cc4b1-9b88-4e0c-92e2-aad54855de74",
   "metadata": {},
   "outputs": [
    {
     "name": "stdout",
     "output_type": "stream",
     "text": [
      "15\n"
     ]
    }
   ],
   "source": [
    "x = 10\n",
    "\n",
    "result = eval('x + 5')\n",
    "\n",
    "print(result)   "
   ]
  },
  {
   "cell_type": "code",
   "execution_count": 53,
   "id": "ca479ca7-32eb-4555-bec3-848558e0fa06",
   "metadata": {},
   "outputs": [
    {
     "ename": "TypeError",
     "evalue": "unsupported operand type(s) for +: 'int' and 'str'",
     "output_type": "error",
     "traceback": [
      "\u001b[1;31m---------------------------------------------------------------------------\u001b[0m",
      "\u001b[1;31mTypeError\u001b[0m                                 Traceback (most recent call last)",
      "Cell \u001b[1;32mIn[53], line 1\u001b[0m\n\u001b[1;32m----> 1\u001b[0m x \u001b[38;5;241m+\u001b[39m \u001b[38;5;124m\"\u001b[39m\u001b[38;5;124m5\u001b[39m\u001b[38;5;124m\"\u001b[39m\n",
      "\u001b[1;31mTypeError\u001b[0m: unsupported operand type(s) for +: 'int' and 'str'"
     ]
    }
   ],
   "source": [
    "x + \"5\""
   ]
  },
  {
   "cell_type": "code",
   "execution_count": 56,
   "id": "266d1fc5-a2d5-4a9b-8817-44472ce29e4f",
   "metadata": {},
   "outputs": [
    {
     "ename": "NameError",
     "evalue": "name 'abc' is not defined",
     "output_type": "error",
     "traceback": [
      "\u001b[1;31m---------------------------------------------------------------------------\u001b[0m",
      "\u001b[1;31mNameError\u001b[0m                                 Traceback (most recent call last)",
      "Cell \u001b[1;32mIn[56], line 1\u001b[0m\n\u001b[1;32m----> 1\u001b[0m \u001b[38;5;28meval\u001b[39m(\u001b[38;5;124m\"\u001b[39m\u001b[38;5;124mx + abc\u001b[39m\u001b[38;5;124m\"\u001b[39m)\n",
      "File \u001b[1;32m<string>:1\u001b[0m\n",
      "\u001b[1;31mNameError\u001b[0m: name 'abc' is not defined"
     ]
    }
   ],
   "source": [
    "eval(\"x + abc\")"
   ]
  },
  {
   "cell_type": "code",
   "execution_count": 57,
   "id": "f146368e-82c0-4f03-9f57-552075d799a7",
   "metadata": {},
   "outputs": [
    {
     "name": "stdout",
     "output_type": "stream",
     "text": [
      "97.000000%\n"
     ]
    }
   ],
   "source": [
    "formatted = format(0.97, '%')\n",
    "\n",
    "print(formatted)  "
   ]
  },
  {
   "cell_type": "code",
   "execution_count": 58,
   "id": "6face4f8-1edd-4be9-b790-6b2370e1ece7",
   "metadata": {},
   "outputs": [
    {
     "name": "stdout",
     "output_type": "stream",
     "text": [
      "Help on class int in module builtins:\n",
      "\n",
      "class int(object)\n",
      " |  int([x]) -> integer\n",
      " |  int(x, base=10) -> integer\n",
      " |  \n",
      " |  Convert a number or string to an integer, or return 0 if no arguments\n",
      " |  are given.  If x is a number, return x.__int__().  For floating point\n",
      " |  numbers, this truncates towards zero.\n",
      " |  \n",
      " |  If x is not a number or if base is given, then x must be a string,\n",
      " |  bytes, or bytearray instance representing an integer literal in the\n",
      " |  given base.  The literal can be preceded by '+' or '-' and be surrounded\n",
      " |  by whitespace.  The base defaults to 10.  Valid bases are 0 and 2-36.\n",
      " |  Base 0 means to interpret the base from the string as an integer literal.\n",
      " |  >>> int('0b100', base=0)\n",
      " |  4\n",
      " |  \n",
      " |  Built-in subclasses:\n",
      " |      bool\n",
      " |  \n",
      " |  Methods defined here:\n",
      " |  \n",
      " |  __abs__(self, /)\n",
      " |      abs(self)\n",
      " |  \n",
      " |  __add__(self, value, /)\n",
      " |      Return self+value.\n",
      " |  \n",
      " |  __and__(self, value, /)\n",
      " |      Return self&value.\n",
      " |  \n",
      " |  __bool__(self, /)\n",
      " |      True if self else False\n",
      " |  \n",
      " |  __ceil__(...)\n",
      " |      Ceiling of an Integral returns itself.\n",
      " |  \n",
      " |  __divmod__(self, value, /)\n",
      " |      Return divmod(self, value).\n",
      " |  \n",
      " |  __eq__(self, value, /)\n",
      " |      Return self==value.\n",
      " |  \n",
      " |  __float__(self, /)\n",
      " |      float(self)\n",
      " |  \n",
      " |  __floor__(...)\n",
      " |      Flooring an Integral returns itself.\n",
      " |  \n",
      " |  __floordiv__(self, value, /)\n",
      " |      Return self//value.\n",
      " |  \n",
      " |  __format__(self, format_spec, /)\n",
      " |      Default object formatter.\n",
      " |  \n",
      " |  __ge__(self, value, /)\n",
      " |      Return self>=value.\n",
      " |  \n",
      " |  __getattribute__(self, name, /)\n",
      " |      Return getattr(self, name).\n",
      " |  \n",
      " |  __getnewargs__(self, /)\n",
      " |  \n",
      " |  __gt__(self, value, /)\n",
      " |      Return self>value.\n",
      " |  \n",
      " |  __hash__(self, /)\n",
      " |      Return hash(self).\n",
      " |  \n",
      " |  __index__(self, /)\n",
      " |      Return self converted to an integer, if self is suitable for use as an index into a list.\n",
      " |  \n",
      " |  __int__(self, /)\n",
      " |      int(self)\n",
      " |  \n",
      " |  __invert__(self, /)\n",
      " |      ~self\n",
      " |  \n",
      " |  __le__(self, value, /)\n",
      " |      Return self<=value.\n",
      " |  \n",
      " |  __lshift__(self, value, /)\n",
      " |      Return self<<value.\n",
      " |  \n",
      " |  __lt__(self, value, /)\n",
      " |      Return self<value.\n",
      " |  \n",
      " |  __mod__(self, value, /)\n",
      " |      Return self%value.\n",
      " |  \n",
      " |  __mul__(self, value, /)\n",
      " |      Return self*value.\n",
      " |  \n",
      " |  __ne__(self, value, /)\n",
      " |      Return self!=value.\n",
      " |  \n",
      " |  __neg__(self, /)\n",
      " |      -self\n",
      " |  \n",
      " |  __or__(self, value, /)\n",
      " |      Return self|value.\n",
      " |  \n",
      " |  __pos__(self, /)\n",
      " |      +self\n",
      " |  \n",
      " |  __pow__(self, value, mod=None, /)\n",
      " |      Return pow(self, value, mod).\n",
      " |  \n",
      " |  __radd__(self, value, /)\n",
      " |      Return value+self.\n",
      " |  \n",
      " |  __rand__(self, value, /)\n",
      " |      Return value&self.\n",
      " |  \n",
      " |  __rdivmod__(self, value, /)\n",
      " |      Return divmod(value, self).\n",
      " |  \n",
      " |  __repr__(self, /)\n",
      " |      Return repr(self).\n",
      " |  \n",
      " |  __rfloordiv__(self, value, /)\n",
      " |      Return value//self.\n",
      " |  \n",
      " |  __rlshift__(self, value, /)\n",
      " |      Return value<<self.\n",
      " |  \n",
      " |  __rmod__(self, value, /)\n",
      " |      Return value%self.\n",
      " |  \n",
      " |  __rmul__(self, value, /)\n",
      " |      Return value*self.\n",
      " |  \n",
      " |  __ror__(self, value, /)\n",
      " |      Return value|self.\n",
      " |  \n",
      " |  __round__(...)\n",
      " |      Rounding an Integral returns itself.\n",
      " |      \n",
      " |      Rounding with an ndigits argument also returns an integer.\n",
      " |  \n",
      " |  __rpow__(self, value, mod=None, /)\n",
      " |      Return pow(value, self, mod).\n",
      " |  \n",
      " |  __rrshift__(self, value, /)\n",
      " |      Return value>>self.\n",
      " |  \n",
      " |  __rshift__(self, value, /)\n",
      " |      Return self>>value.\n",
      " |  \n",
      " |  __rsub__(self, value, /)\n",
      " |      Return value-self.\n",
      " |  \n",
      " |  __rtruediv__(self, value, /)\n",
      " |      Return value/self.\n",
      " |  \n",
      " |  __rxor__(self, value, /)\n",
      " |      Return value^self.\n",
      " |  \n",
      " |  __sizeof__(self, /)\n",
      " |      Returns size in memory, in bytes.\n",
      " |  \n",
      " |  __sub__(self, value, /)\n",
      " |      Return self-value.\n",
      " |  \n",
      " |  __truediv__(self, value, /)\n",
      " |      Return self/value.\n",
      " |  \n",
      " |  __trunc__(...)\n",
      " |      Truncating an Integral returns itself.\n",
      " |  \n",
      " |  __xor__(self, value, /)\n",
      " |      Return self^value.\n",
      " |  \n",
      " |  as_integer_ratio(self, /)\n",
      " |      Return integer ratio.\n",
      " |      \n",
      " |      Return a pair of integers, whose ratio is exactly equal to the original int\n",
      " |      and with a positive denominator.\n",
      " |      \n",
      " |      >>> (10).as_integer_ratio()\n",
      " |      (10, 1)\n",
      " |      >>> (-10).as_integer_ratio()\n",
      " |      (-10, 1)\n",
      " |      >>> (0).as_integer_ratio()\n",
      " |      (0, 1)\n",
      " |  \n",
      " |  bit_count(self, /)\n",
      " |      Number of ones in the binary representation of the absolute value of self.\n",
      " |      \n",
      " |      Also known as the population count.\n",
      " |      \n",
      " |      >>> bin(13)\n",
      " |      '0b1101'\n",
      " |      >>> (13).bit_count()\n",
      " |      3\n",
      " |  \n",
      " |  bit_length(self, /)\n",
      " |      Number of bits necessary to represent self in binary.\n",
      " |      \n",
      " |      >>> bin(37)\n",
      " |      '0b100101'\n",
      " |      >>> (37).bit_length()\n",
      " |      6\n",
      " |  \n",
      " |  conjugate(...)\n",
      " |      Returns self, the complex conjugate of any int.\n",
      " |  \n",
      " |  to_bytes(self, /, length=1, byteorder='big', *, signed=False)\n",
      " |      Return an array of bytes representing an integer.\n",
      " |      \n",
      " |      length\n",
      " |        Length of bytes object to use.  An OverflowError is raised if the\n",
      " |        integer is not representable with the given number of bytes.  Default\n",
      " |        is length 1.\n",
      " |      byteorder\n",
      " |        The byte order used to represent the integer.  If byteorder is 'big',\n",
      " |        the most significant byte is at the beginning of the byte array.  If\n",
      " |        byteorder is 'little', the most significant byte is at the end of the\n",
      " |        byte array.  To request the native byte order of the host system, use\n",
      " |        `sys.byteorder' as the byte order value.  Default is to use 'big'.\n",
      " |      signed\n",
      " |        Determines whether two's complement is used to represent the integer.\n",
      " |        If signed is False and a negative integer is given, an OverflowError\n",
      " |        is raised.\n",
      " |  \n",
      " |  ----------------------------------------------------------------------\n",
      " |  Class methods defined here:\n",
      " |  \n",
      " |  from_bytes(bytes, byteorder='big', *, signed=False) from builtins.type\n",
      " |      Return the integer represented by the given array of bytes.\n",
      " |      \n",
      " |      bytes\n",
      " |        Holds the array of bytes to convert.  The argument must either\n",
      " |        support the buffer protocol or be an iterable object producing bytes.\n",
      " |        Bytes and bytearray are examples of built-in objects that support the\n",
      " |        buffer protocol.\n",
      " |      byteorder\n",
      " |        The byte order used to represent the integer.  If byteorder is 'big',\n",
      " |        the most significant byte is at the beginning of the byte array.  If\n",
      " |        byteorder is 'little', the most significant byte is at the end of the\n",
      " |        byte array.  To request the native byte order of the host system, use\n",
      " |        `sys.byteorder' as the byte order value.  Default is to use 'big'.\n",
      " |      signed\n",
      " |        Indicates whether two's complement is used to represent the integer.\n",
      " |  \n",
      " |  ----------------------------------------------------------------------\n",
      " |  Static methods defined here:\n",
      " |  \n",
      " |  __new__(*args, **kwargs) from builtins.type\n",
      " |      Create and return a new object.  See help(type) for accurate signature.\n",
      " |  \n",
      " |  ----------------------------------------------------------------------\n",
      " |  Data descriptors defined here:\n",
      " |  \n",
      " |  denominator\n",
      " |      the denominator of a rational number in lowest terms\n",
      " |  \n",
      " |  imag\n",
      " |      the imaginary part of a complex number\n",
      " |  \n",
      " |  numerator\n",
      " |      the numerator of a rational number in lowest terms\n",
      " |  \n",
      " |  real\n",
      " |      the real part of a complex number\n",
      "\n"
     ]
    }
   ],
   "source": [
    "help(int)"
   ]
  },
  {
   "cell_type": "code",
   "execution_count": 63,
   "id": "b0b4ff42-5c6f-45b2-928f-37f8add866ee",
   "metadata": {},
   "outputs": [
    {
     "name": "stdout",
     "output_type": "stream",
     "text": [
      "False\n"
     ]
    }
   ],
   "source": [
    "z = 5.0\n",
    "\n",
    "result = isinstance(z, int)\n",
    "\n",
    "print(result)  "
   ]
  },
  {
   "cell_type": "code",
   "execution_count": 64,
   "id": "97cb11ec-0423-499c-8112-a860eec057a2",
   "metadata": {},
   "outputs": [
    {
     "name": "stdout",
     "output_type": "stream",
     "text": [
      "3\n"
     ]
    }
   ],
   "source": [
    "max_num = max(1, 2, 3)\n",
    "print(max_num) "
   ]
  },
  {
   "cell_type": "code",
   "execution_count": 65,
   "id": "2d9a715b-5798-436c-b45f-22dbf85c6da9",
   "metadata": {},
   "outputs": [
    {
     "name": "stdout",
     "output_type": "stream",
     "text": [
      "1\n"
     ]
    }
   ],
   "source": [
    "max_num = min(1, 2, 3)\n",
    "print(max_num) "
   ]
  },
  {
   "cell_type": "code",
   "execution_count": 68,
   "id": "d3b29ff7-459d-41fc-9fb1-50ac8634c039",
   "metadata": {},
   "outputs": [
    {
     "name": "stdout",
     "output_type": "stream",
     "text": [
      "10000\n"
     ]
    }
   ],
   "source": [
    "result = pow(10, 4)\n",
    "print(result)"
   ]
  },
  {
   "cell_type": "code",
   "execution_count": 69,
   "id": "9dce8597-1790-4bf2-8643-e3f8ab16450b",
   "metadata": {},
   "outputs": [
    {
     "name": "stdout",
     "output_type": "stream",
     "text": [
      "[0, 1, 2, 3, 4]\n"
     ]
    }
   ],
   "source": [
    "rng = range(5)\n",
    "print(list(rng))"
   ]
  },
  {
   "cell_type": "code",
   "execution_count": 70,
   "id": "de76f059-3f25-4479-9edb-7f4be6793221",
   "metadata": {},
   "outputs": [
    {
     "name": "stdout",
     "output_type": "stream",
     "text": [
      "[2, 3, 4, 5, 6, 7]\n"
     ]
    }
   ],
   "source": [
    "rng = range(2,8)\n",
    "print(list(rng))"
   ]
  },
  {
   "cell_type": "code",
   "execution_count": 71,
   "id": "14c2f770-4a93-4624-be78-eee7e7c99cfe",
   "metadata": {},
   "outputs": [
    {
     "name": "stdout",
     "output_type": "stream",
     "text": [
      "[-2, -1, 0, 1, 2, 3, 4, 5, 6, 7]\n"
     ]
    }
   ],
   "source": [
    "rng = range(-2,8)\n",
    "print(list(rng))"
   ]
  },
  {
   "cell_type": "code",
   "execution_count": 72,
   "id": "d10ad533-a822-474a-9c5c-e406b20d40ea",
   "metadata": {},
   "outputs": [
    {
     "name": "stdout",
     "output_type": "stream",
     "text": [
      "[]\n"
     ]
    }
   ],
   "source": [
    "rng = range(-2,-8)\n",
    "print(list(rng))"
   ]
  },
  {
   "cell_type": "code",
   "execution_count": 73,
   "id": "41b042ee-f8ab-4352-a912-4c9ee19d4ae6",
   "metadata": {},
   "outputs": [
    {
     "name": "stdout",
     "output_type": "stream",
     "text": [
      "[-5, -4, -3, -2, -1, 0, 1, 2, 3, 4]\n"
     ]
    }
   ],
   "source": [
    "rng = range(-5,5)\n",
    "print(list(rng))"
   ]
  },
  {
   "cell_type": "code",
   "execution_count": 74,
   "id": "5df25e0a-e54a-4bb0-938c-75e6e5926d89",
   "metadata": {},
   "outputs": [
    {
     "name": "stdout",
     "output_type": "stream",
     "text": [
      "[-2, -3, -4, -5, -6, -7]\n"
     ]
    }
   ],
   "source": [
    "rng = range(-2,-8,-1)\n",
    "print(list(rng))"
   ]
  },
  {
   "cell_type": "code",
   "execution_count": 75,
   "id": "e33cca88-2471-4640-b13c-a8ca817328d3",
   "metadata": {},
   "outputs": [
    {
     "name": "stdout",
     "output_type": "stream",
     "text": [
      "[-2, 0, 2, 4, 6]\n"
     ]
    }
   ],
   "source": [
    "rng = range(-2,8,2)\n",
    "print(list(rng))"
   ]
  },
  {
   "cell_type": "code",
   "execution_count": 76,
   "id": "8016c04b-ff27-461d-87f4-77683957e0e3",
   "metadata": {},
   "outputs": [
    {
     "name": "stdout",
     "output_type": "stream",
     "text": [
      "[50, 49, 48, 47, 46, 45, 44, 43, 42, 41, 40, 39, 38, 37, 36, 35, 34, 33, 32, 31, 30, 29, 28, 27, 26]\n"
     ]
    }
   ],
   "source": [
    "rng = range(50,25,-1)\n",
    "print(list(rng))"
   ]
  },
  {
   "cell_type": "code",
   "execution_count": 77,
   "id": "dc28fbc9-e615-4d81-a7fc-f0aa9e1fb2b1",
   "metadata": {},
   "outputs": [
    {
     "name": "stdout",
     "output_type": "stream",
     "text": [
      "[]\n"
     ]
    }
   ],
   "source": [
    "rng = range(50,25,1)\n",
    "print(list(rng))"
   ]
  },
  {
   "cell_type": "code",
   "execution_count": 78,
   "id": "9b9d4a5b-66f3-4d19-888d-649bd6668743",
   "metadata": {},
   "outputs": [
    {
     "name": "stdout",
     "output_type": "stream",
     "text": [
      "[3, 2, 1]\n"
     ]
    }
   ],
   "source": [
    "rev_iter = reversed([1, 2, 3])\n",
    "\n",
    "print(list(rev_iter))"
   ]
  },
  {
   "cell_type": "code",
   "execution_count": 80,
   "id": "04759742-9d24-40d8-b28f-c58f2b8aa3dc",
   "metadata": {},
   "outputs": [
    {
     "name": "stdout",
     "output_type": "stream",
     "text": [
      "3.14\n"
     ]
    }
   ],
   "source": [
    "num = 3.14159\n",
    "rounded_num = round(num, 2)\n",
    "print(rounded_num) "
   ]
  },
  {
   "cell_type": "code",
   "execution_count": 81,
   "id": "baded71f-555f-41f4-8bb4-75fe5979ea57",
   "metadata": {},
   "outputs": [
    {
     "name": "stdout",
     "output_type": "stream",
     "text": [
      "[1, 2, 3, 4]\n"
     ]
    }
   ],
   "source": [
    "lst = [3, 1,4, 2]\n",
    "\n",
    "sorted_lst = sorted(lst)\n",
    "print(sorted_lst) "
   ]
  },
  {
   "cell_type": "code",
   "execution_count": 82,
   "id": "4082df75-03de-4c61-a88f-c38a83f38357",
   "metadata": {},
   "outputs": [
    {
     "name": "stdout",
     "output_type": "stream",
     "text": [
      "[4, 3, 2, 1]\n"
     ]
    }
   ],
   "source": [
    "lst = [3, 1,4, 2]\n",
    "\n",
    "sorted_lst = sorted(lst, reverse= True)\n",
    "print(sorted_lst) "
   ]
  },
  {
   "cell_type": "code",
   "execution_count": 83,
   "id": "e0cacd6d-98ab-407f-b56b-92fad0f92599",
   "metadata": {},
   "outputs": [
    {
     "name": "stdout",
     "output_type": "stream",
     "text": [
      "6\n"
     ]
    }
   ],
   "source": [
    "lst = [1, 2, 3]\n",
    "sum_lst = sum(lst)\n",
    "print(sum_lst)"
   ]
  },
  {
   "cell_type": "code",
   "execution_count": 84,
   "id": "c727f578-2ed6-452b-a887-ab6c33e99756",
   "metadata": {},
   "outputs": [
    {
     "name": "stdout",
     "output_type": "stream",
     "text": [
      "[(1, 'a'), (2, 'b'), (3, 'c')]\n"
     ]
    }
   ],
   "source": [
    "lst1 = [1, 2, 3]\n",
    "lst2 = ['a', 'b', 'c']\n",
    "\n",
    "zipped = zip(lst1, lst2)\n",
    "print(list(zipped))"
   ]
  },
  {
   "cell_type": "code",
   "execution_count": 86,
   "id": "fd75d23e-a6c9-4c65-9db6-e0c138af5f7b",
   "metadata": {},
   "outputs": [],
   "source": [
    "lis = [4,2,45,5,5,7]"
   ]
  },
  {
   "cell_type": "code",
   "execution_count": 88,
   "id": "3e23c0eb-0610-4e89-b7e4-ed82e54c0169",
   "metadata": {},
   "outputs": [],
   "source": [
    "del(lis)"
   ]
  },
  {
   "cell_type": "code",
   "execution_count": 89,
   "id": "84c5b02d-23e0-42d6-b268-99f1dac8868c",
   "metadata": {},
   "outputs": [
    {
     "ename": "NameError",
     "evalue": "name 'lis' is not defined",
     "output_type": "error",
     "traceback": [
      "\u001b[1;31m---------------------------------------------------------------------------\u001b[0m",
      "\u001b[1;31mNameError\u001b[0m                                 Traceback (most recent call last)",
      "Cell \u001b[1;32mIn[89], line 1\u001b[0m\n\u001b[1;32m----> 1\u001b[0m lis\n",
      "\u001b[1;31mNameError\u001b[0m: name 'lis' is not defined"
     ]
    }
   ],
   "source": [
    "lis"
   ]
  },
  {
   "cell_type": "code",
   "execution_count": null,
   "id": "968a2599-77b3-4caa-a944-07c0217a670d",
   "metadata": {},
   "outputs": [],
   "source": []
  },
  {
   "cell_type": "code",
   "execution_count": null,
   "id": "96653e16-cbca-4865-92b6-6848cf527225",
   "metadata": {},
   "outputs": [],
   "source": []
  }
 ],
 "metadata": {
  "kernelspec": {
   "display_name": "Python 3 (ipykernel)",
   "language": "python",
   "name": "python3"
  },
  "language_info": {
   "codemirror_mode": {
    "name": "ipython",
    "version": 3
   },
   "file_extension": ".py",
   "mimetype": "text/x-python",
   "name": "python",
   "nbconvert_exporter": "python",
   "pygments_lexer": "ipython3",
   "version": "3.11.7"
  }
 },
 "nbformat": 4,
 "nbformat_minor": 5
}
