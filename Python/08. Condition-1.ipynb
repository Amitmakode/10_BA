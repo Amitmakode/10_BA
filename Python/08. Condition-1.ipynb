{
 "cells": [
  {
   "cell_type": "code",
   "execution_count": null,
   "id": "cf394c5b-2040-404e-9ef8-619a3748b968",
   "metadata": {},
   "outputs": [],
   "source": [
    "if \n",
    "elif\n",
    "else\n",
    "finally"
   ]
  },
  {
   "cell_type": "code",
   "execution_count": 1,
   "id": "e0e0e8f5-ea96-43a1-924d-a9da8fd4347a",
   "metadata": {},
   "outputs": [],
   "source": [
    "a = 20\n",
    "b = 10"
   ]
  },
  {
   "cell_type": "code",
   "execution_count": 4,
   "id": "40fae431-0ecd-44b7-b4af-053b86df7d2f",
   "metadata": {},
   "outputs": [],
   "source": [
    "if a == b :\n",
    "    print(\"a is > b\")"
   ]
  },
  {
   "cell_type": "code",
   "execution_count": 5,
   "id": "74c7ab09-88d1-4c29-b080-c0891bd4c654",
   "metadata": {},
   "outputs": [
    {
     "name": "stdout",
     "output_type": "stream",
     "text": [
      "a is > b\n"
     ]
    }
   ],
   "source": [
    "if a  > b :\n",
    "    print(\"a is > b\")"
   ]
  },
  {
   "cell_type": "code",
   "execution_count": 6,
   "id": "934a41ae-9d91-41b7-b713-5d6b5eea4776",
   "metadata": {},
   "outputs": [
    {
     "name": "stdout",
     "output_type": "stream",
     "text": [
      "a is > b\n",
      "30\n"
     ]
    }
   ],
   "source": [
    "if a  > b :\n",
    "    print(\"a is > b\")\n",
    "    a = a+b\n",
    "    print(a)"
   ]
  },
  {
   "cell_type": "code",
   "execution_count": 7,
   "id": "d51884b4-a84a-4c12-b1ea-9b51bd71f9e1",
   "metadata": {},
   "outputs": [
    {
     "ename": "TypeError",
     "evalue": "'>' not supported between instances of 'int' and 'str'",
     "output_type": "error",
     "traceback": [
      "\u001b[1;31m---------------------------------------------------------------------------\u001b[0m",
      "\u001b[1;31mTypeError\u001b[0m                                 Traceback (most recent call last)",
      "Cell \u001b[1;32mIn[7], line 1\u001b[0m\n\u001b[1;32m----> 1\u001b[0m \u001b[38;5;28;01mif\u001b[39;00m a  \u001b[38;5;241m>\u001b[39m  \u001b[38;5;124m\"\u001b[39m\u001b[38;5;124mb\u001b[39m\u001b[38;5;124m\"\u001b[39m :\n\u001b[0;32m      2\u001b[0m     \u001b[38;5;28mprint\u001b[39m(\u001b[38;5;124m\"\u001b[39m\u001b[38;5;124ma is > b\u001b[39m\u001b[38;5;124m\"\u001b[39m)\n",
      "\u001b[1;31mTypeError\u001b[0m: '>' not supported between instances of 'int' and 'str'"
     ]
    }
   ],
   "source": [
    "if a  >  \"b\" :\n",
    "    print(\"a is > b\")"
   ]
  },
  {
   "cell_type": "code",
   "execution_count": 9,
   "id": "6651b862-fbc4-4a19-b8e6-98d7a726a76b",
   "metadata": {},
   "outputs": [
    {
     "name": "stdout",
     "output_type": "stream",
     "text": [
      "a > b\n"
     ]
    }
   ],
   "source": [
    "if a  ==  b :\n",
    "    print(\"a is > b\")\n",
    "elif a > b :\n",
    "    print(\"a > b\")\n"
   ]
  },
  {
   "cell_type": "code",
   "execution_count": 10,
   "id": "59704f1f-8e9d-4c5a-b11a-f31ebb281d95",
   "metadata": {},
   "outputs": [
    {
     "name": "stdout",
     "output_type": "stream",
     "text": [
      "a is > b\n"
     ]
    }
   ],
   "source": [
    "if a  >=  b :\n",
    "    print(\"a is > b\")\n",
    "elif a > b :\n",
    "    print(\"a > b\")"
   ]
  },
  {
   "cell_type": "code",
   "execution_count": 11,
   "id": "5573aecc-6014-4c0b-8f4b-1563e05e97db",
   "metadata": {},
   "outputs": [
    {
     "name": "stdout",
     "output_type": "stream",
     "text": [
      "a > b\n"
     ]
    }
   ],
   "source": [
    "if a  ==  b :\n",
    "    print(\"a is > b\")\n",
    "elif a > b :\n",
    "    print(\"a > b\")\n",
    "else:\n",
    "    print(\"a < b\")"
   ]
  },
  {
   "cell_type": "code",
   "execution_count": 12,
   "id": "33686d2c-5ec0-4980-8b1f-2c2acaea46a1",
   "metadata": {},
   "outputs": [
    {
     "name": "stdout",
     "output_type": "stream",
     "text": [
      "a < b\n"
     ]
    }
   ],
   "source": [
    "if a  ==  b :\n",
    "    print(\"a is > b\")\n",
    "elif a < b :\n",
    "    print(\"a > b\")\n",
    "else:\n",
    "    print(\"a < b\")"
   ]
  },
  {
   "cell_type": "code",
   "execution_count": 14,
   "id": "2bd2bc4b-d69a-4d2a-beb8-099f6d2bb9fe",
   "metadata": {},
   "outputs": [
    {
     "name": "stdin",
     "output_type": "stream",
     "text": [
      " 10\n"
     ]
    },
    {
     "name": "stdout",
     "output_type": "stream",
     "text": [
      "the number is even\n"
     ]
    }
   ],
   "source": [
    "num = int(input())\n",
    "\n",
    "if num == 10:\n",
    "    print(\"the number is even\")"
   ]
  },
  {
   "cell_type": "code",
   "execution_count": 15,
   "id": "d00dd7dc-15b6-4935-bbf6-9c899e8d6fc8",
   "metadata": {},
   "outputs": [
    {
     "name": "stdin",
     "output_type": "stream",
     "text": [
      " 22\n"
     ]
    },
    {
     "name": "stdout",
     "output_type": "stream",
     "text": [
      "greater than 10\n"
     ]
    }
   ],
   "source": [
    "num = int(input())\n",
    "\n",
    "if num > 10:\n",
    "    print(\"greater than 10\")\n",
    "else: \n",
    "    print(\"i don't know\")"
   ]
  },
  {
   "cell_type": "code",
   "execution_count": 17,
   "id": "336c5c04-5f44-4ae4-9f52-1b0ae419fc1f",
   "metadata": {},
   "outputs": [
    {
     "name": "stdin",
     "output_type": "stream",
     "text": [
      " 10\n"
     ]
    },
    {
     "name": "stdout",
     "output_type": "stream",
     "text": [
      "i don't know\n"
     ]
    }
   ],
   "source": [
    "num = int(input())\n",
    "\n",
    "if num > 10:\n",
    "    print(\"greater than 10\")\n",
    "elif num < 10:\n",
    "    print(\"is less than 10\")\n",
    "else: \n",
    "    print(\"i don't know\")"
   ]
  },
  {
   "cell_type": "code",
   "execution_count": 20,
   "id": "8bd65f6c-5b83-4b4b-be97-29d7e9163c8c",
   "metadata": {},
   "outputs": [
    {
     "name": "stdout",
     "output_type": "stream",
     "text": [
      "number is equal\n",
      "number is less than 11\n"
     ]
    }
   ],
   "source": [
    "number  = 11\n",
    "if number == 11:\n",
    "    print(\"number is equal\")\n",
    "elif number > 11:\n",
    "    print(\"number is greater than 11\")\n",
    "    \n",
    "if number == 11:\n",
    "    print(\"number is less than 11\")\n",
    "\n",
    "if number > 11:\n",
    "    print(\"   ---\")"
   ]
  },
  {
   "cell_type": "code",
   "execution_count": 23,
   "id": "ca8bcc37-fd50-4604-b2f4-3194609bc1a2",
   "metadata": {},
   "outputs": [],
   "source": [
    "A = -5"
   ]
  },
  {
   "cell_type": "code",
   "execution_count": 24,
   "id": "5b3665cf-193d-4928-b803-1b13602a084a",
   "metadata": {},
   "outputs": [
    {
     "name": "stdout",
     "output_type": "stream",
     "text": [
      "A is negative\n"
     ]
    }
   ],
   "source": [
    "print('A is positive') if A > 0 else print('A is negative')     # first condition met, 'A is positive' will be printed"
   ]
  },
  {
   "cell_type": "code",
   "execution_count": 26,
   "id": "270f2048-811e-404c-ad8a-063e54d9abf6",
   "metadata": {},
   "outputs": [
    {
     "ename": "SyntaxError",
     "evalue": "expected 'else' after 'if' expression (1727213985.py, line 1)",
     "output_type": "error",
     "traceback": [
      "\u001b[1;36m  Cell \u001b[1;32mIn[26], line 1\u001b[1;36m\u001b[0m\n\u001b[1;33m    print('A is positive') if A == 0 elif A < 3 Print(\"elif statement\")  else print('A is negative') elif A < 3 Print(\"elif statement\")\u001b[0m\n\u001b[1;37m    ^\u001b[0m\n\u001b[1;31mSyntaxError\u001b[0m\u001b[1;31m:\u001b[0m expected 'else' after 'if' expression\n"
     ]
    }
   ],
   "source": [
    "print('A is positive') if A == 0 elif A < 3 Print(\"elif statement\")  else print('A is negative')  "
   ]
  },
  {
   "cell_type": "code",
   "execution_count": 32,
   "id": "5f9a8d46-b5f5-40e6-88c9-a4792d1b2e5a",
   "metadata": {},
   "outputs": [
    {
     "name": "stdin",
     "output_type": "stream",
     "text": [
      " 17\n"
     ]
    },
    {
     "name": "stdout",
     "output_type": "stream",
     "text": [
      "odd\n"
     ]
    }
   ],
   "source": [
    "var = int(input())\n",
    "\n",
    "if var%2 == 0:\n",
    "    print(\"even\")\n",
    "else:\n",
    "    print(\"odd\")"
   ]
  },
  {
   "cell_type": "code",
   "execution_count": 28,
   "id": "118fd9bd-b625-4695-9310-373bcdca959a",
   "metadata": {},
   "outputs": [
    {
     "data": {
      "text/plain": [
       "10.5"
      ]
     },
     "execution_count": 28,
     "metadata": {},
     "output_type": "execute_result"
    }
   ],
   "source": [
    "21/2"
   ]
  },
  {
   "cell_type": "code",
   "execution_count": 29,
   "id": "27b47ce6-c701-4e2c-ba41-c44ef681a8ba",
   "metadata": {},
   "outputs": [
    {
     "data": {
      "text/plain": [
       "1"
      ]
     },
     "execution_count": 29,
     "metadata": {},
     "output_type": "execute_result"
    }
   ],
   "source": [
    "21%2"
   ]
  },
  {
   "cell_type": "code",
   "execution_count": 30,
   "id": "44db0efe-3cf1-4750-9ce6-d5de500f6fc8",
   "metadata": {},
   "outputs": [
    {
     "data": {
      "text/plain": [
       "10"
      ]
     },
     "execution_count": 30,
     "metadata": {},
     "output_type": "execute_result"
    }
   ],
   "source": [
    "21//2"
   ]
  },
  {
   "cell_type": "code",
   "execution_count": 35,
   "id": "ee0edfe9-f304-4a3d-b3a9-de39b012c0e3",
   "metadata": {},
   "outputs": [
    {
     "name": "stdout",
     "output_type": "stream",
     "text": [
      "A is negative\n"
     ]
    }
   ],
   "source": [
    "a = -0.55\n",
    "if a > 0 and a % 2 == 0:\n",
    "        print('A is an even and positive integer')\n",
    "elif a > 0 and a % 2 !=  0:\n",
    "     print('A is a positive integer')\n",
    "elif a == 0:\n",
    "    print('A is zero')\n",
    "else:\n",
    "    print('A is negative')"
   ]
  },
  {
   "cell_type": "code",
   "execution_count": 36,
   "id": "d7678b9a-0050-489e-afcd-71041feb822b",
   "metadata": {},
   "outputs": [],
   "source": [
    "import numpy as np\n",
    "import random "
   ]
  },
  {
   "cell_type": "code",
   "execution_count": 47,
   "id": "3703f10f-e077-46bb-9d3f-98d556a323d5",
   "metadata": {},
   "outputs": [
    {
     "data": {
      "text/plain": [
       "1"
      ]
     },
     "execution_count": 47,
     "metadata": {},
     "output_type": "execute_result"
    }
   ],
   "source": [
    "np.random.randint(1,10)"
   ]
  },
  {
   "cell_type": "code",
   "execution_count": 52,
   "id": "b95163ea-e005-4216-8c85-e6fdee8df673",
   "metadata": {},
   "outputs": [
    {
     "name": "stdin",
     "output_type": "stream",
     "text": [
      "Enter an integer\n",
      " 6\n"
     ]
    },
    {
     "name": "stdout",
     "output_type": "stream",
     "text": [
      "2\n"
     ]
    }
   ],
   "source": [
    "rand_var = random.randint(1,10)\n",
    "\n",
    "guess = int(input(\"Enter an integer\\n\"))\n",
    "\n",
    "if guess == rand_var:\n",
    "    print(\"we guess correct value\")\n",
    "    \n",
    "print(rand_var)  "
   ]
  },
  {
   "cell_type": "code",
   "execution_count": 53,
   "id": "066d06d5-4a9e-4742-94cd-12e503c432c1",
   "metadata": {},
   "outputs": [
    {
     "name": "stdin",
     "output_type": "stream",
     "text": [
      "Enter an integer\n",
      " 21\n"
     ]
    },
    {
     "name": "stdout",
     "output_type": "stream",
     "text": [
      "Keep trying\n",
      "23\n"
     ]
    }
   ],
   "source": [
    "rand_var = 23\n",
    "guess = int(input(\"Enter an integer\\n\"))\n",
    "\n",
    "if guess == rand_var:\n",
    "    print(\"we guess correct value\")\n",
    "elif guess > rand_var:\n",
    "    print(\"guess number is greter than random variable\")\n",
    "else:\n",
    "    print(\"Keep trying\")\n",
    "    \n",
    "print(rand_var)"
   ]
  },
  {
   "cell_type": "code",
   "execution_count": 55,
   "id": "9873b8e8-770d-4115-895a-ffac12ef13fe",
   "metadata": {},
   "outputs": [
    {
     "name": "stdin",
     "output_type": "stream",
     "text": [
      "Enter an integer\n",
      " 11\n"
     ]
    },
    {
     "name": "stdout",
     "output_type": "stream",
     "text": [
      "we guess correct value\n",
      "guess number is smaller than random variable\n"
     ]
    }
   ],
   "source": [
    "rand_var = 11\n",
    "\n",
    "guess = int(input(\"Enter an integer\\n\"))\n",
    "\n",
    "if guess == rand_var:\n",
    "    print(\"we guess correct value\")\n",
    "    if guess <= rand_var:\n",
    "        print(\"guess number is smaller than random variable\")\n",
    "elif guess > rand_var:\n",
    "    print(\"guess number is greter than random variable\")\n",
    "else:\n",
    "    print(\"Keep trying\")"
   ]
  },
  {
   "cell_type": "code",
   "execution_count": 56,
   "id": "9d9e0cb4-0bb3-4cec-a224-91c1651e5c0f",
   "metadata": {},
   "outputs": [
    {
     "name": "stdin",
     "output_type": "stream",
     "text": [
      "Enter an integer\n",
      " 11\n"
     ]
    },
    {
     "name": "stdout",
     "output_type": "stream",
     "text": [
      "guess number is smaller than random variable\n"
     ]
    }
   ],
   "source": [
    "rand_var = 11\n",
    "\n",
    "guess = int(input(\"Enter an integer\\n\"))\n",
    "\n",
    "if guess == rand_var:\n",
    "    if guess <= rand_var:\n",
    "        print(\"guess number is smaller than random variable\")\n",
    "elif guess > rand_var:\n",
    "    print(\"guess number is greter than random variable\")\n",
    "else:\n",
    "    print(\"Keep trying\")"
   ]
  },
  {
   "cell_type": "code",
   "execution_count": null,
   "id": "044ab484-ba67-422d-b615-f8b5e22573a4",
   "metadata": {},
   "outputs": [],
   "source": [
    "print(\"a\") if a == 0 "
   ]
  }
 ],
 "metadata": {
  "kernelspec": {
   "display_name": "Python 3 (ipykernel)",
   "language": "python",
   "name": "python3"
  },
  "language_info": {
   "codemirror_mode": {
    "name": "ipython",
    "version": 3
   },
   "file_extension": ".py",
   "mimetype": "text/x-python",
   "name": "python",
   "nbconvert_exporter": "python",
   "pygments_lexer": "ipython3",
   "version": "3.11.7"
  }
 },
 "nbformat": 4,
 "nbformat_minor": 5
}
