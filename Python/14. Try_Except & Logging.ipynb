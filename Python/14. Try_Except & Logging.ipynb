{
 "cells": [
  {
   "cell_type": "markdown",
   "id": "81640eb6-7e10-48c5-8bde-0f306e9256bf",
   "metadata": {},
   "source": [
    "### Try & Except"
   ]
  },
  {
   "cell_type": "code",
   "execution_count": 1,
   "id": "50e6e3e2-5310-4da8-b039-a238bd44c051",
   "metadata": {},
   "outputs": [
    {
     "ename": "NameError",
     "evalue": "name 'jsh' is not defined",
     "output_type": "error",
     "traceback": [
      "\u001b[1;31m---------------------------------------------------------------------------\u001b[0m",
      "\u001b[1;31mNameError\u001b[0m                                 Traceback (most recent call last)",
      "Cell \u001b[1;32mIn[1], line 1\u001b[0m\n\u001b[1;32m----> 1\u001b[0m a \u001b[38;5;241m=\u001b[39m jsh\n",
      "\u001b[1;31mNameError\u001b[0m: name 'jsh' is not defined"
     ]
    }
   ],
   "source": [
    "a = jsh"
   ]
  },
  {
   "cell_type": "code",
   "execution_count": 2,
   "id": "3219b149-327f-4655-830b-187ff442931d",
   "metadata": {},
   "outputs": [
    {
     "ename": "ZeroDivisionError",
     "evalue": "division by zero",
     "output_type": "error",
     "traceback": [
      "\u001b[1;31m---------------------------------------------------------------------------\u001b[0m",
      "\u001b[1;31mZeroDivisionError\u001b[0m                         Traceback (most recent call last)",
      "Cell \u001b[1;32mIn[2], line 1\u001b[0m\n\u001b[1;32m----> 1\u001b[0m \u001b[38;5;241m3\u001b[39m\u001b[38;5;241m/\u001b[39m\u001b[38;5;241m0\u001b[39m\n",
      "\u001b[1;31mZeroDivisionError\u001b[0m: division by zero"
     ]
    }
   ],
   "source": [
    "3/0"
   ]
  },
  {
   "cell_type": "code",
   "execution_count": 3,
   "id": "bbb72540-610b-4ea5-ad51-87b9535238dd",
   "metadata": {},
   "outputs": [
    {
     "ename": "NameError",
     "evalue": "name 'b' is not defined",
     "output_type": "error",
     "traceback": [
      "\u001b[1;31m---------------------------------------------------------------------------\u001b[0m",
      "\u001b[1;31mNameError\u001b[0m                                 Traceback (most recent call last)",
      "Cell \u001b[1;32mIn[3], line 1\u001b[0m\n\u001b[1;32m----> 1\u001b[0m b\n",
      "\u001b[1;31mNameError\u001b[0m: name 'b' is not defined"
     ]
    }
   ],
   "source": [
    "b"
   ]
  },
  {
   "cell_type": "code",
   "execution_count": 4,
   "id": "10954c0e-a712-49c9-9ae3-81cf827a0e2a",
   "metadata": {},
   "outputs": [
    {
     "ename": "TypeError",
     "evalue": "type() takes 1 or 3 arguments",
     "output_type": "error",
     "traceback": [
      "\u001b[1;31m---------------------------------------------------------------------------\u001b[0m",
      "\u001b[1;31mTypeError\u001b[0m                                 Traceback (most recent call last)",
      "Cell \u001b[1;32mIn[4], line 1\u001b[0m\n\u001b[1;32m----> 1\u001b[0m \u001b[38;5;28mtype\u001b[39m()\n",
      "\u001b[1;31mTypeError\u001b[0m: type() takes 1 or 3 arguments"
     ]
    }
   ],
   "source": [
    "type()"
   ]
  },
  {
   "cell_type": "code",
   "execution_count": 5,
   "id": "d2073b59-5de8-438a-ad5f-76ffe54b9a2c",
   "metadata": {},
   "outputs": [
    {
     "name": "stdout",
     "output_type": "stream",
     "text": [
      "py\n"
     ]
    },
    {
     "ename": "TypeError",
     "evalue": "len() takes exactly one argument (0 given)",
     "output_type": "error",
     "traceback": [
      "\u001b[1;31m---------------------------------------------------------------------------\u001b[0m",
      "\u001b[1;31mTypeError\u001b[0m                                 Traceback (most recent call last)",
      "Cell \u001b[1;32mIn[5], line 2\u001b[0m\n\u001b[0;32m      1\u001b[0m \u001b[38;5;28mprint\u001b[39m(\u001b[38;5;124m\"\u001b[39m\u001b[38;5;124mpy\u001b[39m\u001b[38;5;124m\"\u001b[39m)\n\u001b[1;32m----> 2\u001b[0m \u001b[38;5;28mlen\u001b[39m()\n\u001b[0;32m      3\u001b[0m \u001b[38;5;28mprint\u001b[39m(\u001b[38;5;124m\"\u001b[39m\u001b[38;5;124mhello\u001b[39m\u001b[38;5;124m\"\u001b[39m)\n",
      "\u001b[1;31mTypeError\u001b[0m: len() takes exactly one argument (0 given)"
     ]
    }
   ],
   "source": [
    "print(\"py\")\n",
    "len()\n",
    "print(\"hello\")"
   ]
  },
  {
   "cell_type": "code",
   "execution_count": 6,
   "id": "2fed2927-bee0-42f7-8b97-bb6c4bfb82c3",
   "metadata": {},
   "outputs": [
    {
     "ename": "FileNotFoundError",
     "evalue": "[Errno 2] No such file or directory: 'new.txt'",
     "output_type": "error",
     "traceback": [
      "\u001b[1;31m---------------------------------------------------------------------------\u001b[0m",
      "\u001b[1;31mFileNotFoundError\u001b[0m                         Traceback (most recent call last)",
      "Cell \u001b[1;32mIn[6], line 1\u001b[0m\n\u001b[1;32m----> 1\u001b[0m \u001b[38;5;28mopen\u001b[39m(\u001b[38;5;124m\"\u001b[39m\u001b[38;5;124mnew.txt\u001b[39m\u001b[38;5;124m\"\u001b[39m)\n",
      "File \u001b[1;32m~\\anaconda3\\Lib\\site-packages\\IPython\\core\\interactiveshell.py:310\u001b[0m, in \u001b[0;36m_modified_open\u001b[1;34m(file, *args, **kwargs)\u001b[0m\n\u001b[0;32m    303\u001b[0m \u001b[38;5;28;01mif\u001b[39;00m file \u001b[38;5;129;01min\u001b[39;00m {\u001b[38;5;241m0\u001b[39m, \u001b[38;5;241m1\u001b[39m, \u001b[38;5;241m2\u001b[39m}:\n\u001b[0;32m    304\u001b[0m     \u001b[38;5;28;01mraise\u001b[39;00m \u001b[38;5;167;01mValueError\u001b[39;00m(\n\u001b[0;32m    305\u001b[0m         \u001b[38;5;124mf\u001b[39m\u001b[38;5;124m\"\u001b[39m\u001b[38;5;124mIPython won\u001b[39m\u001b[38;5;124m'\u001b[39m\u001b[38;5;124mt let you open fd=\u001b[39m\u001b[38;5;132;01m{\u001b[39;00mfile\u001b[38;5;132;01m}\u001b[39;00m\u001b[38;5;124m by default \u001b[39m\u001b[38;5;124m\"\u001b[39m\n\u001b[0;32m    306\u001b[0m         \u001b[38;5;124m\"\u001b[39m\u001b[38;5;124mas it is likely to crash IPython. If you know what you are doing, \u001b[39m\u001b[38;5;124m\"\u001b[39m\n\u001b[0;32m    307\u001b[0m         \u001b[38;5;124m\"\u001b[39m\u001b[38;5;124myou can use builtins\u001b[39m\u001b[38;5;124m'\u001b[39m\u001b[38;5;124m open.\u001b[39m\u001b[38;5;124m\"\u001b[39m\n\u001b[0;32m    308\u001b[0m     )\n\u001b[1;32m--> 310\u001b[0m \u001b[38;5;28;01mreturn\u001b[39;00m io_open(file, \u001b[38;5;241m*\u001b[39margs, \u001b[38;5;241m*\u001b[39m\u001b[38;5;241m*\u001b[39mkwargs)\n",
      "\u001b[1;31mFileNotFoundError\u001b[0m: [Errno 2] No such file or directory: 'new.txt'"
     ]
    }
   ],
   "source": [
    "open(\"new.txt\")"
   ]
  },
  {
   "cell_type": "code",
   "execution_count": 8,
   "id": "ae28517c-f407-4a2c-b0cc-31cc2ef0aff3",
   "metadata": {},
   "outputs": [
    {
     "name": "stdout",
     "output_type": "stream",
     "text": [
      "division by zero\n"
     ]
    }
   ],
   "source": [
    "try:\n",
    "    3/0\n",
    "except Exception as e:\n",
    "    print(e)"
   ]
  },
  {
   "cell_type": "code",
   "execution_count": 9,
   "id": "37620335-4898-4cc0-becf-ba75d66412fa",
   "metadata": {},
   "outputs": [
    {
     "name": "stdout",
     "output_type": "stream",
     "text": [
      "py\n"
     ]
    },
    {
     "ename": "ZeroDivisionError",
     "evalue": "division by zero",
     "output_type": "error",
     "traceback": [
      "\u001b[1;31m---------------------------------------------------------------------------\u001b[0m",
      "\u001b[1;31mZeroDivisionError\u001b[0m                         Traceback (most recent call last)",
      "Cell \u001b[1;32mIn[9], line 2\u001b[0m\n\u001b[0;32m      1\u001b[0m \u001b[38;5;28mprint\u001b[39m(\u001b[38;5;124m\"\u001b[39m\u001b[38;5;124mpy\u001b[39m\u001b[38;5;124m\"\u001b[39m)\n\u001b[1;32m----> 2\u001b[0m \u001b[38;5;241m4\u001b[39m\u001b[38;5;241m/\u001b[39m\u001b[38;5;241m0\u001b[39m\n\u001b[0;32m      3\u001b[0m \u001b[38;5;28mprint\u001b[39m(\u001b[38;5;124m\"\u001b[39m\u001b[38;5;124mBI\u001b[39m\u001b[38;5;124m\"\u001b[39m)\n",
      "\u001b[1;31mZeroDivisionError\u001b[0m: division by zero"
     ]
    }
   ],
   "source": [
    "print(\"py\")\n",
    "4/0\n",
    "print(\"BI\")"
   ]
  },
  {
   "cell_type": "code",
   "execution_count": 12,
   "id": "987dd92c-eac9-4f6a-8237-cd5f8860925b",
   "metadata": {},
   "outputs": [
    {
     "name": "stdout",
     "output_type": "stream",
     "text": [
      "py\n",
      "division by zero\n"
     ]
    }
   ],
   "source": [
    "try:\n",
    "    print(\"py\")\n",
    "    4/0\n",
    "    print(\"BI\")\n",
    "except Exception as e:\n",
    "    print(e)"
   ]
  },
  {
   "cell_type": "code",
   "execution_count": 13,
   "id": "72fcd418-dfb4-47af-9bb2-c20592bbf96a",
   "metadata": {},
   "outputs": [
    {
     "name": "stdout",
     "output_type": "stream",
     "text": [
      "py\n",
      "division by zero\n",
      "hello\n"
     ]
    }
   ],
   "source": [
    "print(\"py\")\n",
    "try:\n",
    "    a = 1/0\n",
    "except Exception as e:   \n",
    "    print(e)\n",
    "print(\"hello\") "
   ]
  },
  {
   "cell_type": "code",
   "execution_count": 15,
   "id": "a321a941-1087-4091-9773-39d42e8d4f8d",
   "metadata": {},
   "outputs": [
    {
     "name": "stdin",
     "output_type": "stream",
     "text": [
      "Enter a number:  0\n"
     ]
    },
    {
     "name": "stdout",
     "output_type": "stream",
     "text": [
      "Error occurred: division by zero\n",
      "Execution completed.\n"
     ]
    }
   ],
   "source": [
    "try:\n",
    "    x = int(input(\"Enter a number: \"))\n",
    "    y = 10 / x\n",
    "    print(f\"Result: {y}\")\n",
    "except Exception as e:\n",
    "    print(f\"Error occurred: {e}\")\n",
    "else:\n",
    "    print(\"No exceptions occurred.\")\n",
    "finally:\n",
    "    print(\"Execution completed.\")"
   ]
  },
  {
   "cell_type": "code",
   "execution_count": 17,
   "id": "e435e548-041f-4ba5-947a-26efd9aaf4b2",
   "metadata": {},
   "outputs": [
    {
     "name": "stdin",
     "output_type": "stream",
     "text": [
      "Enter a number:  h\n"
     ]
    },
    {
     "name": "stdout",
     "output_type": "stream",
     "text": [
      "Invalid input. Please enter a valid integer.\n",
      "Execution completed.\n"
     ]
    }
   ],
   "source": [
    "try:\n",
    "    x = int(input(\"Enter a number: \"))\n",
    "    y = 10 / x\n",
    "    print(f\"Result: {y}\")\n",
    "except ValueError:\n",
    "    print(\"Invalid input. Please enter a valid integer.\")\n",
    "except ZeroDivisionError:\n",
    "    print(\"Cannot divide by zero. Please enter a non-zero number.\")\n",
    "except Exception as e:\n",
    "    print(f\"Error occurred: {e}\")\n",
    "else:\n",
    "    print(\"No exceptions occurred.\")\n",
    "finally:\n",
    "    print(\"Execution completed.\")"
   ]
  },
  {
   "cell_type": "code",
   "execution_count": 18,
   "id": "769e194a-d0c3-49c7-a6b5-8a2cc052dd33",
   "metadata": {},
   "outputs": [
    {
     "name": "stdout",
     "output_type": "stream",
     "text": [
      "An unexpected error occurred: [Errno 2] No such file or directory: 'myfile.txt'\n"
     ]
    }
   ],
   "source": [
    "try:\n",
    "    file = open(\"myfile.txt\", \"r\")\n",
    "    content = file.read()\n",
    "    file.close()\n",
    "    print(content)\n",
    "except Exception as e:\n",
    "    print(f\"An unexpected error occurred: {e}\")"
   ]
  },
  {
   "cell_type": "code",
   "execution_count": 21,
   "id": "51332d69-1af5-45ab-89a3-14c7b3fd8683",
   "metadata": {},
   "outputs": [
    {
     "name": "stdin",
     "output_type": "stream",
     "text": [
      "Enter the first number:  4\n",
      "Enter the second number:  s\n"
     ]
    },
    {
     "name": "stdout",
     "output_type": "stream",
     "text": [
      "Error occurred: invalid literal for int() with base 10: 's'\n"
     ]
    }
   ],
   "source": [
    "try:\n",
    "    num1 = int(input(\"Enter the first number: \"))\n",
    "    num2 = int(input(\"Enter the second number: \"))\n",
    "    result = num1 / num2\n",
    "    print(f\"Result of division: {result}\")\n",
    "except (ValueError, ZeroDivisionError) as e:\n",
    "    print(f\"Error occurred: {e}\")"
   ]
  },
  {
   "cell_type": "code",
   "execution_count": 22,
   "id": "db40de2f-f08b-4ed4-9e10-298f0af3ef28",
   "metadata": {},
   "outputs": [
    {
     "name": "stdout",
     "output_type": "stream",
     "text": [
      "File 'file1.txt' not found.\n",
      "File 'file2.txt' not found.\n",
      "File 'file3.txt' not found.\n"
     ]
    }
   ],
   "source": [
    "file_names = [\"file1.txt\", \"file2.txt\", \"file3.txt\"]\n",
    "\n",
    "for file_name in file_names:\n",
    "    try:\n",
    "        file = open(file_name, \"r\")\n",
    "        content = file.read()\n",
    "        print(f\"Content of {file_name}: {content}\")\n",
    "    except FileNotFoundError:\n",
    "        print(f\"File '{file_name}' not found.\")\n",
    "    except IOError as e:\n",
    "        print(f\"Error reading file '{file_name}': {e}\")\n",
    "    finally:\n",
    "        if 'file' in locals():\n",
    "            file.close()"
   ]
  },
  {
   "cell_type": "code",
   "execution_count": null,
   "id": "2fe66866-d14b-4a36-80a9-f7ec2958ac5c",
   "metadata": {},
   "outputs": [],
   "source": []
  },
  {
   "cell_type": "markdown",
   "id": "74dc8a2c-f78b-4298-ba6d-efc7d573ffaa",
   "metadata": {},
   "source": [
    "### Logging"
   ]
  },
  {
   "cell_type": "code",
   "execution_count": 23,
   "id": "094ad6a4-2ef0-46a9-ab82-be3e30a9c30c",
   "metadata": {},
   "outputs": [],
   "source": [
    "import logging"
   ]
  },
  {
   "cell_type": "code",
   "execution_count": null,
   "id": "95c7cf10-1283-47a8-ba5f-43d283c689c9",
   "metadata": {},
   "outputs": [],
   "source": [
    "logging.DEBUG\n",
    "logging.info\n",
    "logging.warning\n",
    "logging.error\n",
    "logging.critical"
   ]
  },
  {
   "cell_type": "code",
   "execution_count": null,
   "id": "a3d98e6e-7bb1-4ac7-ae1f-dd5b4784450b",
   "metadata": {},
   "outputs": [],
   "source": [
    "DEBUG = 10\n",
    "Info = 20\n",
    "Warning = 30\n",
    "Error = 40\n",
    "Critical = 50"
   ]
  },
  {
   "cell_type": "code",
   "execution_count": 24,
   "id": "96c93016-d2a8-467d-af14-c1b563c00dee",
   "metadata": {},
   "outputs": [],
   "source": [
    "logging.basicConfig(filename= \"logfile.log\", level= logging.DEBUG, format= \"%(asctime)s %(levelname)s %(message)s\")"
   ]
  },
  {
   "cell_type": "code",
   "execution_count": 25,
   "id": "a624db1e-966b-405e-b3db-e3afb0e582dd",
   "metadata": {},
   "outputs": [
    {
     "name": "stdout",
     "output_type": "stream",
     "text": [
      "basic file configration\n"
     ]
    }
   ],
   "source": [
    "var = \"basic file configration\"\n",
    "logging.info(\"my first log\")\n",
    "print(var)"
   ]
  },
  {
   "cell_type": "code",
   "execution_count": 26,
   "id": "1499013b-de38-4234-93d5-03faa23100ec",
   "metadata": {},
   "outputs": [],
   "source": [
    "l = [[1, 2, 3, 4], (2, 3, 4, 5, 6), (3, 4, 5, 6, 7), [23, 4, 5, 45, 4, 3, 5, 45, 45, 4, 5]]"
   ]
  },
  {
   "cell_type": "code",
   "execution_count": 27,
   "id": "82620900-2edb-4ba9-ba26-ba33c923701f",
   "metadata": {},
   "outputs": [
    {
     "name": "stdout",
     "output_type": "stream",
     "text": [
      "[1, 2, 3, 4]\n",
      "[23, 4, 5, 45, 4, 3, 5, 45, 45, 4, 5]\n"
     ]
    }
   ],
   "source": [
    "try:\n",
    "    for i in l:\n",
    "        logging.info(\"Loop begin\")\n",
    "        if type(i) == list:\n",
    "            print(i)\n",
    "            logging.info(\"Output is there\")\n",
    "except Exception as e:\n",
    "    print(e)\n",
    "    logging.exception(e, \" Please enter iterable collections like :- lists, tuples, set, dictionary\")"
   ]
  },
  {
   "cell_type": "code",
   "execution_count": 28,
   "id": "3468fb11-6614-49f2-b880-1b95a448d9f7",
   "metadata": {},
   "outputs": [
    {
     "name": "stdout",
     "output_type": "stream",
     "text": [
      "'int' object is not iterable\n"
     ]
    }
   ],
   "source": [
    "try:\n",
    "    for i in 343:\n",
    "        logging.info(\"Loop begin\")\n",
    "        if type(i) == list:\n",
    "            print(i)\n",
    "            logging.info(\"Output is there\")\n",
    "except Exception as e:\n",
    "    print(e)\n",
    "    logging.exception(e)"
   ]
  },
  {
   "cell_type": "code",
   "execution_count": 29,
   "id": "e796bafc-627e-42b5-8249-62f222b9bd0e",
   "metadata": {},
   "outputs": [
    {
     "name": "stdout",
     "output_type": "stream",
     "text": [
      "a\n",
      "a\n"
     ]
    }
   ],
   "source": [
    "try:\n",
    "    for i in \"data\":\n",
    "        logging.debug(\"Loop begin\")\n",
    "        if i == \"a\":\n",
    "            print(i)\n",
    "            logging.info(\"Output is there\")\n",
    "except Exception as e:\n",
    "    print(e)\n",
    "    logging.exception(e)"
   ]
  },
  {
   "cell_type": "code",
   "execution_count": null,
   "id": "73a31751-4772-400d-b9bb-1cfff53acbe9",
   "metadata": {},
   "outputs": [],
   "source": []
  }
 ],
 "metadata": {
  "kernelspec": {
   "display_name": "Python 3 (ipykernel)",
   "language": "python",
   "name": "python3"
  },
  "language_info": {
   "codemirror_mode": {
    "name": "ipython",
    "version": 3
   },
   "file_extension": ".py",
   "mimetype": "text/x-python",
   "name": "python",
   "nbconvert_exporter": "python",
   "pygments_lexer": "ipython3",
   "version": "3.11.7"
  }
 },
 "nbformat": 4,
 "nbformat_minor": 5
}
