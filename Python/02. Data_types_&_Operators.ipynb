{
 "cells": [
  {
   "cell_type": "code",
   "execution_count": 1,
   "id": "716ca3c4-b991-482d-ada7-c751c8ffb566",
   "metadata": {},
   "outputs": [
    {
     "name": "stdout",
     "output_type": "stream",
     "text": [
      "hello python\n"
     ]
    }
   ],
   "source": [
    "print(\"hello python\")"
   ]
  },
  {
   "cell_type": "code",
   "execution_count": null,
   "id": "852d3438-fb82-4e30-8d58-65876c843dcd",
   "metadata": {},
   "outputs": [],
   "source": [
    "datatypes \n",
    "logical function\n",
    "user function\n",
    "oops\n",
    "library "
   ]
  },
  {
   "cell_type": "markdown",
   "id": "5f23c5ba-877e-4533-a66e-151f834796f9",
   "metadata": {},
   "source": [
    "### Data Types"
   ]
  },
  {
   "cell_type": "code",
   "execution_count": null,
   "id": "f1e32b77-e92e-407f-95e5-f9d99e54c452",
   "metadata": {},
   "outputs": [],
   "source": [
    "int           = any whole number (0-9)\n",
    "\n",
    "float         = any decimal number (0.5, 1.99. 3.25)\n",
    "\n",
    "str           = any printed values/ syntax \"hello\", '3423', \"7#py\", \"    \"\n",
    "\n",
    "complex       = any number with combination of real and imagine number (2x+4y = 30),  45 + 5j\n",
    "                                                                        \n",
    "Bool          = True / False\n",
    "    \n",
    "List    []    = [\"py\", 56, 55.77, 33+77j, True,{\"jan\" :31, \"feb\" :28, \"march\":31}]\n",
    "    \n",
    "tuple         = (\"py\", 56, 55.77, 33+77j, True)\n",
    "     \n",
    "set           = {\"py\", 56, 55.77, 33+77j, True}\n",
    "\n",
    "dict          = {\"jan\" :31, \"feb\" :28, \"march\":31}   # key value pair"
   ]
  },
  {
   "cell_type": "markdown",
   "id": "0913ee4d-4402-457c-9831-26f8cddb577f",
   "metadata": {},
   "source": [
    "### Arithmatic Operators "
   ]
  },
  {
   "cell_type": "code",
   "execution_count": null,
   "id": "09b42c60-cfd6-4b2e-8b65-aaf7b178d051",
   "metadata": {},
   "outputs": [],
   "source": [
    "+ = add\n",
    "- = sub\n",
    "* = multi\n",
    "/ = devision\n",
    "% = mode\n",
    "** = power\n",
    "// = floor division"
   ]
  },
  {
   "cell_type": "code",
   "execution_count": 2,
   "id": "2708c179-48c5-4bc5-b2b4-1895fbba3e11",
   "metadata": {},
   "outputs": [
    {
     "data": {
      "text/plain": [
       "8"
      ]
     },
     "execution_count": 2,
     "metadata": {},
     "output_type": "execute_result"
    }
   ],
   "source": [
    "4+4"
   ]
  },
  {
   "cell_type": "code",
   "execution_count": 3,
   "id": "e4b4ef6e-0e79-429b-9364-3959751ee5d4",
   "metadata": {},
   "outputs": [
    {
     "data": {
      "text/plain": [
       "2.0"
      ]
     },
     "execution_count": 3,
     "metadata": {},
     "output_type": "execute_result"
    }
   ],
   "source": [
    "4/2"
   ]
  },
  {
   "cell_type": "code",
   "execution_count": 4,
   "id": "09064486-53f2-414e-979f-4bbcaf6dcad4",
   "metadata": {},
   "outputs": [
    {
     "data": {
      "text/plain": [
       "1"
      ]
     },
     "execution_count": 4,
     "metadata": {},
     "output_type": "execute_result"
    }
   ],
   "source": [
    "5%2"
   ]
  },
  {
   "cell_type": "code",
   "execution_count": 5,
   "id": "553d65d5-63a2-43ee-b7c3-ff7ba0d278eb",
   "metadata": {},
   "outputs": [
    {
     "data": {
      "text/plain": [
       "2"
      ]
     },
     "execution_count": 5,
     "metadata": {},
     "output_type": "execute_result"
    }
   ],
   "source": [
    "5//2"
   ]
  },
  {
   "cell_type": "code",
   "execution_count": 6,
   "id": "cb31f142-b079-4da9-ba42-166a9aa104fb",
   "metadata": {},
   "outputs": [
    {
     "data": {
      "text/plain": [
       "8"
      ]
     },
     "execution_count": 6,
     "metadata": {},
     "output_type": "execute_result"
    }
   ],
   "source": [
    "2**3"
   ]
  },
  {
   "cell_type": "code",
   "execution_count": 7,
   "id": "f194aa65-fec1-434f-a94f-0a1277698821",
   "metadata": {},
   "outputs": [
    {
     "data": {
      "text/plain": [
       "243"
      ]
     },
     "execution_count": 7,
     "metadata": {},
     "output_type": "execute_result"
    }
   ],
   "source": [
    "3**5"
   ]
  },
  {
   "cell_type": "markdown",
   "id": "28cfe740-7f06-409c-8a47-ec96a8229ed6",
   "metadata": {},
   "source": [
    "### Comparision Operators"
   ]
  },
  {
   "cell_type": "code",
   "execution_count": null,
   "id": "b0d2979e-8ec0-4df6-987c-123b66f8d7d7",
   "metadata": {},
   "outputs": [],
   "source": [
    "== : Equal\n",
    ">  : greter than\n",
    "<  : less than\n",
    ">= : greter than equal\n",
    "<= : less than equal\n",
    "!= : not equal"
   ]
  },
  {
   "cell_type": "code",
   "execution_count": 8,
   "id": "ed7ad42b-8b10-4067-a6c9-b0b7a66744cf",
   "metadata": {},
   "outputs": [
    {
     "data": {
      "text/plain": [
       "False"
      ]
     },
     "execution_count": 8,
     "metadata": {},
     "output_type": "execute_result"
    }
   ],
   "source": [
    "3 == 5"
   ]
  },
  {
   "cell_type": "code",
   "execution_count": 9,
   "id": "66fcd2b6-c3f1-443b-a2ec-b20c06d3bb2e",
   "metadata": {},
   "outputs": [
    {
     "data": {
      "text/plain": [
       "True"
      ]
     },
     "execution_count": 9,
     "metadata": {},
     "output_type": "execute_result"
    }
   ],
   "source": [
    "3 < 5"
   ]
  },
  {
   "cell_type": "code",
   "execution_count": 10,
   "id": "80e84086-2ff9-441e-a4c7-c6d3ac38d0f0",
   "metadata": {},
   "outputs": [
    {
     "data": {
      "text/plain": [
       "False"
      ]
     },
     "execution_count": 10,
     "metadata": {},
     "output_type": "execute_result"
    }
   ],
   "source": [
    "2!=2"
   ]
  },
  {
   "cell_type": "markdown",
   "id": "39d8e23d-ccca-48d8-833c-30a97da4e23a",
   "metadata": {},
   "source": [
    "### Logical Operators"
   ]
  },
  {
   "cell_type": "code",
   "execution_count": null,
   "id": "10595cf2-a618-4eeb-9408-84f55536a9f8",
   "metadata": {},
   "outputs": [],
   "source": [
    "and\n",
    "or\n",
    "in\n",
    "not in\n",
    "is \n",
    "is not\n",
    "not"
   ]
  },
  {
   "cell_type": "code",
   "execution_count": 11,
   "id": "ff260d8c-f91a-4fdf-892a-ea4d06ec0847",
   "metadata": {},
   "outputs": [],
   "source": [
    "a = 3\n",
    "b = 4"
   ]
  },
  {
   "cell_type": "code",
   "execution_count": 12,
   "id": "76362542-1bae-4613-85ef-268b51235bc3",
   "metadata": {},
   "outputs": [
    {
     "data": {
      "text/plain": [
       "False"
      ]
     },
     "execution_count": 12,
     "metadata": {},
     "output_type": "execute_result"
    }
   ],
   "source": [
    "a == 2 and b != 2"
   ]
  },
  {
   "cell_type": "code",
   "execution_count": null,
   "id": "57ba82cc-4c09-4016-a246-96430aa17e3f",
   "metadata": {},
   "outputs": [],
   "source": [
    "And \n",
    "T and F = F\n",
    "T and T = T\n",
    "F and T = F\n",
    "F and F = F"
   ]
  },
  {
   "cell_type": "code",
   "execution_count": null,
   "id": "042868d3-5b0d-41ef-b13a-5155fedb51c8",
   "metadata": {},
   "outputs": [],
   "source": [
    "Or\n",
    "T or T = T\n",
    "F or T = T\n",
    "T or F = T\n",
    "F or F = F"
   ]
  },
  {
   "cell_type": "code",
   "execution_count": 13,
   "id": "2e722bf4-606e-4a1c-8ee7-eb2673107343",
   "metadata": {},
   "outputs": [
    {
     "data": {
      "text/plain": [
       "True"
      ]
     },
     "execution_count": 13,
     "metadata": {},
     "output_type": "execute_result"
    }
   ],
   "source": [
    "not(a == 2)"
   ]
  },
  {
   "cell_type": "code",
   "execution_count": 14,
   "id": "36925266-53a8-45f6-8f77-66ee8a19f865",
   "metadata": {},
   "outputs": [],
   "source": [
    "lis = [1,2,3,4,5,6,]"
   ]
  },
  {
   "cell_type": "code",
   "execution_count": 15,
   "id": "5542c895-1c8b-4104-969a-c06cede6020b",
   "metadata": {},
   "outputs": [
    {
     "data": {
      "text/plain": [
       "True"
      ]
     },
     "execution_count": 15,
     "metadata": {},
     "output_type": "execute_result"
    }
   ],
   "source": [
    "3 in lis"
   ]
  },
  {
   "cell_type": "code",
   "execution_count": 16,
   "id": "c2bdb738-8cc3-4c01-9c6d-44cea9aa9b16",
   "metadata": {},
   "outputs": [
    {
     "data": {
      "text/plain": [
       "False"
      ]
     },
     "execution_count": 16,
     "metadata": {},
     "output_type": "execute_result"
    }
   ],
   "source": [
    "4 not in lis"
   ]
  },
  {
   "cell_type": "code",
   "execution_count": 17,
   "id": "c5b48338-bd9c-476b-b918-4c2361be19d5",
   "metadata": {},
   "outputs": [
    {
     "data": {
      "text/plain": [
       "False"
      ]
     },
     "execution_count": 17,
     "metadata": {},
     "output_type": "execute_result"
    }
   ],
   "source": [
    "[1,2,3] is lis"
   ]
  },
  {
   "cell_type": "code",
   "execution_count": 20,
   "id": "22c7adea-e84c-4a96-9f4e-f5568ca31e71",
   "metadata": {},
   "outputs": [
    {
     "data": {
      "text/plain": [
       "False"
      ]
     },
     "execution_count": 20,
     "metadata": {},
     "output_type": "execute_result"
    }
   ],
   "source": [
    "[1,2,3 ]in lis"
   ]
  },
  {
   "cell_type": "markdown",
   "id": "9f97e027-57cf-4138-8f93-7ac97a42c653",
   "metadata": {},
   "source": [
    "### Bitwise Operators"
   ]
  },
  {
   "cell_type": "code",
   "execution_count": 21,
   "id": "5acd6186-382d-4925-9414-77ac3a72016b",
   "metadata": {},
   "outputs": [
    {
     "data": {
      "text/plain": [
       "3"
      ]
     },
     "execution_count": 21,
     "metadata": {},
     "output_type": "execute_result"
    }
   ],
   "source": [
    "a"
   ]
  },
  {
   "cell_type": "code",
   "execution_count": 25,
   "id": "3c29eabc-2e76-422f-b1c6-468be9f6b00e",
   "metadata": {},
   "outputs": [
    {
     "data": {
      "text/plain": [
       "7"
      ]
     },
     "execution_count": 25,
     "metadata": {},
     "output_type": "execute_result"
    }
   ],
   "source": [
    "a = a + 1\n",
    "a"
   ]
  },
  {
   "cell_type": "code",
   "execution_count": 29,
   "id": "df6e3a3a-c501-4734-8633-0818e3e9761b",
   "metadata": {},
   "outputs": [
    {
     "data": {
      "text/plain": [
       "11"
      ]
     },
     "execution_count": 29,
     "metadata": {},
     "output_type": "execute_result"
    }
   ],
   "source": [
    "a += 1\n",
    "a"
   ]
  },
  {
   "cell_type": "code",
   "execution_count": 33,
   "id": "940cb9eb-0522-49d9-ab97-dbede72f6dd2",
   "metadata": {},
   "outputs": [
    {
     "data": {
      "text/plain": [
       "7"
      ]
     },
     "execution_count": 33,
     "metadata": {},
     "output_type": "execute_result"
    }
   ],
   "source": [
    "a-=1\n",
    "a"
   ]
  },
  {
   "cell_type": "code",
   "execution_count": 36,
   "id": "b7cdfb74-8771-4461-9c9a-5beff78356ba",
   "metadata": {},
   "outputs": [
    {
     "data": {
      "text/plain": [
       "56"
      ]
     },
     "execution_count": 36,
     "metadata": {},
     "output_type": "execute_result"
    }
   ],
   "source": [
    "a*=2\n",
    "a"
   ]
  },
  {
   "cell_type": "code",
   "execution_count": 41,
   "id": "0bffae22-44e1-4900-aaad-ba0cbf8bc91a",
   "metadata": {},
   "outputs": [
    {
     "data": {
      "text/plain": [
       "0.125"
      ]
     },
     "execution_count": 41,
     "metadata": {},
     "output_type": "execute_result"
    }
   ],
   "source": [
    "b/=2\n",
    "b"
   ]
  },
  {
   "cell_type": "code",
   "execution_count": 44,
   "id": "4f307509-64b4-423b-9c15-7a5737afeea3",
   "metadata": {},
   "outputs": [
    {
     "data": {
      "text/plain": [
       "0"
      ]
     },
     "execution_count": 44,
     "metadata": {},
     "output_type": "execute_result"
    }
   ],
   "source": [
    "a//=4\n",
    "a"
   ]
  },
  {
   "cell_type": "markdown",
   "id": "7c146d5a-170e-45c3-9274-5d1d368358fc",
   "metadata": {},
   "source": [
    "### Variable"
   ]
  },
  {
   "cell_type": "code",
   "execution_count": 45,
   "id": "632a980d-3820-4bd0-b115-62adf22bf743",
   "metadata": {},
   "outputs": [],
   "source": [
    "a = 5"
   ]
  },
  {
   "cell_type": "code",
   "execution_count": 46,
   "id": "6a77fb99-9e73-42b8-aef4-2f31ca91f7e5",
   "metadata": {},
   "outputs": [],
   "source": [
    "a = \"py\""
   ]
  },
  {
   "cell_type": "code",
   "execution_count": 47,
   "id": "deb1224d-61ec-4bf9-873d-c85280cb5e7f",
   "metadata": {},
   "outputs": [
    {
     "data": {
      "text/plain": [
       "'py'"
      ]
     },
     "execution_count": 47,
     "metadata": {},
     "output_type": "execute_result"
    }
   ],
   "source": [
    "a"
   ]
  },
  {
   "cell_type": "code",
   "execution_count": 48,
   "id": "f1929ff1-bd91-419e-be6e-78be3fce03d6",
   "metadata": {},
   "outputs": [],
   "source": [
    "a = [3,5,9]"
   ]
  },
  {
   "cell_type": "code",
   "execution_count": 49,
   "id": "814c1d4f-c62f-42d1-8fb3-be3f3d9ad0a8",
   "metadata": {},
   "outputs": [
    {
     "data": {
      "text/plain": [
       "[3, 5, 9]"
      ]
     },
     "execution_count": 49,
     "metadata": {},
     "output_type": "execute_result"
    }
   ],
   "source": [
    "a"
   ]
  },
  {
   "cell_type": "code",
   "execution_count": 50,
   "id": "1b502637-2e37-4c59-b706-817a45c54b18",
   "metadata": {},
   "outputs": [
    {
     "ename": "SyntaxError",
     "evalue": "invalid syntax (2100069200.py, line 1)",
     "output_type": "error",
     "traceback": [
      "\u001b[1;36m  Cell \u001b[1;32mIn[50], line 1\u001b[1;36m\u001b[0m\n\u001b[1;33m    first name = \"java\"\u001b[0m\n\u001b[1;37m          ^\u001b[0m\n\u001b[1;31mSyntaxError\u001b[0m\u001b[1;31m:\u001b[0m invalid syntax\n"
     ]
    }
   ],
   "source": [
    "first name = \"java\""
   ]
  },
  {
   "cell_type": "code",
   "execution_count": 51,
   "id": "2f64c797-c203-403a-9ed1-1a66aaeb8a5d",
   "metadata": {},
   "outputs": [],
   "source": [
    "first_name = \"java\""
   ]
  },
  {
   "cell_type": "code",
   "execution_count": 52,
   "id": "6a74a327-3c90-4cec-82ac-bb8d4b52edae",
   "metadata": {},
   "outputs": [
    {
     "ename": "SyntaxError",
     "evalue": "cannot assign to expression here. Maybe you meant '==' instead of '='? (3652762262.py, line 1)",
     "output_type": "error",
     "traceback": [
      "\u001b[1;36m  Cell \u001b[1;32mIn[52], line 1\u001b[1;36m\u001b[0m\n\u001b[1;33m    first&name = \"java\"\u001b[0m\n\u001b[1;37m    ^\u001b[0m\n\u001b[1;31mSyntaxError\u001b[0m\u001b[1;31m:\u001b[0m cannot assign to expression here. Maybe you meant '==' instead of '='?\n"
     ]
    }
   ],
   "source": [
    "first&name = \"java\""
   ]
  },
  {
   "cell_type": "code",
   "execution_count": 53,
   "id": "4bb71783-d6e4-436f-9666-d885f3a3be7c",
   "metadata": {},
   "outputs": [],
   "source": [
    "_lastname = \"backend\""
   ]
  },
  {
   "cell_type": "code",
   "execution_count": 54,
   "id": "f1590b77-e2bc-4c9c-ba49-f37e5d800bfe",
   "metadata": {},
   "outputs": [],
   "source": [
    "_3 = \"backend\""
   ]
  },
  {
   "cell_type": "code",
   "execution_count": 55,
   "id": "5b9ccea5-d0ed-4625-b97f-37021179d4f5",
   "metadata": {},
   "outputs": [
    {
     "ename": "SyntaxError",
     "evalue": "cannot assign to literal here. Maybe you meant '==' instead of '='? (2190009182.py, line 1)",
     "output_type": "error",
     "traceback": [
      "\u001b[1;36m  Cell \u001b[1;32mIn[55], line 1\u001b[1;36m\u001b[0m\n\u001b[1;33m    34 = x\u001b[0m\n\u001b[1;37m    ^\u001b[0m\n\u001b[1;31mSyntaxError\u001b[0m\u001b[1;31m:\u001b[0m cannot assign to literal here. Maybe you meant '==' instead of '='?\n"
     ]
    }
   ],
   "source": [
    "34 = x"
   ]
  },
  {
   "cell_type": "code",
   "execution_count": 57,
   "id": "63a4beb8-cfe7-426a-9b23-d5af5f98d06b",
   "metadata": {},
   "outputs": [],
   "source": [
    "age1 = 567"
   ]
  },
  {
   "cell_type": "markdown",
   "id": "0e3fa56a-151c-4b9b-82af-8e760a946c49",
   "metadata": {},
   "source": [
    "### Typecasting"
   ]
  },
  {
   "cell_type": "code",
   "execution_count": 58,
   "id": "fe1c8257-831e-4545-8b1c-9cebe44f95be",
   "metadata": {},
   "outputs": [],
   "source": [
    "name = \"amit\""
   ]
  },
  {
   "cell_type": "code",
   "execution_count": 59,
   "id": "f7498315-49a9-44f2-9bcc-d626c89ce53e",
   "metadata": {},
   "outputs": [
    {
     "data": {
      "text/plain": [
       "['a', 'm', 'i', 't']"
      ]
     },
     "execution_count": 59,
     "metadata": {},
     "output_type": "execute_result"
    }
   ],
   "source": [
    "list(name)"
   ]
  },
  {
   "cell_type": "code",
   "execution_count": 60,
   "id": "866f616f-1593-4bd1-b439-a337f9c882fb",
   "metadata": {},
   "outputs": [],
   "source": [
    "num = 675"
   ]
  },
  {
   "cell_type": "code",
   "execution_count": 63,
   "id": "b629d08c-e4a8-451d-8f44-f0ae9d7f44a3",
   "metadata": {},
   "outputs": [],
   "source": [
    "v = str(num)"
   ]
  },
  {
   "cell_type": "code",
   "execution_count": 64,
   "id": "c3a46003-d48c-4571-b8db-6085bd2927c6",
   "metadata": {},
   "outputs": [
    {
     "data": {
      "text/plain": [
       "str"
      ]
     },
     "execution_count": 64,
     "metadata": {},
     "output_type": "execute_result"
    }
   ],
   "source": [
    "type(v)"
   ]
  },
  {
   "cell_type": "code",
   "execution_count": 65,
   "id": "3eb5f266-3db2-46c0-b921-0b4c61866f12",
   "metadata": {},
   "outputs": [
    {
     "data": {
      "text/plain": [
       "[1, 2, 3, 4, 5, 6]"
      ]
     },
     "execution_count": 65,
     "metadata": {},
     "output_type": "execute_result"
    }
   ],
   "source": [
    "lis"
   ]
  },
  {
   "cell_type": "code",
   "execution_count": 66,
   "id": "d0e99e28-7366-4f09-a309-6447f8c38e9f",
   "metadata": {},
   "outputs": [
    {
     "data": {
      "text/plain": [
       "list"
      ]
     },
     "execution_count": 66,
     "metadata": {},
     "output_type": "execute_result"
    }
   ],
   "source": [
    "type(lis)"
   ]
  },
  {
   "cell_type": "code",
   "execution_count": 67,
   "id": "e18d8772-2f96-4c41-a777-cd0491a3cae2",
   "metadata": {},
   "outputs": [
    {
     "data": {
      "text/plain": [
       "(1, 2, 3, 4, 5, 6)"
      ]
     },
     "execution_count": 67,
     "metadata": {},
     "output_type": "execute_result"
    }
   ],
   "source": [
    "tuple(lis)"
   ]
  },
  {
   "cell_type": "code",
   "execution_count": 68,
   "id": "43e796ee-5354-447f-b246-50e4c6d8f262",
   "metadata": {},
   "outputs": [],
   "source": [
    "l1 = [1,1,2,3,4,3,2,3]"
   ]
  },
  {
   "cell_type": "code",
   "execution_count": 69,
   "id": "b2389539-78a5-4149-bf10-88b375cdb003",
   "metadata": {},
   "outputs": [
    {
     "data": {
      "text/plain": [
       "[1, 1, 2, 3, 4, 3, 2, 3]"
      ]
     },
     "execution_count": 69,
     "metadata": {},
     "output_type": "execute_result"
    }
   ],
   "source": [
    "l1"
   ]
  },
  {
   "cell_type": "code",
   "execution_count": 70,
   "id": "3e350541-511c-4ff4-af29-2e4e83a89847",
   "metadata": {},
   "outputs": [
    {
     "data": {
      "text/plain": [
       "{1, 2, 3, 4}"
      ]
     },
     "execution_count": 70,
     "metadata": {},
     "output_type": "execute_result"
    }
   ],
   "source": [
    "set(l1)"
   ]
  },
  {
   "cell_type": "code",
   "execution_count": 72,
   "id": "7c312ab1-70de-40d9-a9da-b645cfcc2c9e",
   "metadata": {},
   "outputs": [
    {
     "ename": "ValueError",
     "evalue": "invalid literal for int() with base 10: 'amit'",
     "output_type": "error",
     "traceback": [
      "\u001b[1;31m---------------------------------------------------------------------------\u001b[0m",
      "\u001b[1;31mValueError\u001b[0m                                Traceback (most recent call last)",
      "Cell \u001b[1;32mIn[72], line 1\u001b[0m\n\u001b[1;32m----> 1\u001b[0m \u001b[38;5;28mint\u001b[39m(name)\n",
      "\u001b[1;31mValueError\u001b[0m: invalid literal for int() with base 10: 'amit'"
     ]
    }
   ],
   "source": [
    "int(name)"
   ]
  },
  {
   "cell_type": "code",
   "execution_count": 73,
   "id": "1ffecfb7-7c46-47cc-ae1c-442618306a5c",
   "metadata": {},
   "outputs": [
    {
     "data": {
      "text/plain": [
       "'[1, 1, 2, 3, 4, 3, 2, 3]'"
      ]
     },
     "execution_count": 73,
     "metadata": {},
     "output_type": "execute_result"
    }
   ],
   "source": [
    "str(l1)"
   ]
  },
  {
   "cell_type": "markdown",
   "id": "33cde81c-e912-4e70-a988-0b4493b9da5f",
   "metadata": {},
   "source": [
    "### Iterable"
   ]
  },
  {
   "cell_type": "code",
   "execution_count": null,
   "id": "f34f6564-4e72-4b86-b14f-5cd54bb51e60",
   "metadata": {},
   "outputs": [],
   "source": [
    "str\n",
    "list\n",
    "tuple\n",
    "set\n",
    "dict"
   ]
  },
  {
   "cell_type": "code",
   "execution_count": 74,
   "id": "8cdf4dca-f668-4b5b-9a7a-6a5bd72b6ab0",
   "metadata": {},
   "outputs": [],
   "source": [
    "num = 67576"
   ]
  },
  {
   "cell_type": "code",
   "execution_count": 75,
   "id": "ff847627-df31-4f9c-9c71-4f30d1fd8499",
   "metadata": {},
   "outputs": [
    {
     "ename": "TypeError",
     "evalue": "'int' object is not iterable",
     "output_type": "error",
     "traceback": [
      "\u001b[1;31m---------------------------------------------------------------------------\u001b[0m",
      "\u001b[1;31mTypeError\u001b[0m                                 Traceback (most recent call last)",
      "Cell \u001b[1;32mIn[75], line 1\u001b[0m\n\u001b[1;32m----> 1\u001b[0m \u001b[38;5;28mlist\u001b[39m(num)\n",
      "\u001b[1;31mTypeError\u001b[0m: 'int' object is not iterable"
     ]
    }
   ],
   "source": [
    "list(num)"
   ]
  },
  {
   "cell_type": "code",
   "execution_count": null,
   "id": "54218268-7940-43b6-b2a3-ddba0a812d23",
   "metadata": {},
   "outputs": [],
   "source": []
  }
 ],
 "metadata": {
  "kernelspec": {
   "display_name": "Python 3 (ipykernel)",
   "language": "python",
   "name": "python3"
  },
  "language_info": {
   "codemirror_mode": {
    "name": "ipython",
    "version": 3
   },
   "file_extension": ".py",
   "mimetype": "text/x-python",
   "name": "python",
   "nbconvert_exporter": "python",
   "pygments_lexer": "ipython3",
   "version": "3.11.7"
  }
 },
 "nbformat": 4,
 "nbformat_minor": 5
}
