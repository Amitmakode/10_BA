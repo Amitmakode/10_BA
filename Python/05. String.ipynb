{
 "cells": [
  {
   "cell_type": "markdown",
   "id": "ca592457-e70d-430d-a356-a27ad7e545fe",
   "metadata": {},
   "source": [
    "### String"
   ]
  },
  {
   "cell_type": "markdown",
   "id": "523d27d8-743e-4b91-a49a-7dddf10cafdf",
   "metadata": {},
   "source": [
    "### Indexing"
   ]
  },
  {
   "cell_type": "code",
   "execution_count": 2,
   "id": "f2af014f-c2e6-4d47-9603-8b6cb165de28",
   "metadata": {},
   "outputs": [],
   "source": [
    "s = \"hello python\""
   ]
  },
  {
   "cell_type": "code",
   "execution_count": 3,
   "id": "ab0ece1a-d739-4956-a5e3-35040b686725",
   "metadata": {},
   "outputs": [
    {
     "data": {
      "text/plain": [
       "'h'"
      ]
     },
     "execution_count": 3,
     "metadata": {},
     "output_type": "execute_result"
    }
   ],
   "source": [
    "s[0]"
   ]
  },
  {
   "cell_type": "code",
   "execution_count": 4,
   "id": "387495c8-c987-47c9-ac53-960994aacdde",
   "metadata": {},
   "outputs": [
    {
     "data": {
      "text/plain": [
       "'p'"
      ]
     },
     "execution_count": 4,
     "metadata": {},
     "output_type": "execute_result"
    }
   ],
   "source": [
    "s[6]"
   ]
  },
  {
   "cell_type": "code",
   "execution_count": 5,
   "id": "0fe90256-955f-42d9-9d77-27bdb54bc314",
   "metadata": {},
   "outputs": [
    {
     "data": {
      "text/plain": [
       "'o'"
      ]
     },
     "execution_count": 5,
     "metadata": {},
     "output_type": "execute_result"
    }
   ],
   "source": [
    "s[-2]"
   ]
  },
  {
   "cell_type": "code",
   "execution_count": 6,
   "id": "a6e8c685-221a-4706-91f8-cd3bead5f3e5",
   "metadata": {},
   "outputs": [
    {
     "data": {
      "text/plain": [
       "'p'"
      ]
     },
     "execution_count": 6,
     "metadata": {},
     "output_type": "execute_result"
    }
   ],
   "source": [
    "s[-6]"
   ]
  },
  {
   "cell_type": "markdown",
   "id": "a4c2889b-8b23-43ba-a091-9f36feb38a35",
   "metadata": {},
   "source": [
    "#### Slicing & Hashing"
   ]
  },
  {
   "cell_type": "code",
   "execution_count": 7,
   "id": "5d2a7215-3d2c-4f18-888f-9ff6f5211254",
   "metadata": {},
   "outputs": [],
   "source": [
    "s = \"hello python\""
   ]
  },
  {
   "cell_type": "code",
   "execution_count": 8,
   "id": "f31df1c0-e319-48f6-9a9f-f3c8fcbc6b81",
   "metadata": {},
   "outputs": [
    {
     "data": {
      "text/plain": [
       "'hello python'"
      ]
     },
     "execution_count": 8,
     "metadata": {},
     "output_type": "execute_result"
    }
   ],
   "source": [
    "s[:]"
   ]
  },
  {
   "cell_type": "code",
   "execution_count": 9,
   "id": "3cb51cbf-9fe8-49e2-a755-cd5a6c7be3f6",
   "metadata": {},
   "outputs": [
    {
     "data": {
      "text/plain": [
       "'llo p'"
      ]
     },
     "execution_count": 9,
     "metadata": {},
     "output_type": "execute_result"
    }
   ],
   "source": [
    "s[2:7]"
   ]
  },
  {
   "cell_type": "code",
   "execution_count": 10,
   "id": "b22f1fef-5b90-41c5-91d2-b0d6d2c4f925",
   "metadata": {},
   "outputs": [
    {
     "data": {
      "text/plain": [
       "' python'"
      ]
     },
     "execution_count": 10,
     "metadata": {},
     "output_type": "execute_result"
    }
   ],
   "source": [
    "s[5:15]"
   ]
  },
  {
   "cell_type": "code",
   "execution_count": 11,
   "id": "5a4d80ac-2447-48bf-8904-31fbc551520e",
   "metadata": {},
   "outputs": [
    {
     "data": {
      "text/plain": [
       "'ython'"
      ]
     },
     "execution_count": 11,
     "metadata": {},
     "output_type": "execute_result"
    }
   ],
   "source": [
    "s[-5:15]"
   ]
  },
  {
   "cell_type": "code",
   "execution_count": 12,
   "id": "32f0b290-8cd4-462b-92c1-d9b14cee886b",
   "metadata": {},
   "outputs": [
    {
     "data": {
      "text/plain": [
       "'hello python'"
      ]
     },
     "execution_count": 12,
     "metadata": {},
     "output_type": "execute_result"
    }
   ],
   "source": [
    "s[:15]"
   ]
  },
  {
   "cell_type": "code",
   "execution_count": 13,
   "id": "b1da8d8d-9c58-43f1-860c-cf934af01f92",
   "metadata": {},
   "outputs": [
    {
     "data": {
      "text/plain": [
       "'o python'"
      ]
     },
     "execution_count": 13,
     "metadata": {},
     "output_type": "execute_result"
    }
   ],
   "source": [
    "s[4:]"
   ]
  },
  {
   "cell_type": "code",
   "execution_count": 14,
   "id": "49ce227b-a14a-4086-bdec-16f7fe2804a9",
   "metadata": {},
   "outputs": [
    {
     "data": {
      "text/plain": [
       "'lopto'"
      ]
     },
     "execution_count": 14,
     "metadata": {},
     "output_type": "execute_result"
    }
   ],
   "source": [
    "s[2:12:2]"
   ]
  },
  {
   "cell_type": "code",
   "execution_count": 15,
   "id": "6817b8b4-a1e7-403d-b140-1464c8cc949b",
   "metadata": {},
   "outputs": [
    {
     "data": {
      "text/plain": [
       "''"
      ]
     },
     "execution_count": 15,
     "metadata": {},
     "output_type": "execute_result"
    }
   ],
   "source": [
    "s[2:12:-2]"
   ]
  },
  {
   "cell_type": "code",
   "execution_count": 16,
   "id": "4476c4c6-b818-44d2-877d-bdc2e2669347",
   "metadata": {},
   "outputs": [
    {
     "data": {
      "text/plain": [
       "'nohtyp olleh'"
      ]
     },
     "execution_count": 16,
     "metadata": {},
     "output_type": "execute_result"
    }
   ],
   "source": [
    "s[::-1]"
   ]
  },
  {
   "cell_type": "markdown",
   "id": "2ca00d93-4634-4ed9-a73e-7655cbf9e24a",
   "metadata": {},
   "source": [
    "#### Mutation"
   ]
  },
  {
   "cell_type": "code",
   "execution_count": 17,
   "id": "92ec2ae5-f473-48d8-bedb-99e41c4129e3",
   "metadata": {},
   "outputs": [],
   "source": [
    "s = \"hello\""
   ]
  },
  {
   "cell_type": "code",
   "execution_count": 18,
   "id": "45f4cd39-0606-4991-9c5a-2fa06f0755ae",
   "metadata": {},
   "outputs": [
    {
     "ename": "TypeError",
     "evalue": "'str' object does not support item assignment",
     "output_type": "error",
     "traceback": [
      "\u001b[1;31m---------------------------------------------------------------------------\u001b[0m",
      "\u001b[1;31mTypeError\u001b[0m                                 Traceback (most recent call last)",
      "Cell \u001b[1;32mIn[18], line 1\u001b[0m\n\u001b[1;32m----> 1\u001b[0m s[\u001b[38;5;241m1\u001b[39m] \u001b[38;5;241m=\u001b[39m \u001b[38;5;124m\"\u001b[39m\u001b[38;5;124mE\u001b[39m\u001b[38;5;124m\"\u001b[39m\n",
      "\u001b[1;31mTypeError\u001b[0m: 'str' object does not support item assignment"
     ]
    }
   ],
   "source": [
    "s[1] = \"E\""
   ]
  },
  {
   "cell_type": "code",
   "execution_count": 35,
   "id": "1bac3f5d-1fbf-43a6-b0c5-4856dbe85b97",
   "metadata": {},
   "outputs": [],
   "source": [
    "s_var = \"object support item assignment\""
   ]
  },
  {
   "cell_type": "markdown",
   "id": "ef63f1af-e1df-42d4-9323-ecf8fb464c53",
   "metadata": {},
   "source": [
    "#### Concatinate"
   ]
  },
  {
   "cell_type": "code",
   "execution_count": 21,
   "id": "c614f601-182e-4452-b3d9-02075d4de497",
   "metadata": {},
   "outputs": [
    {
     "data": {
      "text/plain": [
       "'hello'"
      ]
     },
     "execution_count": 21,
     "metadata": {},
     "output_type": "execute_result"
    }
   ],
   "source": [
    "s"
   ]
  },
  {
   "cell_type": "code",
   "execution_count": 23,
   "id": "8c58cb51-8609-4229-bb11-4851e2b35099",
   "metadata": {},
   "outputs": [
    {
     "data": {
      "text/plain": [
       "'hellohello'"
      ]
     },
     "execution_count": 23,
     "metadata": {},
     "output_type": "execute_result"
    }
   ],
   "source": [
    "s + s"
   ]
  },
  {
   "cell_type": "code",
   "execution_count": 24,
   "id": "29fad371-7451-43fa-9c69-51049033f339",
   "metadata": {},
   "outputs": [
    {
     "data": {
      "text/plain": [
       "'hello hello'"
      ]
     },
     "execution_count": 24,
     "metadata": {},
     "output_type": "execute_result"
    }
   ],
   "source": [
    "s + \" \" + s"
   ]
  },
  {
   "cell_type": "code",
   "execution_count": 25,
   "id": "33e913b4-d5f7-4b64-b50b-cd8dbeba01aa",
   "metadata": {},
   "outputs": [
    {
     "ename": "TypeError",
     "evalue": "can only concatenate str (not \"int\") to str",
     "output_type": "error",
     "traceback": [
      "\u001b[1;31m---------------------------------------------------------------------------\u001b[0m",
      "\u001b[1;31mTypeError\u001b[0m                                 Traceback (most recent call last)",
      "Cell \u001b[1;32mIn[25], line 1\u001b[0m\n\u001b[1;32m----> 1\u001b[0m s \u001b[38;5;241m+\u001b[39m \u001b[38;5;241m2\u001b[39m\n",
      "\u001b[1;31mTypeError\u001b[0m: can only concatenate str (not \"int\") to str"
     ]
    }
   ],
   "source": [
    "s + 2"
   ]
  },
  {
   "cell_type": "code",
   "execution_count": 26,
   "id": "f67637b1-2109-4fdb-a4f7-e3bb5387cdf8",
   "metadata": {},
   "outputs": [
    {
     "data": {
      "text/plain": [
       "'hello2'"
      ]
     },
     "execution_count": 26,
     "metadata": {},
     "output_type": "execute_result"
    }
   ],
   "source": [
    "s + \"2\""
   ]
  },
  {
   "cell_type": "markdown",
   "id": "4835fd44-dde1-4c37-ad90-fa294e959948",
   "metadata": {},
   "source": [
    "#### Repeatation"
   ]
  },
  {
   "cell_type": "code",
   "execution_count": 30,
   "id": "ae3f90a2-2560-43b2-9831-1e6f3e10c0b4",
   "metadata": {},
   "outputs": [
    {
     "data": {
      "text/plain": [
       "'hello   '"
      ]
     },
     "execution_count": 30,
     "metadata": {},
     "output_type": "execute_result"
    }
   ],
   "source": [
    "s + \" \"*3    #BODMAS"
   ]
  },
  {
   "cell_type": "code",
   "execution_count": 31,
   "id": "335ec3d8-5ecb-4cfc-8c69-2484dd7410a7",
   "metadata": {},
   "outputs": [],
   "source": [
    "s1 = \"hello \""
   ]
  },
  {
   "cell_type": "code",
   "execution_count": 32,
   "id": "5fb7c48d-f469-476b-aec7-3ea8b7317898",
   "metadata": {},
   "outputs": [
    {
     "data": {
      "text/plain": [
       "'hello hello hello '"
      ]
     },
     "execution_count": 32,
     "metadata": {},
     "output_type": "execute_result"
    }
   ],
   "source": [
    "s1*3"
   ]
  },
  {
   "cell_type": "markdown",
   "id": "9b1c66a7-b9f6-4181-9005-1ee5f088a33c",
   "metadata": {},
   "source": [
    "### String Methods"
   ]
  },
  {
   "cell_type": "code",
   "execution_count": 33,
   "id": "a540e41d-5b5a-4965-a5bc-f068b450cd5a",
   "metadata": {},
   "outputs": [
    {
     "data": {
      "text/plain": [
       "['__add__',\n",
       " '__class__',\n",
       " '__contains__',\n",
       " '__delattr__',\n",
       " '__dir__',\n",
       " '__doc__',\n",
       " '__eq__',\n",
       " '__format__',\n",
       " '__ge__',\n",
       " '__getattribute__',\n",
       " '__getitem__',\n",
       " '__getnewargs__',\n",
       " '__getstate__',\n",
       " '__gt__',\n",
       " '__hash__',\n",
       " '__init__',\n",
       " '__init_subclass__',\n",
       " '__iter__',\n",
       " '__le__',\n",
       " '__len__',\n",
       " '__lt__',\n",
       " '__mod__',\n",
       " '__mul__',\n",
       " '__ne__',\n",
       " '__new__',\n",
       " '__reduce__',\n",
       " '__reduce_ex__',\n",
       " '__repr__',\n",
       " '__rmod__',\n",
       " '__rmul__',\n",
       " '__setattr__',\n",
       " '__sizeof__',\n",
       " '__str__',\n",
       " '__subclasshook__',\n",
       " 'capitalize',\n",
       " 'casefold',\n",
       " 'center',\n",
       " 'count',\n",
       " 'encode',\n",
       " 'endswith',\n",
       " 'expandtabs',\n",
       " 'find',\n",
       " 'format',\n",
       " 'format_map',\n",
       " 'index',\n",
       " 'isalnum',\n",
       " 'isalpha',\n",
       " 'isascii',\n",
       " 'isdecimal',\n",
       " 'isdigit',\n",
       " 'isidentifier',\n",
       " 'islower',\n",
       " 'isnumeric',\n",
       " 'isprintable',\n",
       " 'isspace',\n",
       " 'istitle',\n",
       " 'isupper',\n",
       " 'join',\n",
       " 'ljust',\n",
       " 'lower',\n",
       " 'lstrip',\n",
       " 'maketrans',\n",
       " 'partition',\n",
       " 'removeprefix',\n",
       " 'removesuffix',\n",
       " 'replace',\n",
       " 'rfind',\n",
       " 'rindex',\n",
       " 'rjust',\n",
       " 'rpartition',\n",
       " 'rsplit',\n",
       " 'rstrip',\n",
       " 'split',\n",
       " 'splitlines',\n",
       " 'startswith',\n",
       " 'strip',\n",
       " 'swapcase',\n",
       " 'title',\n",
       " 'translate',\n",
       " 'upper',\n",
       " 'zfill']"
      ]
     },
     "execution_count": 33,
     "metadata": {},
     "output_type": "execute_result"
    }
   ],
   "source": [
    "dir(str)"
   ]
  },
  {
   "cell_type": "code",
   "execution_count": 36,
   "id": "d636a0f4-4d5b-46d7-84db-3c81f20a5157",
   "metadata": {},
   "outputs": [
    {
     "data": {
      "text/plain": [
       "'object support item assignment'"
      ]
     },
     "execution_count": 36,
     "metadata": {},
     "output_type": "execute_result"
    }
   ],
   "source": [
    "s_var"
   ]
  },
  {
   "cell_type": "code",
   "execution_count": 37,
   "id": "02d8d551-7185-4ca3-985d-fc5c0f6d8d56",
   "metadata": {},
   "outputs": [
    {
     "data": {
      "text/plain": [
       "'Object support item assignment'"
      ]
     },
     "execution_count": 37,
     "metadata": {},
     "output_type": "execute_result"
    }
   ],
   "source": [
    "s_var.capitalize()"
   ]
  },
  {
   "cell_type": "code",
   "execution_count": 38,
   "id": "678c8552-81d7-439a-b27a-887e52a084fa",
   "metadata": {},
   "outputs": [
    {
     "data": {
      "text/plain": [
       "'Object Support Item Assignment'"
      ]
     },
     "execution_count": 38,
     "metadata": {},
     "output_type": "execute_result"
    }
   ],
   "source": [
    "s_var.title()"
   ]
  },
  {
   "cell_type": "code",
   "execution_count": 44,
   "id": "137cf390-1c13-4f80-9b76-cca6d333a2d5",
   "metadata": {},
   "outputs": [],
   "source": [
    "s2  =s.center(20, \"#\")"
   ]
  },
  {
   "cell_type": "code",
   "execution_count": 45,
   "id": "841e981d-a2e2-467d-b443-b8448c4dfeb0",
   "metadata": {},
   "outputs": [
    {
     "data": {
      "text/plain": [
       "'#######hello########'"
      ]
     },
     "execution_count": 45,
     "metadata": {},
     "output_type": "execute_result"
    }
   ],
   "source": [
    "s2"
   ]
  },
  {
   "cell_type": "code",
   "execution_count": 49,
   "id": "5957c338-3f98-469b-b699-a10e6f4ace53",
   "metadata": {},
   "outputs": [
    {
     "data": {
      "text/plain": [
       "'hello########'"
      ]
     },
     "execution_count": 49,
     "metadata": {},
     "output_type": "execute_result"
    }
   ],
   "source": [
    "s2.lstrip(\"#\")"
   ]
  },
  {
   "cell_type": "code",
   "execution_count": 47,
   "id": "3c5d4051-45cb-43c8-a97c-8e27c4ce93f7",
   "metadata": {},
   "outputs": [],
   "source": [
    "s3 = \"      hello     \""
   ]
  },
  {
   "cell_type": "code",
   "execution_count": 48,
   "id": "7851b5ea-9e69-49e6-8b9e-82ef7aa11b7d",
   "metadata": {},
   "outputs": [
    {
     "data": {
      "text/plain": [
       "'hello     '"
      ]
     },
     "execution_count": 48,
     "metadata": {},
     "output_type": "execute_result"
    }
   ],
   "source": [
    "s3.lstrip()"
   ]
  },
  {
   "cell_type": "code",
   "execution_count": 50,
   "id": "fbec5724-204e-4c96-a99c-c54ad4b00bcd",
   "metadata": {},
   "outputs": [
    {
     "data": {
      "text/plain": [
       "'      hello'"
      ]
     },
     "execution_count": 50,
     "metadata": {},
     "output_type": "execute_result"
    }
   ],
   "source": [
    "s3.rstrip()"
   ]
  },
  {
   "cell_type": "code",
   "execution_count": 51,
   "id": "0c8be3bc-9437-4613-a595-d26e57172acc",
   "metadata": {},
   "outputs": [
    {
     "data": {
      "text/plain": [
       "'#######hello'"
      ]
     },
     "execution_count": 51,
     "metadata": {},
     "output_type": "execute_result"
    }
   ],
   "source": [
    "s2.rstrip(\"#\")"
   ]
  },
  {
   "cell_type": "code",
   "execution_count": 53,
   "id": "855a0b81-8679-49ab-bc45-c90aae01219b",
   "metadata": {},
   "outputs": [
    {
     "data": {
      "text/plain": [
       "'hello'"
      ]
     },
     "execution_count": 53,
     "metadata": {},
     "output_type": "execute_result"
    }
   ],
   "source": [
    "s3.strip()"
   ]
  },
  {
   "cell_type": "code",
   "execution_count": 54,
   "id": "f840af94-07bc-46d3-8ccf-c58ee0e3587f",
   "metadata": {},
   "outputs": [],
   "source": [
    "s4 = \"   hello$#\""
   ]
  },
  {
   "cell_type": "code",
   "execution_count": 56,
   "id": "7dff7521-96e5-45f4-989e-1a84a40b29db",
   "metadata": {},
   "outputs": [
    {
     "data": {
      "text/plain": [
       "'   hello'"
      ]
     },
     "execution_count": 56,
     "metadata": {},
     "output_type": "execute_result"
    }
   ],
   "source": [
    "s4.rstrip(\"$#\")"
   ]
  },
  {
   "cell_type": "code",
   "execution_count": 57,
   "id": "76c8d45d-e237-4e8c-8e73-51c749bb1f25",
   "metadata": {},
   "outputs": [
    {
     "data": {
      "text/plain": [
       "'object support item assignment'"
      ]
     },
     "execution_count": 57,
     "metadata": {},
     "output_type": "execute_result"
    }
   ],
   "source": [
    "s_var"
   ]
  },
  {
   "cell_type": "code",
   "execution_count": 58,
   "id": "ba2d9c85-c0de-494b-925d-32aa5eecec19",
   "metadata": {},
   "outputs": [],
   "source": [
    "s5 =  \"Python34\""
   ]
  },
  {
   "cell_type": "code",
   "execution_count": 59,
   "id": "70e29276-ae12-4092-9db0-120a6ce5f877",
   "metadata": {},
   "outputs": [
    {
     "data": {
      "text/plain": [
       "True"
      ]
     },
     "execution_count": 59,
     "metadata": {},
     "output_type": "execute_result"
    }
   ],
   "source": [
    "s5.isalnum()"
   ]
  },
  {
   "cell_type": "code",
   "execution_count": 60,
   "id": "b6d20baa-3d7e-472f-8bbc-b6e434542b27",
   "metadata": {},
   "outputs": [
    {
     "data": {
      "text/plain": [
       "False"
      ]
     },
     "execution_count": 60,
     "metadata": {},
     "output_type": "execute_result"
    }
   ],
   "source": [
    "s5.isdecimal()"
   ]
  },
  {
   "cell_type": "code",
   "execution_count": 61,
   "id": "6db41524-8a90-410e-a9cd-24b96c564838",
   "metadata": {},
   "outputs": [
    {
     "data": {
      "text/plain": [
       "False"
      ]
     },
     "execution_count": 61,
     "metadata": {},
     "output_type": "execute_result"
    }
   ],
   "source": [
    "s5.isnumeric()"
   ]
  },
  {
   "cell_type": "code",
   "execution_count": 62,
   "id": "18ac3f87-55ad-48c6-ab9f-42e3c1ca9c0b",
   "metadata": {},
   "outputs": [
    {
     "data": {
      "text/plain": [
       "False"
      ]
     },
     "execution_count": 62,
     "metadata": {},
     "output_type": "execute_result"
    }
   ],
   "source": [
    "s5.isalpha()"
   ]
  },
  {
   "cell_type": "code",
   "execution_count": 63,
   "id": "5b4a5812-dd47-4521-9a21-38aa6c45ecc0",
   "metadata": {},
   "outputs": [
    {
     "data": {
      "text/plain": [
       "'object support item assignment'"
      ]
     },
     "execution_count": 63,
     "metadata": {},
     "output_type": "execute_result"
    }
   ],
   "source": [
    "s_var"
   ]
  },
  {
   "cell_type": "code",
   "execution_count": 64,
   "id": "3d5e2db0-03d2-4eda-b5bb-2ea3d1df2923",
   "metadata": {},
   "outputs": [
    {
     "data": {
      "text/plain": [
       "True"
      ]
     },
     "execution_count": 64,
     "metadata": {},
     "output_type": "execute_result"
    }
   ],
   "source": [
    "s_var.islower()"
   ]
  },
  {
   "cell_type": "code",
   "execution_count": 65,
   "id": "092316e1-19ff-4340-8b8c-5f0470ba48e3",
   "metadata": {},
   "outputs": [
    {
     "data": {
      "text/plain": [
       "False"
      ]
     },
     "execution_count": 65,
     "metadata": {},
     "output_type": "execute_result"
    }
   ],
   "source": [
    "s_var.isupper()"
   ]
  },
  {
   "cell_type": "code",
   "execution_count": 66,
   "id": "a81b34c8-8c0d-4fcb-9b39-de3a05336c2c",
   "metadata": {},
   "outputs": [
    {
     "data": {
      "text/plain": [
       "'object support item assignment'"
      ]
     },
     "execution_count": 66,
     "metadata": {},
     "output_type": "execute_result"
    }
   ],
   "source": [
    "s_var.lower()"
   ]
  },
  {
   "cell_type": "code",
   "execution_count": 67,
   "id": "03685cb2-4087-4ea5-9c7a-8e538b9f14e4",
   "metadata": {},
   "outputs": [
    {
     "data": {
      "text/plain": [
       "'OBJECT SUPPORT ITEM ASSIGNMENT'"
      ]
     },
     "execution_count": 67,
     "metadata": {},
     "output_type": "execute_result"
    }
   ],
   "source": [
    "s_var.upper()"
   ]
  },
  {
   "cell_type": "code",
   "execution_count": 69,
   "id": "b7823d18-ff89-4c9f-8a0f-22de93ffc841",
   "metadata": {},
   "outputs": [
    {
     "data": {
      "text/plain": [
       "False"
      ]
     },
     "execution_count": 69,
     "metadata": {},
     "output_type": "execute_result"
    }
   ],
   "source": [
    "s_var.endswith(\"e\")"
   ]
  },
  {
   "cell_type": "code",
   "execution_count": 70,
   "id": "e5936f06-8a3d-44e6-baf2-fa9b1ef2faf3",
   "metadata": {},
   "outputs": [
    {
     "data": {
      "text/plain": [
       "True"
      ]
     },
     "execution_count": 70,
     "metadata": {},
     "output_type": "execute_result"
    }
   ],
   "source": [
    "s_var.endswith(\"t\")"
   ]
  },
  {
   "cell_type": "code",
   "execution_count": 71,
   "id": "e2972ff1-e4c3-4a99-b3c2-4faf47be87e6",
   "metadata": {},
   "outputs": [
    {
     "data": {
      "text/plain": [
       "True"
      ]
     },
     "execution_count": 71,
     "metadata": {},
     "output_type": "execute_result"
    }
   ],
   "source": [
    "s_var.startswith(\"o\")"
   ]
  },
  {
   "cell_type": "code",
   "execution_count": 72,
   "id": "467a84b9-a251-48de-9f29-830fa11352bb",
   "metadata": {},
   "outputs": [
    {
     "data": {
      "text/plain": [
       "False"
      ]
     },
     "execution_count": 72,
     "metadata": {},
     "output_type": "execute_result"
    }
   ],
   "source": [
    "s_var.startswith(\"O\")"
   ]
  },
  {
   "cell_type": "code",
   "execution_count": 73,
   "id": "a3cf2199-c8e7-41ee-a2e3-437d3a173db6",
   "metadata": {},
   "outputs": [
    {
     "data": {
      "text/plain": [
       "'ect support item assignment'"
      ]
     },
     "execution_count": 73,
     "metadata": {},
     "output_type": "execute_result"
    }
   ],
   "source": [
    "s_var.removeprefix(\"obj\")"
   ]
  },
  {
   "cell_type": "code",
   "execution_count": 74,
   "id": "961caa50-fe3c-448c-b86a-b1ffc23845fc",
   "metadata": {},
   "outputs": [
    {
     "data": {
      "text/plain": [
       "'object support item assign'"
      ]
     },
     "execution_count": 74,
     "metadata": {},
     "output_type": "execute_result"
    }
   ],
   "source": [
    "s_var.removesuffix(\"ment\")"
   ]
  },
  {
   "cell_type": "code",
   "execution_count": 75,
   "id": "8392ba70-e95d-458f-b3a9-1a50c9423e78",
   "metadata": {},
   "outputs": [
    {
     "data": {
      "text/plain": [
       "'object help item assignment'"
      ]
     },
     "execution_count": 75,
     "metadata": {},
     "output_type": "execute_result"
    }
   ],
   "source": [
    "s_var.replace(\"support\", \"help\")"
   ]
  },
  {
   "cell_type": "code",
   "execution_count": 76,
   "id": "eb0f1b1f-8df8-4654-863a-4579c16e1af8",
   "metadata": {},
   "outputs": [
    {
     "data": {
      "text/plain": [
       "'object  item assignment'"
      ]
     },
     "execution_count": 76,
     "metadata": {},
     "output_type": "execute_result"
    }
   ],
   "source": [
    "s_var.replace(\"support\", \"\")"
   ]
  },
  {
   "cell_type": "code",
   "execution_count": 77,
   "id": "eff93542-4935-4a05-b317-3c6800780366",
   "metadata": {},
   "outputs": [
    {
     "data": {
      "text/plain": [
       "'objecT supporT iTem assignmenT'"
      ]
     },
     "execution_count": 77,
     "metadata": {},
     "output_type": "execute_result"
    }
   ],
   "source": [
    "s_var.replace(\"t\", \"T\")"
   ]
  },
  {
   "cell_type": "code",
   "execution_count": 79,
   "id": "a0598e5c-b898-471f-8684-fc66e6d7d9ac",
   "metadata": {},
   "outputs": [
    {
     "data": {
      "text/plain": [
       "('object su', 'pp', 'ort item assignment')"
      ]
     },
     "execution_count": 79,
     "metadata": {},
     "output_type": "execute_result"
    }
   ],
   "source": [
    "s_var.partition(\"pp\")"
   ]
  },
  {
   "cell_type": "code",
   "execution_count": 82,
   "id": "1324bdc2-68bb-439b-aa35-3071342a9f24",
   "metadata": {},
   "outputs": [
    {
     "data": {
      "text/plain": [
       "['object', 'support', 'item', 'assignment']"
      ]
     },
     "execution_count": 82,
     "metadata": {},
     "output_type": "execute_result"
    }
   ],
   "source": [
    "s_var.split(\" \")"
   ]
  },
  {
   "cell_type": "code",
   "execution_count": 83,
   "id": "459f471b-60d9-45cd-b65c-344fd4702419",
   "metadata": {},
   "outputs": [
    {
     "data": {
      "text/plain": [
       "7"
      ]
     },
     "execution_count": 83,
     "metadata": {},
     "output_type": "execute_result"
    }
   ],
   "source": [
    "s_var.find(\"s\")"
   ]
  },
  {
   "cell_type": "code",
   "execution_count": 84,
   "id": "324f2030-e55a-46e8-beb1-053d4d34f2c4",
   "metadata": {},
   "outputs": [
    {
     "data": {
      "text/plain": [
       "'object support item assignment'"
      ]
     },
     "execution_count": 84,
     "metadata": {},
     "output_type": "execute_result"
    }
   ],
   "source": [
    "s_var"
   ]
  },
  {
   "cell_type": "code",
   "execution_count": 87,
   "id": "399f1125-b63c-4900-a6c7-9a15fc3d7641",
   "metadata": {},
   "outputs": [
    {
     "data": {
      "text/plain": [
       "12"
      ]
     },
     "execution_count": 87,
     "metadata": {},
     "output_type": "execute_result"
    }
   ],
   "source": [
    "s_var.index(\"r\")"
   ]
  },
  {
   "cell_type": "code",
   "execution_count": 88,
   "id": "eb63965e-af97-40ed-8cb8-82976b424a88",
   "metadata": {},
   "outputs": [
    {
     "data": {
      "text/plain": [
       "22"
      ]
     },
     "execution_count": 88,
     "metadata": {},
     "output_type": "execute_result"
    }
   ],
   "source": [
    "s_var.rfind(\"s\")"
   ]
  },
  {
   "cell_type": "code",
   "execution_count": 89,
   "id": "62ac5f61-bf14-4bf4-a0a4-54d473156642",
   "metadata": {},
   "outputs": [
    {
     "data": {
      "text/plain": [
       "3"
      ]
     },
     "execution_count": 89,
     "metadata": {},
     "output_type": "execute_result"
    }
   ],
   "source": [
    "s_var.count(\"s\")"
   ]
  },
  {
   "cell_type": "code",
   "execution_count": 91,
   "id": "b33641e7-439c-4e7c-9a2d-ad2c5eaf74cb",
   "metadata": {},
   "outputs": [],
   "source": [
    "l =[\"py\",\"c++\", \"C\", \"js\"]"
   ]
  },
  {
   "cell_type": "code",
   "execution_count": 95,
   "id": "334c190a-2e3e-44f5-a306-9abc7f2fd049",
   "metadata": {},
   "outputs": [
    {
     "data": {
      "text/plain": [
       "'py c++ C js'"
      ]
     },
     "execution_count": 95,
     "metadata": {},
     "output_type": "execute_result"
    }
   ],
   "source": [
    "\" \".join(l)"
   ]
  },
  {
   "cell_type": "code",
   "execution_count": 96,
   "id": "9f9abd6d-9f3a-4564-b8f7-71824cd251b9",
   "metadata": {},
   "outputs": [
    {
     "data": {
      "text/plain": [
       "'hello'"
      ]
     },
     "execution_count": 96,
     "metadata": {},
     "output_type": "execute_result"
    }
   ],
   "source": [
    "s"
   ]
  },
  {
   "cell_type": "code",
   "execution_count": 100,
   "id": "9414dcb5-9099-47c5-9a65-d3c0d3437f1a",
   "metadata": {},
   "outputs": [
    {
     "data": {
      "text/plain": [
       "'heLlo'"
      ]
     },
     "execution_count": 100,
     "metadata": {},
     "output_type": "execute_result"
    }
   ],
   "source": [
    "s.replace(\"l\",\"L\", 1)"
   ]
  },
  {
   "cell_type": "code",
   "execution_count": 103,
   "id": "ed79bf87-e5cb-4fb9-b080-89051f9d8577",
   "metadata": {},
   "outputs": [
    {
     "data": {
      "text/plain": [
       "'objecT supporT iTem assignmenT'"
      ]
     },
     "execution_count": 103,
     "metadata": {},
     "output_type": "execute_result"
    }
   ],
   "source": [
    "s_var.replace(\"t\", \"T\")"
   ]
  },
  {
   "cell_type": "code",
   "execution_count": 105,
   "id": "db6623ed-7cba-4bb4-ba62-778f349998e6",
   "metadata": {},
   "outputs": [
    {
     "data": {
      "text/plain": [
       "'objecT supporT item assignment'"
      ]
     },
     "execution_count": 105,
     "metadata": {},
     "output_type": "execute_result"
    }
   ],
   "source": [
    "s_var.replace(\"t\", \"T\", 2)"
   ]
  },
  {
   "cell_type": "markdown",
   "id": "6214fe3b-f2c4-4fdc-81bb-6678d11e1585",
   "metadata": {},
   "source": [
    "#### iterable"
   ]
  },
  {
   "cell_type": "code",
   "execution_count": 107,
   "id": "ea999797-4b11-440c-850d-8ddb892a7484",
   "metadata": {},
   "outputs": [
    {
     "data": {
      "text/plain": [
       "'object support item assignment'"
      ]
     },
     "execution_count": 107,
     "metadata": {},
     "output_type": "execute_result"
    }
   ],
   "source": [
    "s_var"
   ]
  },
  {
   "cell_type": "code",
   "execution_count": 108,
   "id": "3b0487a0-1890-49da-9e6e-aaac019ec3cd",
   "metadata": {},
   "outputs": [
    {
     "name": "stdout",
     "output_type": "stream",
     "text": [
      "o\n",
      "b\n",
      "j\n",
      "e\n",
      "c\n",
      "t\n",
      " \n",
      "s\n",
      "u\n",
      "p\n",
      "p\n",
      "o\n",
      "r\n",
      "t\n",
      " \n",
      "i\n",
      "t\n",
      "e\n",
      "m\n",
      " \n",
      "a\n",
      "s\n",
      "s\n",
      "i\n",
      "g\n",
      "n\n",
      "m\n",
      "e\n",
      "n\n",
      "t\n"
     ]
    }
   ],
   "source": [
    "for i in s_var:\n",
    "    print(i)"
   ]
  },
  {
   "cell_type": "code",
   "execution_count": 109,
   "id": "383d03ab-e421-401b-8257-971e3d6ebfbc",
   "metadata": {},
   "outputs": [
    {
     "data": {
      "text/plain": [
       "'hello'"
      ]
     },
     "execution_count": 109,
     "metadata": {},
     "output_type": "execute_result"
    }
   ],
   "source": [
    "s"
   ]
  },
  {
   "cell_type": "code",
   "execution_count": 114,
   "id": "c84944ae-ae4d-4cb9-b613-be110526e3cc",
   "metadata": {},
   "outputs": [],
   "source": [
    "s6 = \"hello Python\""
   ]
  },
  {
   "cell_type": "code",
   "execution_count": 116,
   "id": "66f2a122-70be-4fde-98a7-473a45dedb7e",
   "metadata": {},
   "outputs": [
    {
     "data": {
      "text/plain": [
       "False"
      ]
     },
     "execution_count": 116,
     "metadata": {},
     "output_type": "execute_result"
    }
   ],
   "source": [
    "s == s6 and s != s6"
   ]
  },
  {
   "cell_type": "code",
   "execution_count": 117,
   "id": "2e306ee2-26e4-4061-9ae9-3aac60a039c8",
   "metadata": {},
   "outputs": [
    {
     "data": {
      "text/plain": [
       "True"
      ]
     },
     "execution_count": 117,
     "metadata": {},
     "output_type": "execute_result"
    }
   ],
   "source": [
    "s == s6 or s != s6"
   ]
  },
  {
   "cell_type": "code",
   "execution_count": 118,
   "id": "b4f30691-bbdd-4a8c-9649-cbdd77d67bae",
   "metadata": {},
   "outputs": [
    {
     "data": {
      "text/plain": [
       "False"
      ]
     },
     "execution_count": 118,
     "metadata": {},
     "output_type": "execute_result"
    }
   ],
   "source": [
    "s is s6"
   ]
  },
  {
   "cell_type": "code",
   "execution_count": 119,
   "id": "c2acdc45-2c0e-4799-925b-83e1db183eb8",
   "metadata": {},
   "outputs": [
    {
     "data": {
      "text/plain": [
       "True"
      ]
     },
     "execution_count": 119,
     "metadata": {},
     "output_type": "execute_result"
    }
   ],
   "source": [
    "s in s6"
   ]
  },
  {
   "cell_type": "code",
   "execution_count": 122,
   "id": "806359f9-3348-4c85-b058-fb9bb534850d",
   "metadata": {},
   "outputs": [
    {
     "data": {
      "text/plain": [
       "'hello hello hello hello hello '"
      ]
     },
     "execution_count": 122,
     "metadata": {},
     "output_type": "execute_result"
    }
   ],
   "source": [
    "(s + \" \")*5"
   ]
  },
  {
   "cell_type": "code",
   "execution_count": 125,
   "id": "12e5ef07-9ee8-4c3a-83e2-16042bdb2e49",
   "metadata": {},
   "outputs": [
    {
     "data": {
      "text/plain": [
       "'3 4 5 2 3'"
      ]
     },
     "execution_count": 125,
     "metadata": {},
     "output_type": "execute_result"
    }
   ],
   "source": [
    "\" \".join('34523')"
   ]
  },
  {
   "cell_type": "code",
   "execution_count": null,
   "id": "bb1ae004-d172-41fd-94e5-e003e6839be3",
   "metadata": {},
   "outputs": [],
   "source": []
  }
 ],
 "metadata": {
  "kernelspec": {
   "display_name": "Python 3 (ipykernel)",
   "language": "python",
   "name": "python3"
  },
  "language_info": {
   "codemirror_mode": {
    "name": "ipython",
    "version": 3
   },
   "file_extension": ".py",
   "mimetype": "text/x-python",
   "name": "python",
   "nbconvert_exporter": "python",
   "pygments_lexer": "ipython3",
   "version": "3.11.7"
  }
 },
 "nbformat": 4,
 "nbformat_minor": 5
}
