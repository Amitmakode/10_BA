{
 "cells": [
  {
   "cell_type": "code",
   "execution_count": 1,
   "id": "68d294f6-de3e-443a-9634-c4ad1544d4d9",
   "metadata": {},
   "outputs": [],
   "source": [
    "# Creating a list of integers\n",
    "my_list = [1, 2, 3, 4, 5]\n",
    "\n",
    "# Creating a list of strings\n",
    "fruits = ['apple', 'banana', 'cherry']"
   ]
  },
  {
   "cell_type": "code",
   "execution_count": 2,
   "id": "5051ca1a-095e-4916-ac13-2ac5355ec7fc",
   "metadata": {},
   "outputs": [
    {
     "data": {
      "text/plain": [
       "[1, 2, 3, 4, 5]"
      ]
     },
     "execution_count": 2,
     "metadata": {},
     "output_type": "execute_result"
    }
   ],
   "source": [
    "my_list"
   ]
  },
  {
   "cell_type": "code",
   "execution_count": 3,
   "id": "5dc72828-147f-4274-a38e-04e09ebc3032",
   "metadata": {},
   "outputs": [
    {
     "data": {
      "text/plain": [
       "['apple', 'banana', 'cherry']"
      ]
     },
     "execution_count": 3,
     "metadata": {},
     "output_type": "execute_result"
    }
   ],
   "source": [
    "fruits"
   ]
  },
  {
   "cell_type": "markdown",
   "id": "e48f8718-e417-42a8-9e1d-b61da0e1d740",
   "metadata": {},
   "source": [
    "#### Indexing"
   ]
  },
  {
   "cell_type": "code",
   "execution_count": 4,
   "id": "6964b90a-09f6-4229-b6e6-b3d3c7642f11",
   "metadata": {},
   "outputs": [
    {
     "data": {
      "text/plain": [
       "3"
      ]
     },
     "execution_count": 4,
     "metadata": {},
     "output_type": "execute_result"
    }
   ],
   "source": [
    "my_list[2]"
   ]
  },
  {
   "cell_type": "code",
   "execution_count": 5,
   "id": "7bfbf353-0764-4c54-b2e6-d8ebd6afd0b0",
   "metadata": {},
   "outputs": [
    {
     "data": {
      "text/plain": [
       "4"
      ]
     },
     "execution_count": 5,
     "metadata": {},
     "output_type": "execute_result"
    }
   ],
   "source": [
    "my_list[-2]"
   ]
  },
  {
   "cell_type": "markdown",
   "id": "b3d9d19e-2ab3-4aa3-896a-1e811dd23cea",
   "metadata": {},
   "source": [
    "#### Slicing & Hashing"
   ]
  },
  {
   "cell_type": "code",
   "execution_count": 6,
   "id": "226dc649-652f-47ca-8330-c7c89437a112",
   "metadata": {},
   "outputs": [
    {
     "data": {
      "text/plain": [
       "[2, 3, 4, 5]"
      ]
     },
     "execution_count": 6,
     "metadata": {},
     "output_type": "execute_result"
    }
   ],
   "source": [
    "my_list[1:6]"
   ]
  },
  {
   "cell_type": "code",
   "execution_count": 7,
   "id": "4388744a-4ad8-4bd2-b245-cc248da18a67",
   "metadata": {},
   "outputs": [
    {
     "data": {
      "text/plain": [
       "[1, 2, 3, 4, 5]"
      ]
     },
     "execution_count": 7,
     "metadata": {},
     "output_type": "execute_result"
    }
   ],
   "source": [
    "my_list[:6]"
   ]
  },
  {
   "cell_type": "code",
   "execution_count": 8,
   "id": "b6eb3a1b-5f2e-44f6-be03-3dab6d8e3aba",
   "metadata": {},
   "outputs": [
    {
     "data": {
      "text/plain": [
       "[2, 4]"
      ]
     },
     "execution_count": 8,
     "metadata": {},
     "output_type": "execute_result"
    }
   ],
   "source": [
    "my_list[1:6:2]"
   ]
  },
  {
   "cell_type": "code",
   "execution_count": 9,
   "id": "c6c7fe48-66db-446d-ad1b-fafaa837266a",
   "metadata": {},
   "outputs": [
    {
     "data": {
      "text/plain": [
       "[5, 3, 1]"
      ]
     },
     "execution_count": 9,
     "metadata": {},
     "output_type": "execute_result"
    }
   ],
   "source": [
    "my_list[::-2]"
   ]
  },
  {
   "cell_type": "code",
   "execution_count": 10,
   "id": "4010c48f-5dca-4178-8d03-8fa84b428f4f",
   "metadata": {},
   "outputs": [
    {
     "data": {
      "text/plain": [
       "[5, 4, 3, 2, 1]"
      ]
     },
     "execution_count": 10,
     "metadata": {},
     "output_type": "execute_result"
    }
   ],
   "source": [
    "my_list[::-1]"
   ]
  },
  {
   "cell_type": "code",
   "execution_count": 11,
   "id": "52cd9c77-8cd5-418c-8544-b298cec2ec47",
   "metadata": {},
   "outputs": [
    {
     "data": {
      "text/plain": [
       "[1, 2, 3, 4, 5]"
      ]
     },
     "execution_count": 11,
     "metadata": {},
     "output_type": "execute_result"
    }
   ],
   "source": [
    "my_list[::]"
   ]
  },
  {
   "cell_type": "markdown",
   "id": "d6dbf166-600e-465b-a449-01d3f56a1124",
   "metadata": {},
   "source": [
    "#### Concatinate"
   ]
  },
  {
   "cell_type": "code",
   "execution_count": 12,
   "id": "708625a3-f3a5-42fa-b013-9f4a300387ae",
   "metadata": {},
   "outputs": [
    {
     "data": {
      "text/plain": [
       "[1, 2, 3, 4, 5, 'apple', 'banana', 'cherry']"
      ]
     },
     "execution_count": 12,
     "metadata": {},
     "output_type": "execute_result"
    }
   ],
   "source": [
    "my_list+fruits"
   ]
  },
  {
   "cell_type": "markdown",
   "id": "a814ac5c-59d7-45a3-9ab6-1200a330f4a3",
   "metadata": {},
   "source": [
    "#### Repeatation"
   ]
  },
  {
   "cell_type": "code",
   "execution_count": 13,
   "id": "be8387f2-9ae7-4b71-aaa9-7d07f15e4503",
   "metadata": {},
   "outputs": [
    {
     "data": {
      "text/plain": [
       "[1, 2, 3, 4, 5, 1, 2, 3, 4, 5, 1, 2, 3, 4, 5]"
      ]
     },
     "execution_count": 13,
     "metadata": {},
     "output_type": "execute_result"
    }
   ],
   "source": [
    "my_list*3"
   ]
  },
  {
   "cell_type": "markdown",
   "id": "d33e4cb5-08ab-49ea-9a14-81dd8d1e0964",
   "metadata": {},
   "source": [
    "#### Mutation"
   ]
  },
  {
   "cell_type": "code",
   "execution_count": 18,
   "id": "f1ff63fa-70f5-4d91-8965-18aad477fc05",
   "metadata": {},
   "outputs": [
    {
     "data": {
      "text/plain": [
       "[1, 2, 3, 4, 5]"
      ]
     },
     "execution_count": 18,
     "metadata": {},
     "output_type": "execute_result"
    }
   ],
   "source": [
    "my_list"
   ]
  },
  {
   "cell_type": "code",
   "execution_count": 19,
   "id": "9de411fb-da11-4c79-a67a-67292ae2c4f6",
   "metadata": {},
   "outputs": [],
   "source": [
    "my_list[1] = 22"
   ]
  },
  {
   "cell_type": "code",
   "execution_count": 20,
   "id": "47a9702a-0c78-4f8f-a213-1535dba5a520",
   "metadata": {},
   "outputs": [
    {
     "data": {
      "text/plain": [
       "[1, 22, 3, 4, 5]"
      ]
     },
     "execution_count": 20,
     "metadata": {},
     "output_type": "execute_result"
    }
   ],
   "source": [
    "my_list"
   ]
  },
  {
   "cell_type": "markdown",
   "id": "57a3b5fd-5c3a-4bee-86ac-81cedee004b5",
   "metadata": {},
   "source": [
    "#### Method"
   ]
  },
  {
   "cell_type": "code",
   "execution_count": 21,
   "id": "7a59d380-1f4e-4698-95f1-b20a30be5698",
   "metadata": {},
   "outputs": [
    {
     "data": {
      "text/plain": [
       "['__add__',\n",
       " '__class__',\n",
       " '__class_getitem__',\n",
       " '__contains__',\n",
       " '__delattr__',\n",
       " '__delitem__',\n",
       " '__dir__',\n",
       " '__doc__',\n",
       " '__eq__',\n",
       " '__format__',\n",
       " '__ge__',\n",
       " '__getattribute__',\n",
       " '__getitem__',\n",
       " '__getstate__',\n",
       " '__gt__',\n",
       " '__hash__',\n",
       " '__iadd__',\n",
       " '__imul__',\n",
       " '__init__',\n",
       " '__init_subclass__',\n",
       " '__iter__',\n",
       " '__le__',\n",
       " '__len__',\n",
       " '__lt__',\n",
       " '__mul__',\n",
       " '__ne__',\n",
       " '__new__',\n",
       " '__reduce__',\n",
       " '__reduce_ex__',\n",
       " '__repr__',\n",
       " '__reversed__',\n",
       " '__rmul__',\n",
       " '__setattr__',\n",
       " '__setitem__',\n",
       " '__sizeof__',\n",
       " '__str__',\n",
       " '__subclasshook__',\n",
       " 'append',\n",
       " 'clear',\n",
       " 'copy',\n",
       " 'count',\n",
       " 'extend',\n",
       " 'index',\n",
       " 'insert',\n",
       " 'pop',\n",
       " 'remove',\n",
       " 'reverse',\n",
       " 'sort']"
      ]
     },
     "execution_count": 21,
     "metadata": {},
     "output_type": "execute_result"
    }
   ],
   "source": [
    "dir(list)"
   ]
  },
  {
   "cell_type": "code",
   "execution_count": 27,
   "id": "76d54b09-ca75-452e-836b-a9489ad79737",
   "metadata": {},
   "outputs": [],
   "source": [
    "my_list.append([44])"
   ]
  },
  {
   "cell_type": "code",
   "execution_count": 30,
   "id": "b762b74a-5f0f-4055-8211-7f407231dbdd",
   "metadata": {},
   "outputs": [
    {
     "data": {
      "text/plain": [
       "[1, 22, 3, 4, 12, 6, 33, [44]]"
      ]
     },
     "execution_count": 30,
     "metadata": {},
     "output_type": "execute_result"
    }
   ],
   "source": [
    "my_list"
   ]
  },
  {
   "cell_type": "code",
   "execution_count": 29,
   "id": "bf3a36bb-0afd-4a48-aef2-32a31b00a614",
   "metadata": {},
   "outputs": [],
   "source": [
    "my_list[4] = 12"
   ]
  },
  {
   "cell_type": "code",
   "execution_count": 31,
   "id": "df78b345-6b81-44f9-a8e2-c95e33de75e1",
   "metadata": {},
   "outputs": [
    {
     "ename": "TypeError",
     "evalue": "'int' object is not iterable",
     "output_type": "error",
     "traceback": [
      "\u001b[1;31m---------------------------------------------------------------------------\u001b[0m",
      "\u001b[1;31mTypeError\u001b[0m                                 Traceback (most recent call last)",
      "Cell \u001b[1;32mIn[31], line 1\u001b[0m\n\u001b[1;32m----> 1\u001b[0m my_list\u001b[38;5;241m.\u001b[39mextend(\u001b[38;5;241m21\u001b[39m)\n",
      "\u001b[1;31mTypeError\u001b[0m: 'int' object is not iterable"
     ]
    }
   ],
   "source": [
    "my_list.extend(21)"
   ]
  },
  {
   "cell_type": "code",
   "execution_count": 32,
   "id": "2ed9635e-6695-43e5-9071-01ebd2a7af51",
   "metadata": {},
   "outputs": [],
   "source": [
    "my_list.extend([21])"
   ]
  },
  {
   "cell_type": "code",
   "execution_count": 33,
   "id": "2b01332e-e013-4885-a340-9ae7392ed2f0",
   "metadata": {},
   "outputs": [
    {
     "data": {
      "text/plain": [
       "[1, 22, 3, 4, 12, 6, 33, [44], 21]"
      ]
     },
     "execution_count": 33,
     "metadata": {},
     "output_type": "execute_result"
    }
   ],
   "source": [
    "my_list"
   ]
  },
  {
   "cell_type": "code",
   "execution_count": 34,
   "id": "e0fe8c62-1031-45f9-8079-fd136413dc9e",
   "metadata": {},
   "outputs": [],
   "source": [
    "my_list.extend(\"java\")"
   ]
  },
  {
   "cell_type": "code",
   "execution_count": 35,
   "id": "7b881db7-74d6-4d89-928a-abb691f55f26",
   "metadata": {},
   "outputs": [
    {
     "data": {
      "text/plain": [
       "[1, 22, 3, 4, 12, 6, 33, [44], 21, 'j', 'a', 'v', 'a']"
      ]
     },
     "execution_count": 35,
     "metadata": {},
     "output_type": "execute_result"
    }
   ],
   "source": [
    "my_list"
   ]
  },
  {
   "cell_type": "code",
   "execution_count": 36,
   "id": "25486db3-3cf1-45a0-a29a-b99b7bc73b97",
   "metadata": {},
   "outputs": [],
   "source": [
    "l1 = [2,3,4,5]"
   ]
  },
  {
   "cell_type": "code",
   "execution_count": 37,
   "id": "54e7db49-389f-464c-887c-3ae44a42934f",
   "metadata": {},
   "outputs": [
    {
     "data": {
      "text/plain": [
       "[2, 3, 4, 5]"
      ]
     },
     "execution_count": 37,
     "metadata": {},
     "output_type": "execute_result"
    }
   ],
   "source": [
    "l1"
   ]
  },
  {
   "cell_type": "code",
   "execution_count": 38,
   "id": "2b49d66c-ac7a-4c11-9a84-af6bb3d3f993",
   "metadata": {},
   "outputs": [],
   "source": [
    "l1.clear()"
   ]
  },
  {
   "cell_type": "code",
   "execution_count": 39,
   "id": "34571431-386d-442d-a76a-6a948a4a680a",
   "metadata": {},
   "outputs": [
    {
     "data": {
      "text/plain": [
       "[]"
      ]
     },
     "execution_count": 39,
     "metadata": {},
     "output_type": "execute_result"
    }
   ],
   "source": [
    "l1"
   ]
  },
  {
   "cell_type": "code",
   "execution_count": 41,
   "id": "283904e0-d8d8-4a4c-b5d9-380429ef56d0",
   "metadata": {},
   "outputs": [],
   "source": [
    "l2 = fruits.copy()"
   ]
  },
  {
   "cell_type": "code",
   "execution_count": 42,
   "id": "2ba4e4a1-9829-445f-b0e7-c23a423ed57f",
   "metadata": {},
   "outputs": [
    {
     "data": {
      "text/plain": [
       "['apple', 'banana', 'cherry']"
      ]
     },
     "execution_count": 42,
     "metadata": {},
     "output_type": "execute_result"
    }
   ],
   "source": [
    "l2"
   ]
  },
  {
   "cell_type": "code",
   "execution_count": 43,
   "id": "eaf300b5-88e0-4bef-863b-668890fc18d8",
   "metadata": {},
   "outputs": [
    {
     "data": {
      "text/plain": [
       "['apple', 'banana', 'cherry']"
      ]
     },
     "execution_count": 43,
     "metadata": {},
     "output_type": "execute_result"
    }
   ],
   "source": [
    "fruits"
   ]
  },
  {
   "cell_type": "code",
   "execution_count": 45,
   "id": "1e65e77b-16e2-430a-90b9-ea408fc0cf92",
   "metadata": {},
   "outputs": [
    {
     "data": {
      "text/plain": [
       "1"
      ]
     },
     "execution_count": 45,
     "metadata": {},
     "output_type": "execute_result"
    }
   ],
   "source": [
    "my_list.count(4)"
   ]
  },
  {
   "cell_type": "code",
   "execution_count": 47,
   "id": "4fa79b02-f7a1-466a-8ad9-404d2f054748",
   "metadata": {},
   "outputs": [
    {
     "data": {
      "text/plain": [
       "2"
      ]
     },
     "execution_count": 47,
     "metadata": {},
     "output_type": "execute_result"
    }
   ],
   "source": [
    "my_list.index(3)"
   ]
  },
  {
   "cell_type": "code",
   "execution_count": 48,
   "id": "50357992-7aca-4fd4-ad25-56847cc756d7",
   "metadata": {},
   "outputs": [
    {
     "data": {
      "text/plain": [
       "[1, 22, 3, 4, 12, 6, 33, [44], 21, 'j', 'a', 'v', 'a']"
      ]
     },
     "execution_count": 48,
     "metadata": {},
     "output_type": "execute_result"
    }
   ],
   "source": [
    "my_list"
   ]
  },
  {
   "cell_type": "code",
   "execution_count": 49,
   "id": "17c4c469-fdc3-4b27-a6e0-f8c49ce7fac1",
   "metadata": {},
   "outputs": [
    {
     "data": {
      "text/plain": [
       "'a'"
      ]
     },
     "execution_count": 49,
     "metadata": {},
     "output_type": "execute_result"
    }
   ],
   "source": [
    "my_list.pop()"
   ]
  },
  {
   "cell_type": "code",
   "execution_count": 50,
   "id": "40ab685d-a923-4dce-a383-337224b0838e",
   "metadata": {},
   "outputs": [
    {
     "data": {
      "text/plain": [
       "[1, 22, 3, 4, 12, 6, 33, [44], 21, 'j', 'a', 'v']"
      ]
     },
     "execution_count": 50,
     "metadata": {},
     "output_type": "execute_result"
    }
   ],
   "source": [
    "my_list"
   ]
  },
  {
   "cell_type": "code",
   "execution_count": 51,
   "id": "ab7d1a4c-b737-4758-8938-cd6b1c472cbf",
   "metadata": {},
   "outputs": [
    {
     "data": {
      "text/plain": [
       "'v'"
      ]
     },
     "execution_count": 51,
     "metadata": {},
     "output_type": "execute_result"
    }
   ],
   "source": [
    "my_list.pop()"
   ]
  },
  {
   "cell_type": "code",
   "execution_count": 53,
   "id": "b10c91f8-3b7e-4443-96cc-b25eec92822b",
   "metadata": {},
   "outputs": [],
   "source": [
    "my_list.remove([44])"
   ]
  },
  {
   "cell_type": "code",
   "execution_count": 54,
   "id": "2a96c9b4-e193-4d90-ab30-a4f0ceb07332",
   "metadata": {},
   "outputs": [
    {
     "data": {
      "text/plain": [
       "[1, 22, 3, 4, 12, 6, 33, 21, 'j', 'a']"
      ]
     },
     "execution_count": 54,
     "metadata": {},
     "output_type": "execute_result"
    }
   ],
   "source": [
    "my_list"
   ]
  },
  {
   "cell_type": "code",
   "execution_count": 57,
   "id": "135ae7f8-4a87-43d9-9094-cd63ea3c8b5c",
   "metadata": {},
   "outputs": [
    {
     "ename": "TypeError",
     "evalue": "list.remove() takes exactly one argument (2 given)",
     "output_type": "error",
     "traceback": [
      "\u001b[1;31m---------------------------------------------------------------------------\u001b[0m",
      "\u001b[1;31mTypeError\u001b[0m                                 Traceback (most recent call last)",
      "Cell \u001b[1;32mIn[57], line 1\u001b[0m\n\u001b[1;32m----> 1\u001b[0m my_list\u001b[38;5;241m.\u001b[39mremove(\u001b[38;5;124m\"\u001b[39m\u001b[38;5;124mj\u001b[39m\u001b[38;5;124m\"\u001b[39m, \u001b[38;5;241m6\u001b[39m)\n",
      "\u001b[1;31mTypeError\u001b[0m: list.remove() takes exactly one argument (2 given)"
     ]
    }
   ],
   "source": [
    "my_list.remove(\"j\", 6)"
   ]
  },
  {
   "cell_type": "code",
   "execution_count": 59,
   "id": "e50d272f-3bfd-41c4-9b68-4ea4acd8ac91",
   "metadata": {},
   "outputs": [],
   "source": [
    "my_list.insert(0, 11)"
   ]
  },
  {
   "cell_type": "code",
   "execution_count": 60,
   "id": "e303b50e-6f95-4a06-806a-bbe86bf9fcce",
   "metadata": {},
   "outputs": [
    {
     "data": {
      "text/plain": [
       "[11, 1, 22, 3, 4, 12, 6, 33, 21, 'j', 'a']"
      ]
     },
     "execution_count": 60,
     "metadata": {},
     "output_type": "execute_result"
    }
   ],
   "source": [
    "my_list"
   ]
  },
  {
   "cell_type": "code",
   "execution_count": 61,
   "id": "6c40e78d-d947-4786-b6d9-8e9bc7ff2e6f",
   "metadata": {},
   "outputs": [],
   "source": [
    "my_list.reverse()"
   ]
  },
  {
   "cell_type": "code",
   "execution_count": 62,
   "id": "7bfbf4bb-4dec-4837-a219-8432b8c2b450",
   "metadata": {},
   "outputs": [
    {
     "data": {
      "text/plain": [
       "['a', 'j', 21, 33, 6, 12, 4, 3, 22, 1, 11]"
      ]
     },
     "execution_count": 62,
     "metadata": {},
     "output_type": "execute_result"
    }
   ],
   "source": [
    "my_list"
   ]
  },
  {
   "cell_type": "code",
   "execution_count": 63,
   "id": "ffac4731-3f09-46da-99b2-8147ec6151a8",
   "metadata": {},
   "outputs": [
    {
     "ename": "TypeError",
     "evalue": "'<' not supported between instances of 'int' and 'str'",
     "output_type": "error",
     "traceback": [
      "\u001b[1;31m---------------------------------------------------------------------------\u001b[0m",
      "\u001b[1;31mTypeError\u001b[0m                                 Traceback (most recent call last)",
      "Cell \u001b[1;32mIn[63], line 1\u001b[0m\n\u001b[1;32m----> 1\u001b[0m my_list\u001b[38;5;241m.\u001b[39msort()\n",
      "\u001b[1;31mTypeError\u001b[0m: '<' not supported between instances of 'int' and 'str'"
     ]
    }
   ],
   "source": [
    "my_list.sort()"
   ]
  },
  {
   "cell_type": "code",
   "execution_count": 66,
   "id": "3d7620ea-7714-4dea-b9f3-50f10b7db391",
   "metadata": {},
   "outputs": [],
   "source": [
    "fruits.sort(reverse=True)"
   ]
  },
  {
   "cell_type": "code",
   "execution_count": 67,
   "id": "1e0c8e0b-c6a1-4773-9863-3bf74886a79e",
   "metadata": {},
   "outputs": [
    {
     "data": {
      "text/plain": [
       "['cherry', 'banana', 'apple']"
      ]
     },
     "execution_count": 67,
     "metadata": {},
     "output_type": "execute_result"
    }
   ],
   "source": [
    "fruits"
   ]
  },
  {
   "cell_type": "code",
   "execution_count": 75,
   "id": "f0a3354b-a377-4bf5-aad3-e17ee7d53404",
   "metadata": {},
   "outputs": [],
   "source": [
    "my_list = [1, 2, 3, 4, 5]"
   ]
  },
  {
   "cell_type": "code",
   "execution_count": 69,
   "id": "2f9f70b2-e31f-4b1c-b4d7-ca31dfae3445",
   "metadata": {},
   "outputs": [],
   "source": [
    "my_list.sort(reverse=True)"
   ]
  },
  {
   "cell_type": "code",
   "execution_count": 70,
   "id": "77541dca-e170-4a93-bc1e-6841f6fba911",
   "metadata": {},
   "outputs": [
    {
     "data": {
      "text/plain": [
       "[5, 4, 3, 2, 1]"
      ]
     },
     "execution_count": 70,
     "metadata": {},
     "output_type": "execute_result"
    }
   ],
   "source": [
    "my_list"
   ]
  },
  {
   "cell_type": "code",
   "execution_count": 71,
   "id": "a07deeb9-d5d2-4d7a-a5b4-071563e4256a",
   "metadata": {},
   "outputs": [],
   "source": [
    "l3 = [2,3,4]"
   ]
  },
  {
   "cell_type": "code",
   "execution_count": 72,
   "id": "98f99a06-6d5d-4be8-9d62-1778a0e58d95",
   "metadata": {},
   "outputs": [
    {
     "data": {
      "text/plain": [
       "False"
      ]
     },
     "execution_count": 72,
     "metadata": {},
     "output_type": "execute_result"
    }
   ],
   "source": [
    "l3 is my_list"
   ]
  },
  {
   "cell_type": "code",
   "execution_count": 73,
   "id": "eaff3d71-2bf5-49f5-a1f3-8ba8eaa97b87",
   "metadata": {},
   "outputs": [
    {
     "data": {
      "text/plain": [
       "True"
      ]
     },
     "execution_count": 73,
     "metadata": {},
     "output_type": "execute_result"
    }
   ],
   "source": [
    "l3 is not my_list"
   ]
  },
  {
   "cell_type": "code",
   "execution_count": 77,
   "id": "3b448789-c182-4f9c-a692-42960b6e2f73",
   "metadata": {},
   "outputs": [
    {
     "data": {
      "text/plain": [
       "False"
      ]
     },
     "execution_count": 77,
     "metadata": {},
     "output_type": "execute_result"
    }
   ],
   "source": [
    "l3 in my_list"
   ]
  },
  {
   "cell_type": "code",
   "execution_count": 78,
   "id": "00498108-3a8d-47ff-939f-3fb246b6627b",
   "metadata": {},
   "outputs": [
    {
     "data": {
      "text/plain": [
       "True"
      ]
     },
     "execution_count": 78,
     "metadata": {},
     "output_type": "execute_result"
    }
   ],
   "source": [
    "3 in my_list"
   ]
  },
  {
   "cell_type": "code",
   "execution_count": 79,
   "id": "83940a86-5924-429f-9e23-4bce2f5a54b5",
   "metadata": {},
   "outputs": [
    {
     "data": {
      "text/plain": [
       "False"
      ]
     },
     "execution_count": 79,
     "metadata": {},
     "output_type": "execute_result"
    }
   ],
   "source": [
    "l3 in my_list and 3 in my_list"
   ]
  },
  {
   "cell_type": "code",
   "execution_count": 80,
   "id": "bff86bb4-fc4e-432d-b207-3e9f2d0736a5",
   "metadata": {},
   "outputs": [
    {
     "data": {
      "text/plain": [
       "True"
      ]
     },
     "execution_count": 80,
     "metadata": {},
     "output_type": "execute_result"
    }
   ],
   "source": [
    "l3 in my_list or 3 in my_list"
   ]
  },
  {
   "cell_type": "code",
   "execution_count": 81,
   "id": "1e3fcc8b-2e7a-4b6e-9e9f-c781d0e42685",
   "metadata": {},
   "outputs": [
    {
     "name": "stdout",
     "output_type": "stream",
     "text": [
      "2\n",
      "3\n",
      "4\n"
     ]
    }
   ],
   "source": [
    "for i in l3:\n",
    "    print(i)"
   ]
  },
  {
   "cell_type": "code",
   "execution_count": null,
   "id": "71e1d7b1-0985-450f-a036-3fc9354c41f0",
   "metadata": {},
   "outputs": [],
   "source": []
  },
  {
   "cell_type": "markdown",
   "id": "512c90d8-adbb-4961-8bf0-98e0784df8a5",
   "metadata": {},
   "source": [
    "#### Tuple"
   ]
  },
  {
   "cell_type": "code",
   "execution_count": 82,
   "id": "f95e5e8a-9628-4ed0-ab9a-9ca06634e35b",
   "metadata": {},
   "outputs": [],
   "source": [
    "my_tup = (1,23,4, \"c++\")"
   ]
  },
  {
   "cell_type": "code",
   "execution_count": 83,
   "id": "553ac654-d4cb-4462-8674-61d3e43e613c",
   "metadata": {},
   "outputs": [
    {
     "data": {
      "text/plain": [
       "(1, 23, 4, 'c++')"
      ]
     },
     "execution_count": 83,
     "metadata": {},
     "output_type": "execute_result"
    }
   ],
   "source": [
    "my_tup"
   ]
  },
  {
   "cell_type": "markdown",
   "id": "0f85caf0-b50f-45d2-8b20-518be7ffeae1",
   "metadata": {},
   "source": [
    "#### indexing"
   ]
  },
  {
   "cell_type": "code",
   "execution_count": 84,
   "id": "a4f73f58-34d2-4737-ada0-5267dc59391a",
   "metadata": {},
   "outputs": [
    {
     "data": {
      "text/plain": [
       "'c++'"
      ]
     },
     "execution_count": 84,
     "metadata": {},
     "output_type": "execute_result"
    }
   ],
   "source": [
    "my_tup[3]"
   ]
  },
  {
   "cell_type": "code",
   "execution_count": 85,
   "id": "b1d149c0-495c-448a-972f-df4fc571a77b",
   "metadata": {},
   "outputs": [
    {
     "data": {
      "text/plain": [
       "4"
      ]
     },
     "execution_count": 85,
     "metadata": {},
     "output_type": "execute_result"
    }
   ],
   "source": [
    "my_tup[-2]"
   ]
  },
  {
   "cell_type": "markdown",
   "id": "156a2d14-d4bc-4f24-b022-5b13f6f957ce",
   "metadata": {},
   "source": [
    "#### Slicing & Hashing"
   ]
  },
  {
   "cell_type": "code",
   "execution_count": 86,
   "id": "d4543060-e943-4df5-803e-55ec92bc807e",
   "metadata": {},
   "outputs": [
    {
     "data": {
      "text/plain": [
       "(1, 23, 4, 'c++')"
      ]
     },
     "execution_count": 86,
     "metadata": {},
     "output_type": "execute_result"
    }
   ],
   "source": [
    "my_tup[:]"
   ]
  },
  {
   "cell_type": "code",
   "execution_count": 87,
   "id": "91731186-e824-4fdb-93c7-882301948750",
   "metadata": {},
   "outputs": [
    {
     "data": {
      "text/plain": [
       "(1, 23, 4)"
      ]
     },
     "execution_count": 87,
     "metadata": {},
     "output_type": "execute_result"
    }
   ],
   "source": [
    "my_tup[:3]"
   ]
  },
  {
   "cell_type": "code",
   "execution_count": 88,
   "id": "bf5d85bc-5197-499b-84ea-c48b743bdaac",
   "metadata": {},
   "outputs": [
    {
     "data": {
      "text/plain": [
       "('c++', 4, 23, 1)"
      ]
     },
     "execution_count": 88,
     "metadata": {},
     "output_type": "execute_result"
    }
   ],
   "source": [
    "my_tup[::-1]"
   ]
  },
  {
   "cell_type": "markdown",
   "id": "9fe67dfc-3fef-41e7-a4e7-3a92f84211a8",
   "metadata": {},
   "source": [
    "#### Concatination"
   ]
  },
  {
   "cell_type": "code",
   "execution_count": 89,
   "id": "fadc5400-3215-40bc-9370-ab33a5622d71",
   "metadata": {},
   "outputs": [
    {
     "data": {
      "text/plain": [
       "(1, 23, 4, 'c++', 1, 23, 4, 'c++')"
      ]
     },
     "execution_count": 89,
     "metadata": {},
     "output_type": "execute_result"
    }
   ],
   "source": [
    "my_tup + my_tup"
   ]
  },
  {
   "cell_type": "markdown",
   "id": "da0b7acb-cee4-4abd-9aeb-721c509c6fe6",
   "metadata": {},
   "source": [
    "#### Repeatation"
   ]
  },
  {
   "cell_type": "code",
   "execution_count": 90,
   "id": "27a60e86-b392-4a3c-88d1-fb6ad9111a44",
   "metadata": {},
   "outputs": [
    {
     "data": {
      "text/plain": [
       "(1, 23, 4, 'c++', 1, 23, 4, 'c++', 1, 23, 4, 'c++')"
      ]
     },
     "execution_count": 90,
     "metadata": {},
     "output_type": "execute_result"
    }
   ],
   "source": [
    "my_tup*3"
   ]
  },
  {
   "cell_type": "markdown",
   "id": "c7e60b87-36d3-43a1-8a97-909ab470035f",
   "metadata": {},
   "source": [
    "#### Mutation"
   ]
  },
  {
   "cell_type": "code",
   "execution_count": 91,
   "id": "7a4ebae5-6332-4e06-b802-e375378cac97",
   "metadata": {},
   "outputs": [
    {
     "ename": "TypeError",
     "evalue": "'tuple' object does not support item assignment",
     "output_type": "error",
     "traceback": [
      "\u001b[1;31m---------------------------------------------------------------------------\u001b[0m",
      "\u001b[1;31mTypeError\u001b[0m                                 Traceback (most recent call last)",
      "Cell \u001b[1;32mIn[91], line 1\u001b[0m\n\u001b[1;32m----> 1\u001b[0m my_tup[\u001b[38;5;241m2\u001b[39m] \u001b[38;5;241m=\u001b[39m \u001b[38;5;241m55\u001b[39m\n",
      "\u001b[1;31mTypeError\u001b[0m: 'tuple' object does not support item assignment"
     ]
    }
   ],
   "source": [
    "my_tup[2] = 55"
   ]
  },
  {
   "cell_type": "markdown",
   "id": "ce56ae9d-0ba1-45a3-8ffa-1294433f7bd4",
   "metadata": {},
   "source": [
    "#### Methods"
   ]
  },
  {
   "cell_type": "code",
   "execution_count": 92,
   "id": "28430ac7-d3d4-4703-9b70-ae810c26afea",
   "metadata": {},
   "outputs": [
    {
     "data": {
      "text/plain": [
       "['__add__',\n",
       " '__class__',\n",
       " '__class_getitem__',\n",
       " '__contains__',\n",
       " '__delattr__',\n",
       " '__dir__',\n",
       " '__doc__',\n",
       " '__eq__',\n",
       " '__format__',\n",
       " '__ge__',\n",
       " '__getattribute__',\n",
       " '__getitem__',\n",
       " '__getnewargs__',\n",
       " '__getstate__',\n",
       " '__gt__',\n",
       " '__hash__',\n",
       " '__init__',\n",
       " '__init_subclass__',\n",
       " '__iter__',\n",
       " '__le__',\n",
       " '__len__',\n",
       " '__lt__',\n",
       " '__mul__',\n",
       " '__ne__',\n",
       " '__new__',\n",
       " '__reduce__',\n",
       " '__reduce_ex__',\n",
       " '__repr__',\n",
       " '__rmul__',\n",
       " '__setattr__',\n",
       " '__sizeof__',\n",
       " '__str__',\n",
       " '__subclasshook__',\n",
       " 'count',\n",
       " 'index']"
      ]
     },
     "execution_count": 92,
     "metadata": {},
     "output_type": "execute_result"
    }
   ],
   "source": [
    "dir(tuple)"
   ]
  },
  {
   "cell_type": "code",
   "execution_count": 94,
   "id": "8de108dd-666e-49dc-9c8c-635090c8778f",
   "metadata": {},
   "outputs": [
    {
     "data": {
      "text/plain": [
       "1"
      ]
     },
     "execution_count": 94,
     "metadata": {},
     "output_type": "execute_result"
    }
   ],
   "source": [
    "my_tup.count(1)"
   ]
  },
  {
   "cell_type": "code",
   "execution_count": 95,
   "id": "6c1f6a86-01ef-4309-add3-0287d1634148",
   "metadata": {},
   "outputs": [
    {
     "data": {
      "text/plain": [
       "2"
      ]
     },
     "execution_count": 95,
     "metadata": {},
     "output_type": "execute_result"
    }
   ],
   "source": [
    "my_tup.index(4)"
   ]
  },
  {
   "cell_type": "code",
   "execution_count": 96,
   "id": "6cdfbf7a-3797-4345-b1a7-ce3ae0fda347",
   "metadata": {},
   "outputs": [
    {
     "ename": "ValueError",
     "evalue": "tuple.index(x): x not in tuple",
     "output_type": "error",
     "traceback": [
      "\u001b[1;31m---------------------------------------------------------------------------\u001b[0m",
      "\u001b[1;31mValueError\u001b[0m                                Traceback (most recent call last)",
      "Cell \u001b[1;32mIn[96], line 1\u001b[0m\n\u001b[1;32m----> 1\u001b[0m my_tup\u001b[38;5;241m.\u001b[39mindex(\u001b[38;5;241m99\u001b[39m)\n",
      "\u001b[1;31mValueError\u001b[0m: tuple.index(x): x not in tuple"
     ]
    }
   ],
   "source": [
    "my_tup.index(99)"
   ]
  },
  {
   "cell_type": "code",
   "execution_count": 97,
   "id": "9f348b7f-fbbe-4b0f-8cf1-51f4a6291cbf",
   "metadata": {},
   "outputs": [
    {
     "data": {
      "text/plain": [
       "0"
      ]
     },
     "execution_count": 97,
     "metadata": {},
     "output_type": "execute_result"
    }
   ],
   "source": [
    "my_tup.count(11)"
   ]
  },
  {
   "cell_type": "code",
   "execution_count": 98,
   "id": "03b570d4-8462-41a2-aefd-ac5ffdd0b8e3",
   "metadata": {},
   "outputs": [],
   "source": [
    "tup = (\"a\", \"b\", \"c\", \"d\")"
   ]
  },
  {
   "cell_type": "code",
   "execution_count": 99,
   "id": "9806bda4-f4c7-4e40-891c-6db581f45865",
   "metadata": {},
   "outputs": [],
   "source": [
    "tup1 = (\"a\", \"b\")"
   ]
  },
  {
   "cell_type": "code",
   "execution_count": 100,
   "id": "dd3a0fcd-c514-4494-9e78-a34b1192a6cf",
   "metadata": {},
   "outputs": [
    {
     "data": {
      "text/plain": [
       "False"
      ]
     },
     "execution_count": 100,
     "metadata": {},
     "output_type": "execute_result"
    }
   ],
   "source": [
    "tup1 is tup"
   ]
  },
  {
   "cell_type": "code",
   "execution_count": 101,
   "id": "dd89c92a-93e1-49f3-9ec0-f41a93594059",
   "metadata": {},
   "outputs": [
    {
     "data": {
      "text/plain": [
       "False"
      ]
     },
     "execution_count": 101,
     "metadata": {},
     "output_type": "execute_result"
    }
   ],
   "source": [
    "tup1 in tup"
   ]
  },
  {
   "cell_type": "code",
   "execution_count": 103,
   "id": "2c16fdd8-9486-4c31-bee7-0ec3c2ac3bbc",
   "metadata": {},
   "outputs": [
    {
     "data": {
      "text/plain": [
       "('a', True)"
      ]
     },
     "execution_count": 103,
     "metadata": {},
     "output_type": "execute_result"
    }
   ],
   "source": [
    "\"a\", \"b\" in tup"
   ]
  },
  {
   "cell_type": "code",
   "execution_count": 105,
   "id": "ea7ffa24-7e6f-4790-b12c-b548b8cc6024",
   "metadata": {},
   "outputs": [
    {
     "name": "stdout",
     "output_type": "stream",
     "text": [
      "a\n",
      "b\n",
      "c\n",
      "d\n"
     ]
    }
   ],
   "source": [
    "for i in tup:\n",
    "    print(i)"
   ]
  },
  {
   "cell_type": "code",
   "execution_count": 112,
   "id": "fd73dda8-0518-44cc-b2c0-b7cbf7cebef7",
   "metadata": {},
   "outputs": [],
   "source": [
    "l5 = [1,3,(\"a\", \"b\"), [44, (True, False), 77]]"
   ]
  },
  {
   "cell_type": "code",
   "execution_count": 111,
   "id": "4228afdc-d13a-40d7-b1aa-734c2fe2377a",
   "metadata": {},
   "outputs": [
    {
     "data": {
      "text/plain": [
       "44"
      ]
     },
     "execution_count": 111,
     "metadata": {},
     "output_type": "execute_result"
    }
   ],
   "source": [
    "l5[3][0]"
   ]
  },
  {
   "cell_type": "code",
   "execution_count": 113,
   "id": "7f9c0b12-ec45-46c0-9115-ffbca3dc6c56",
   "metadata": {},
   "outputs": [
    {
     "data": {
      "text/plain": [
       "[1, 3, ('a', 'b'), [44, (True, False), 77]]"
      ]
     },
     "execution_count": 113,
     "metadata": {},
     "output_type": "execute_result"
    }
   ],
   "source": [
    "l5"
   ]
  },
  {
   "cell_type": "code",
   "execution_count": 116,
   "id": "d1c37700-e716-46dd-b533-15db55270d10",
   "metadata": {},
   "outputs": [
    {
     "data": {
      "text/plain": [
       "False"
      ]
     },
     "execution_count": 116,
     "metadata": {},
     "output_type": "execute_result"
    }
   ],
   "source": [
    "l5[3][1][1]"
   ]
  },
  {
   "cell_type": "code",
   "execution_count": null,
   "id": "f6c75311-6560-43b6-844e-d5db90fb7aa5",
   "metadata": {},
   "outputs": [],
   "source": []
  }
 ],
 "metadata": {
  "kernelspec": {
   "display_name": "Python 3 (ipykernel)",
   "language": "python",
   "name": "python3"
  },
  "language_info": {
   "codemirror_mode": {
    "name": "ipython",
    "version": 3
   },
   "file_extension": ".py",
   "mimetype": "text/x-python",
   "name": "python",
   "nbconvert_exporter": "python",
   "pygments_lexer": "ipython3",
   "version": "3.11.7"
  }
 },
 "nbformat": 4,
 "nbformat_minor": 5
}
